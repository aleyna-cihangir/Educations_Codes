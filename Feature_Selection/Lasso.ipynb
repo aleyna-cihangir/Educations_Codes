{
 "cells": [
  {
   "cell_type": "markdown",
   "id": "17cb789e-8fd1-4d85-bb1f-acd7b53aa38f",
   "metadata": {},
   "source": [
    "#### **Libraries**"
   ]
  },
  {
   "cell_type": "code",
   "execution_count": 1,
   "id": "fa6aca5a-af3e-46ab-91c0-c4684a07c3b8",
   "metadata": {},
   "outputs": [],
   "source": [
    "import pandas as pd\n",
    "import numpy as np\n",
    "import matplotlib.pyplot as plt\n",
    "from sklearn.model_selection import train_test_split\n",
    "from sklearn.linear_model import Lasso, LogisticRegression\n",
    "from sklearn.feature_selection import SelectFromModel\n",
    "from sklearn.preprocessing import StandardScaler\n",
    "from termcolor import colored, cprint"
   ]
  },
  {
   "cell_type": "markdown",
   "id": "6c6a4c62-d0af-4caa-91b7-4e820482d1b7",
   "metadata": {
    "tags": []
   },
   "source": [
    "#### **Datasets and Analytics**"
   ]
  },
  {
   "cell_type": "code",
   "execution_count": 2,
   "id": "8f77fbee-4463-490c-9755-de274c3bae20",
   "metadata": {},
   "outputs": [
    {
     "name": "stdout",
     "output_type": "stream",
     "text": [
      "\u001b[34mDatasets Shape: \u001b[0m (50000, 109)\n"
     ]
    }
   ],
   "source": [
    "data2 = pd.read_csv(r'C:\\Users\\AleynaCihangir\\Desktop\\MarketPlace PowerBrands Projects\\00_Literature\\dataset_2.csv')\n",
    "print(colored('Datasets Shape: ','blue'), data2.shape)"
   ]
  },
  {
   "cell_type": "code",
   "execution_count": 3,
   "id": "bfe74f02-6f14-42c1-8e2c-2a64db50c96d",
   "metadata": {},
   "outputs": [
    {
     "name": "stdout",
     "output_type": "stream",
     "text": [
      "\u001b[34mShape for X train and X test:\u001b[0m (35000, 108) (15000, 108)\n"
     ]
    }
   ],
   "source": [
    "X_train, X_test, y_train, y_test = train_test_split(\n",
    "    data2.drop(labels=['target'], axis=1),\n",
    "    data2['target'],\n",
    "    test_size=0.3,\n",
    "    random_state=0)\n",
    "print(colored('Shape for X train and X test:', 'blue'), X_train.shape, X_test.shape)"
   ]
  },
  {
   "cell_type": "code",
   "execution_count": 4,
   "id": "4a78a818-6c28-4cff-8a39-8e7d09dab942",
   "metadata": {},
   "outputs": [
    {
     "name": "stdout",
     "output_type": "stream",
     "text": [
      "\u001b[34mScaler Fit: \u001b[0m StandardScaler()\n",
      "\u001b[34mScaler Fit Transform: \u001b[0m SelectFromModel(estimator=LogisticRegression(C=0.5, penalty='l1',\n",
      "                                             random_state=10,\n",
      "                                             solver='liblinear'))\n",
      "total features: 108\n",
      "selected features: 93\n",
      "features with coefficients shrank to zero: 15\n"
     ]
    }
   ],
   "source": [
    "scaler = StandardScaler()\n",
    "print(colored('Scaler Fit: ', 'blue'), scaler.fit(X_train))\n",
    "sel_ = SelectFromModel(\n",
    "    LogisticRegression(C=0.5, penalty='l1', solver='liblinear', random_state=10))\n",
    "print(colored('Scaler Fit Transform: ', 'blue'), sel_.fit(scaler.transform(X_train), y_train))\n",
    "selected_feat = X_train.columns[(sel_.get_support())]\n",
    "print('total features: {}'.format((X_train.shape[1])))\n",
    "print('selected features: {}'.format(len(selected_feat)))\n",
    "print('features with coefficients shrank to zero: {}'.format(np.sum(sel_.estimator_.coef_ == 0)))"
   ]
  },
  {
   "cell_type": "code",
   "execution_count": 5,
   "id": "0dada0e3-237a-4226-8e99-0153b318966f",
   "metadata": {},
   "outputs": [
    {
     "name": "stdout",
     "output_type": "stream",
     "text": [
      "\u001b[34mShape for X train and X test:\u001b[0m (35000, 93) (15000, 93)\n"
     ]
    },
    {
     "name": "stderr",
     "output_type": "stream",
     "text": [
      "C:\\Users\\AleynaCihangir\\anaconda3\\lib\\site-packages\\sklearn\\base.py:443: UserWarning: X has feature names, but SelectFromModel was fitted without feature names\n",
      "  warnings.warn(\n",
      "C:\\Users\\AleynaCihangir\\anaconda3\\lib\\site-packages\\sklearn\\base.py:443: UserWarning: X has feature names, but SelectFromModel was fitted without feature names\n",
      "  warnings.warn(\n"
     ]
    }
   ],
   "source": [
    "removed_feats = X_train.columns[(sel_.estimator_.coef_ == 0).ravel().tolist()]\n",
    "X_train_selected = sel_.transform(X_train)\n",
    "X_test_selected = sel_.transform(X_test)\n",
    "print(colored('Shape for X train and X test:', 'blue'), X_train_selected.shape, X_test_selected.shape)"
   ]
  },
  {
   "cell_type": "code",
   "execution_count": 7,
   "id": "726b6eeb-d2a1-417b-9f27-97286e9f3d69",
   "metadata": {},
   "outputs": [
    {
     "name": "stdout",
     "output_type": "stream",
     "text": [
      "\u001b[34mCoef:\u001b[0m 0\n"
     ]
    }
   ],
   "source": [
    "l1_logit = LogisticRegression(C=0.5, penalty='l2', max_iter=300, random_state=10)\n",
    "l1_logit.fit(scaler.transform(X_train), y_train)\n",
    "print(colored('Coef:', 'blue'), np.sum(l1_logit.coef_ == 0))"
   ]
  },
  {
   "cell_type": "code",
   "execution_count": null,
   "id": "60002a9d-0def-47a5-a295-bd3049df7c6f",
   "metadata": {},
   "outputs": [],
   "source": []
  }
 ],
 "metadata": {
  "kernelspec": {
   "display_name": "Python 3 (ipykernel)",
   "language": "python",
   "name": "python3"
  },
  "language_info": {
   "codemirror_mode": {
    "name": "ipython",
    "version": 3
   },
   "file_extension": ".py",
   "mimetype": "text/x-python",
   "name": "python",
   "nbconvert_exporter": "python",
   "pygments_lexer": "ipython3",
   "version": "3.9.12"
  }
 },
 "nbformat": 4,
 "nbformat_minor": 5
}
