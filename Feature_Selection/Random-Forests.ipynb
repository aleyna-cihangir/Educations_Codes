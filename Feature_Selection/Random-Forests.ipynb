{
 "cells": [
  {
   "cell_type": "markdown",
   "id": "17cb789e-8fd1-4d85-bb1f-acd7b53aa38f",
   "metadata": {},
   "source": [
    "#### **Libraries**"
   ]
  },
  {
   "cell_type": "code",
   "execution_count": 8,
   "id": "fa6aca5a-af3e-46ab-91c0-c4684a07c3b8",
   "metadata": {},
   "outputs": [],
   "source": [
    "import pandas as pd\n",
    "import numpy as np\n",
    "import matplotlib.pyplot as plt\n",
    "from sklearn.feature_selection import VarianceThreshold\n",
    "from sklearn.ensemble import RandomForestClassifier\n",
    "from sklearn.feature_selection import SelectFromModel\n",
    "from sklearn.metrics import roc_auc_score\n",
    "from termcolor import colored, cprint"
   ]
  },
  {
   "cell_type": "markdown",
   "id": "6c6a4c62-d0af-4caa-91b7-4e820482d1b7",
   "metadata": {
    "tags": []
   },
   "source": [
    "#### **Datasets and Analytics**"
   ]
  },
  {
   "cell_type": "code",
   "execution_count": 10,
   "id": "8f77fbee-4463-490c-9755-de274c3bae20",
   "metadata": {},
   "outputs": [
    {
     "name": "stdout",
     "output_type": "stream",
     "text": [
      "\u001b[34mDatasets Shape: \u001b[0m (50000, 301)\n"
     ]
    }
   ],
   "source": [
    "data1 = pd.read_csv(r'C:\\Users\\AleynaCihangir\\Desktop\\MarketPlace PowerBrands Projects\\00_Literature\\dataset_1.csv')\n",
    "print(colored('Datasets Shape: ','blue'), data1.shape)"
   ]
  },
  {
   "cell_type": "code",
   "execution_count": 11,
   "id": "bfe74f02-6f14-42c1-8e2c-2a64db50c96d",
   "metadata": {},
   "outputs": [
    {
     "name": "stdout",
     "output_type": "stream",
     "text": [
      "\u001b[34mShape for X train and X test:\u001b[0m (35000, 300) (15000, 300)\n"
     ]
    }
   ],
   "source": [
    "X_train, X_test, y_train, y_test = train_test_split(\n",
    "    data1.drop(labels=['target'], axis=1),\n",
    "    data1['target'],\n",
    "    test_size=0.3,\n",
    "    random_state=0)\n",
    "print(colored('Shape for X train and X test:', 'blue'), X_train.shape, X_test.shape)"
   ]
  },
  {
   "cell_type": "code",
   "execution_count": 12,
   "id": "327e7870-14ba-4da5-93c5-9697b622efae",
   "metadata": {},
   "outputs": [
    {
     "name": "stdout",
     "output_type": "stream",
     "text": [
      "\u001b[34mShape for X train and X test:\u001b[0m (35000, 266) (15000, 266)\n"
     ]
    }
   ],
   "source": [
    "X_train_original = X_train.copy()\n",
    "X_test_original = X_test.copy()\n",
    "constant_features = [feat for feat in X_train.columns if X_train[feat].std() == 0]\n",
    "X_train.drop(labels=constant_features, axis=1, inplace=True)\n",
    "X_test.drop(labels=constant_features, axis=1, inplace=True)\n",
    "print(colored('Shape for X train and X test:', 'blue'), X_train.shape, X_test.shape)"
   ]
  },
  {
   "cell_type": "code",
   "execution_count": 13,
   "id": "4a78a818-6c28-4cff-8a39-8e7d09dab942",
   "metadata": {},
   "outputs": [
    {
     "name": "stdout",
     "output_type": "stream",
     "text": [
      "\u001b[34mSum of Support:\u001b[0m 215\n",
      "\u001b[34mShape for X train and X test:\u001b[0m (35000, 215) (15000, 215)\n"
     ]
    }
   ],
   "source": [
    "sel = VarianceThreshold(threshold=0.01)  \n",
    "sel.fit(X_train)  \n",
    "print(colored('Sum of Support:', 'blue'),sum(sel.get_support()))\n",
    "features_to_keep = X_train.columns[sel.get_support()]\n",
    "X_train = sel.transform(X_train)\n",
    "X_test = sel.transform(X_test)\n",
    "print(colored('Shape for X train and X test:', 'blue'), X_train.shape, X_test.shape)\n",
    "X_train= pd.DataFrame(X_train)\n",
    "X_train.columns = features_to_keep\n",
    "X_test= pd.DataFrame(X_test)\n",
    "X_test.columns = features_to_keep"
   ]
  },
  {
   "cell_type": "code",
   "execution_count": 14,
   "id": "0dada0e3-237a-4226-8e99-0153b318966f",
   "metadata": {},
   "outputs": [
    {
     "name": "stdout",
     "output_type": "stream",
     "text": [
      "0\n",
      "10\n",
      "20\n",
      "30\n",
      "40\n",
      "50\n",
      "60\n",
      "70\n",
      "80\n",
      "90\n",
      "100\n",
      "110\n",
      "120\n",
      "130\n",
      "140\n",
      "150\n",
      "160\n",
      "170\n",
      "180\n",
      "190\n",
      "200\n",
      "210\n"
     ]
    },
    {
     "data": {
      "text/plain": [
       "10"
      ]
     },
     "execution_count": 14,
     "metadata": {},
     "output_type": "execute_result"
    }
   ],
   "source": [
    "duplicated_feat = []\n",
    "for i in range(0, len(X_train.columns)):\n",
    "    if i % 10 == 0: \n",
    "        print(i)\n",
    "    col_1 = X_train.columns[i]\n",
    "    for col_2 in X_train.columns[i + 1:]:\n",
    "        if X_train[col_1].equals(X_train[col_2]):\n",
    "            duplicated_feat.append(col_2)          \n",
    "len(duplicated_feat)"
   ]
  },
  {
   "cell_type": "code",
   "execution_count": 15,
   "id": "726b6eeb-d2a1-417b-9f27-97286e9f3d69",
   "metadata": {},
   "outputs": [
    {
     "name": "stdout",
     "output_type": "stream",
     "text": [
      "\u001b[34mShape for X train and X test:\u001b[0m (35000, 205) (15000, 205)\n",
      "\u001b[34mcorrelated features: \u001b[0m 93\n",
      "\u001b[34mShape for X train and X test:\u001b[0m (35000, 112) (15000, 112)\n"
     ]
    }
   ],
   "source": [
    "X_train.drop(labels=duplicated_feat, axis=1, inplace=True)\n",
    "X_test.drop(labels=duplicated_feat, axis=1, inplace=True)\n",
    "print(colored('Shape for X train and X test:', 'blue'), X_train.shape, X_test.shape)\n",
    "X_train_basic_filter = X_train.copy()\n",
    "X_test_basic_filter = X_test.copy()\n",
    "def correlation(dataset, threshold):\n",
    "    col_corr = set() \n",
    "    corr_matrix = dataset.corr()\n",
    "    for i in range(len(corr_matrix.columns)):\n",
    "        for j in range(i):\n",
    "            if abs(corr_matrix.iloc[i, j]) > threshold:\n",
    "                colname = corr_matrix.columns[i]  \n",
    "                col_corr.add(colname)\n",
    "    return col_corr\n",
    "corr_features = correlation(X_train, 0.8)\n",
    "print(colored('correlated features: ', 'blue'), len(set(corr_features)))\n",
    "# removed correlated  features\n",
    "X_train.drop(labels=corr_features, axis=1, inplace=True)\n",
    "X_test.drop(labels=corr_features, axis=1, inplace=True)\n",
    "print(colored('Shape for X train and X test:', 'blue'), X_train.shape, X_test.shape)"
   ]
  },
  {
   "cell_type": "code",
   "execution_count": 16,
   "id": "60002a9d-0def-47a5-a295-bd3049df7c6f",
   "metadata": {},
   "outputs": [
    {
     "name": "stdout",
     "output_type": "stream",
     "text": [
      "\u001b[34mShape for X train_rf and X test_rf:\u001b[0m (35000, 16) (15000, 16)\n"
     ]
    }
   ],
   "source": [
    "X_train_corr = X_train.copy()\n",
    "X_test_corr = X_test.copy()\n",
    "sel_ = SelectFromModel(RandomForestClassifier(n_estimators=50, random_state=10))\n",
    "sel_.fit(X_train, y_train)\n",
    "X_train_rf = pd.DataFrame(sel_.transform(X_train))\n",
    "X_test_rf = pd.DataFrame(sel_.transform(X_test))\n",
    "X_train_rf.columns = X_train.columns[(sel_.get_support())]\n",
    "X_test_rf.columns = X_train.columns[(sel_.get_support())]\n",
    "print(colored('Shape for X train_rf and X test_rf:', 'blue'), X_train_rf.shape, X_test_rf.shape)"
   ]
  },
  {
   "cell_type": "code",
   "execution_count": 17,
   "id": "8ff44e23-1426-44b5-88a4-f6cc544a3806",
   "metadata": {},
   "outputs": [],
   "source": [
    "def run_randomForests(X_train, X_test, y_train, y_test):\n",
    "    rf = RandomForestClassifier(n_estimators=200, random_state=39, max_depth=4)\n",
    "    rf.fit(X_train, y_train)\n",
    "    print(colored('Train set', 'red'))\n",
    "    pred = rf.predict_proba(X_train)\n",
    "    print('Random Forests roc-auc: {}'.format(roc_auc_score(y_train, pred[:,1])))\n",
    "    print(colored('Test set', 'red'))\n",
    "    pred = rf.predict_proba(X_test)\n",
    "    print('Random Forests roc-auc: {}'.format(roc_auc_score(y_test, pred[:,1])))"
   ]
  },
  {
   "cell_type": "code",
   "execution_count": 18,
   "id": "695f1261-ed58-44b3-acba-fa66a2a3e011",
   "metadata": {},
   "outputs": [
    {
     "name": "stdout",
     "output_type": "stream",
     "text": [
      "\u001b[31mTrain set\u001b[0m\n",
      "Random Forests roc-auc: 0.807612232524249\n",
      "\u001b[31mTest set\u001b[0m\n",
      "Random Forests roc-auc: 0.7868832427636059\n"
     ]
    }
   ],
   "source": [
    "run_randomForests(X_train_original, X_test_original, y_train, y_test)"
   ]
  },
  {
   "cell_type": "code",
   "execution_count": 19,
   "id": "43be8831-747f-43d8-8ae3-7e4ea25e335f",
   "metadata": {},
   "outputs": [
    {
     "name": "stdout",
     "output_type": "stream",
     "text": [
      "\u001b[31mTrain set\u001b[0m\n",
      "Random Forests roc-auc: 0.810290026780428\n",
      "\u001b[31mTest set\u001b[0m\n",
      "Random Forests roc-auc: 0.7914020645941601\n"
     ]
    }
   ],
   "source": [
    "run_randomForests(X_train_basic_filter, X_test_basic_filter, y_train, y_test)"
   ]
  },
  {
   "cell_type": "code",
   "execution_count": 20,
   "id": "f4da378c-406a-437d-95b9-5905ca747506",
   "metadata": {},
   "outputs": [
    {
     "name": "stdout",
     "output_type": "stream",
     "text": [
      "\u001b[31mTrain set\u001b[0m\n",
      "Random Forests roc-auc: 0.8066004772684517\n",
      "\u001b[31mTest set\u001b[0m\n",
      "Random Forests roc-auc: 0.7859521124929707\n"
     ]
    }
   ],
   "source": [
    "run_randomForests(X_train_corr, X_test_corr, y_train, y_test)"
   ]
  },
  {
   "cell_type": "code",
   "execution_count": 21,
   "id": "5e417b15-b940-4932-867f-901b8c2897e0",
   "metadata": {},
   "outputs": [
    {
     "name": "stdout",
     "output_type": "stream",
     "text": [
      "\u001b[31mTrain set\u001b[0m\n",
      "Random Forests roc-auc: 0.8066004772684517\n",
      "\u001b[31mTest set\u001b[0m\n",
      "Random Forests roc-auc: 0.7859521124929707\n"
     ]
    }
   ],
   "source": [
    "run_randomForests(X_train_corr, X_test_corr, y_train, y_test)"
   ]
  },
  {
   "cell_type": "code",
   "execution_count": 22,
   "id": "735d1cf9-041e-4d89-92e5-4378afeb42ac",
   "metadata": {},
   "outputs": [
    {
     "name": "stdout",
     "output_type": "stream",
     "text": [
      "\u001b[31mTrain set\u001b[0m\n",
      "Random Forests roc-auc: 0.825594244784318\n",
      "\u001b[31mTest set\u001b[0m\n",
      "Random Forests roc-auc: 0.8037861254524954\n"
     ]
    }
   ],
   "source": [
    "run_randomForests(X_train_rf, X_test_rf, y_train, y_test)"
   ]
  },
  {
   "cell_type": "code",
   "execution_count": null,
   "id": "920b75fa-67e8-4d18-bf07-e15d31548c2c",
   "metadata": {},
   "outputs": [],
   "source": []
  }
 ],
 "metadata": {
  "kernelspec": {
   "display_name": "Python 3 (ipykernel)",
   "language": "python",
   "name": "python3"
  },
  "language_info": {
   "codemirror_mode": {
    "name": "ipython",
    "version": 3
   },
   "file_extension": ".py",
   "mimetype": "text/x-python",
   "name": "python",
   "nbconvert_exporter": "python",
   "pygments_lexer": "ipython3",
   "version": "3.9.12"
  }
 },
 "nbformat": 4,
 "nbformat_minor": 5
}
