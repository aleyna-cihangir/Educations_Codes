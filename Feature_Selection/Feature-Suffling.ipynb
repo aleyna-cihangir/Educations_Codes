{
 "cells": [
  {
   "cell_type": "markdown",
   "id": "17cb789e-8fd1-4d85-bb1f-acd7b53aa38f",
   "metadata": {},
   "source": [
    "#### **Libraries**"
   ]
  },
  {
   "cell_type": "code",
   "execution_count": 23,
   "id": "fa6aca5a-af3e-46ab-91c0-c4684a07c3b8",
   "metadata": {},
   "outputs": [],
   "source": [
    "import pandas as pd\n",
    "import numpy as np\n",
    "from sklearn.ensemble import RandomForestClassifier, RandomForestRegressor\n",
    "from sklearn.metrics import roc_auc_score, mean_squared_error, r2_score\n",
    "from sklearn.model_selection import train_test_split\n",
    "from feature_engine.selection import SelectByShuffling\n",
    "from termcolor import colored, cprint"
   ]
  },
  {
   "cell_type": "markdown",
   "id": "6c6a4c62-d0af-4caa-91b7-4e820482d1b7",
   "metadata": {
    "tags": []
   },
   "source": [
    "#### **Datasets and Analytics**"
   ]
  },
  {
   "cell_type": "code",
   "execution_count": 10,
   "id": "8f77fbee-4463-490c-9755-de274c3bae20",
   "metadata": {},
   "outputs": [
    {
     "name": "stdout",
     "output_type": "stream",
     "text": [
      "\u001b[34mDatasets Shape: \u001b[0m (50000, 301)\n"
     ]
    }
   ],
   "source": [
    "data2 = pd.read_csv(r'C:\\Users\\AleynaCihangir\\Desktop\\MarketPlace PowerBrands Projects\\00_Literature\\dataset_2.csv')\n",
    "print(colored('Datasets Shape: ','blue'), data2.shape)"
   ]
  },
  {
   "cell_type": "code",
   "execution_count": 24,
   "id": "bfe74f02-6f14-42c1-8e2c-2a64db50c96d",
   "metadata": {},
   "outputs": [
    {
     "name": "stdout",
     "output_type": "stream",
     "text": [
      "\u001b[34mShape for X train and X test:\u001b[0m (35000, 108) (15000, 108)\n"
     ]
    }
   ],
   "source": [
    "X_train, X_test, y_train, y_test = train_test_split(\n",
    "    data2.drop(labels=['target'], axis=1),\n",
    "    data2['target'],\n",
    "    test_size=0.3,\n",
    "    random_state=0)\n",
    "print(colored('Shape for X train and X test:', 'blue'), X_train.shape, X_test.shape)"
   ]
  },
  {
   "cell_type": "code",
   "execution_count": 28,
   "id": "327e7870-14ba-4da5-93c5-9697b622efae",
   "metadata": {},
   "outputs": [
    {
     "name": "stdout",
     "output_type": "stream",
     "text": [
      "\u001b[34mModel Fit: \u001b[0m SelectByShuffling(estimator=RandomForestClassifier(max_depth=2, n_estimators=50,\n",
      "                                                   n_jobs=4,\n",
      "                                                   random_state=2909),\n",
      "                  random_state=1, threshold=0)\n",
      "\u001b[34mModel Performance: \u001b[0m 0.6854579498672484\n"
     ]
    },
    {
     "data": {
      "text/plain": [
       "{'var_1': 0.0,\n",
       " 'var_2': -0.0002024604369629257,\n",
       " 'var_3': 0.0,\n",
       " 'var_4': 0.0,\n",
       " 'var_5': 1.6933495959547962e-05,\n",
       " 'var_6': -8.201881740943495e-05,\n",
       " 'var_7': 0.00010760028479472883,\n",
       " 'var_8': 0.0,\n",
       " 'var_9': 0.0,\n",
       " 'var_10': 5.258686384601585e-05,\n",
       " 'var_11': -3.277729722928058e-05,\n",
       " 'var_12': 0.0,\n",
       " 'var_13': -0.00010196943289919602,\n",
       " 'var_14': -2.3110891274491507e-05,\n",
       " 'var_15': 0.0,\n",
       " 'var_16': 0.013737763046104967,\n",
       " 'var_17': -0.00016576283448843654,\n",
       " 'var_18': 0.0,\n",
       " 'var_19': -0.00012150727096804648,\n",
       " 'var_20': 0.0,\n",
       " 'var_21': 0.0002472741766194053,\n",
       " 'var_22': -5.8923334229632474e-05,\n",
       " 'var_23': 0.0,\n",
       " 'var_24': -4.422123148661861e-06,\n",
       " 'var_25': 0.0,\n",
       " 'var_26': -2.6175085022561717e-05,\n",
       " 'var_27': 0.0,\n",
       " 'var_28': 0.0,\n",
       " 'var_29': 2.673503994976567e-05,\n",
       " 'var_30': -0.001490248247070114,\n",
       " 'var_31': -7.53158234848561e-05,\n",
       " 'var_32': 3.770014702653146e-05,\n",
       " 'var_33': 0.0,\n",
       " 'var_34': 0.0004493963207606866,\n",
       " 'var_35': 0.0,\n",
       " 'var_36': 0.0,\n",
       " 'var_37': -4.3715888632611666e-05,\n",
       " 'var_38': 0.0001642465532221138,\n",
       " 'var_39': -5.08196903229452e-05,\n",
       " 'var_40': 2.3081325702833944e-05,\n",
       " 'var_41': -2.344887751259961e-05,\n",
       " 'var_42': 0.0,\n",
       " 'var_43': 2.4108677712297855e-05,\n",
       " 'var_44': 0.0,\n",
       " 'var_45': -9.719233469185351e-05,\n",
       " 'var_46': -3.0048203737087498e-05,\n",
       " 'var_47': 0.0,\n",
       " 'var_48': 0.0018849981917666847,\n",
       " 'var_49': -1.8605274223482127e-06,\n",
       " 'var_50': -7.900500503477126e-06,\n",
       " 'var_51': -5.1002719120396556e-05,\n",
       " 'var_52': -2.3822840255260935e-05,\n",
       " 'var_53': 0.0,\n",
       " 'var_54': 0.0,\n",
       " 'var_55': 0.07438729538730648,\n",
       " 'var_56': -0.0002566368494468785,\n",
       " 'var_57': -0.0002320064213542361,\n",
       " 'var_58': -1.989415101533165e-05,\n",
       " 'var_59': 0.0,\n",
       " 'var_60': -4.9168763527784876e-05,\n",
       " 'var_62': 0.0,\n",
       " 'var_63': -3.354753956086309e-05,\n",
       " 'var_64': -0.00012864508520760154,\n",
       " 'var_65': 0.0,\n",
       " 'var_66': 0.0,\n",
       " 'var_67': 0.0,\n",
       " 'var_68': -0.00024989040414913344,\n",
       " 'var_69': 0.010287055492068653,\n",
       " 'var_70': 0.004101866606008531,\n",
       " 'var_71': -5.4916765206747264e-05,\n",
       " 'var_72': 3.322659298765629e-05,\n",
       " 'var_73': 0.0,\n",
       " 'var_74': -2.1888161377714432e-05,\n",
       " 'var_75': -3.697166910032745e-05,\n",
       " 'var_76': -5.3523152225287696e-05,\n",
       " 'var_77': 0.0,\n",
       " 'var_78': 0.0,\n",
       " 'var_79': 0.0002349082571623251,\n",
       " 'var_80': -3.105687236926169e-05,\n",
       " 'var_81': 0.0,\n",
       " 'var_82': 0.0,\n",
       " 'var_83': 2.4429533980074858e-05,\n",
       " 'var_84': -5.512490425030325e-05,\n",
       " 'var_85': 0.0,\n",
       " 'var_86': -2.0269403836814526e-05,\n",
       " 'var_87': 4.1255173277243706e-05,\n",
       " 'var_88': 0.0009630332580478074,\n",
       " 'var_89': -6.061002125190562e-06,\n",
       " 'var_90': -3.190534887620444e-05,\n",
       " 'var_91': 0.001738821463267648,\n",
       " 'var_92': 5.088580155132583e-06,\n",
       " 'var_93': 0.0,\n",
       " 'var_94': -4.1261914318746484e-05,\n",
       " 'var_95': 0.0,\n",
       " 'var_96': -9.361899387461126e-05,\n",
       " 'var_97': 0.0,\n",
       " 'var_98': 9.467434287147025e-05,\n",
       " 'var_99': -7.078792677184254e-05,\n",
       " 'var_100': 8.197288453248852e-06,\n",
       " 'var_101': -3.543765456193171e-05,\n",
       " 'var_102': -3.931375335852749e-05,\n",
       " 'var_103': 0.0,\n",
       " 'var_104': -0.00010890029952059788,\n",
       " 'var_105': 0.0,\n",
       " 'var_106': -6.262880643959079e-05,\n",
       " 'var_107': 0.0,\n",
       " 'var_108': 0.007219880150136304,\n",
       " 'var_109': -0.00021889509585992784}"
      ]
     },
     "execution_count": 28,
     "metadata": {},
     "output_type": "execute_result"
    }
   ],
   "source": [
    "rf = RandomForestClassifier(n_estimators=50, max_depth=2, random_state=2909, n_jobs=4)\n",
    "sel = SelectByShuffling(\n",
    "    variables=None, \n",
    "    estimator=rf,\n",
    "    scoring='roc_auc', \n",
    "    threshold=0,\n",
    "    cv=3, \n",
    "    random_state=1)\n",
    "print(colored('Model Fit: ', 'blue'), sel.fit(X_train, y_train))\n",
    "print(colored('Model Performance: ', 'blue'),sel.initial_model_performance_)\n",
    "sel.performance_drifts_"
   ]
  },
  {
   "cell_type": "code",
   "execution_count": 32,
   "id": "4a78a818-6c28-4cff-8a39-8e7d09dab942",
   "metadata": {},
   "outputs": [
    {
     "data": {
      "text/plain": [
       "<AxesSubplot:>"
      ]
     },
     "execution_count": 32,
     "metadata": {},
     "output_type": "execute_result"
    },
    {
     "data": {
      "image/png": "[encoded data removed]",
      "text/plain": [
       "<Figure size 432x288 with 1 Axes>"
      ]
     },
     "metadata": {
      "needs_background": "light"
     },
     "output_type": "display_data"
    }
   ],
   "source": [
    "pd.Series(sel.performance_drifts_).hist(bins=50)"
   ]
  },
  {
   "cell_type": "code",
   "execution_count": 33,
   "id": "0dada0e3-237a-4226-8e99-0153b318966f",
   "metadata": {},
   "outputs": [
    {
     "data": {
      "text/plain": [
       "<AxesSubplot:>"
      ]
     },
     "execution_count": 33,
     "metadata": {},
     "output_type": "execute_result"
    },
    {
     "data": {
      "image/png": "[encoded data removed]",
      "text/plain": [
       "<Figure size 1296x360 with 1 Axes>"
      ]
     },
     "metadata": {
      "needs_background": "light"
     },
     "output_type": "display_data"
    }
   ],
   "source": [
    "pd.Series(sel.performance_drifts_).sort_values(ascending=False).plot.bar(figsize=(18,5))"
   ]
  },
  {
   "cell_type": "code",
   "execution_count": 34,
   "id": "726b6eeb-d2a1-417b-9f27-97286e9f3d69",
   "metadata": {},
   "outputs": [
    {
     "name": "stdout",
     "output_type": "stream",
     "text": [
      "\u001b[34mLeng of Features Dtop:\u001b[0m 101\n",
      "\u001b[34mShape for X train and X test:\u001b[0m (35000, 7) (15000, 7)\n",
      "\u001b[34mtrain auc score: \u001b[0m 0.7010001123593995\n",
      "\u001b[34mtest auc score: \u001b[0m 0.6953477325844082\n"
     ]
    }
   ],
   "source": [
    "print(colored('Leng of Features Dtop:', 'blue'), len(sel.features_to_drop_))\n",
    "X_train = sel.transform(X_train)\n",
    "X_test = sel.transform(X_test)\n",
    "print(colored('Shape for X train and X test:', 'blue'), X_train.shape, X_test.shape)\n",
    "rf.fit(X_train, y_train)\n",
    "print(colored('train auc score: ', 'blue'), roc_auc_score(y_train, (rf.predict_proba(X_train))[:,1]))\n",
    "print(colored('test auc score: ', 'blue'), roc_auc_score(y_test, (rf.predict_proba(X_test))[:, 1]))"
   ]
  },
  {
   "cell_type": "code",
   "execution_count": null,
   "id": "920b75fa-67e8-4d18-bf07-e15d31548c2c",
   "metadata": {},
   "outputs": [],
   "source": []
  }
 ],
 "metadata": {
  "kernelspec": {
   "display_name": "Python 3 (ipykernel)",
   "language": "python",
   "name": "python3"
  },
  "language_info": {
   "codemirror_mode": {
    "name": "ipython",
    "version": 3
   },
   "file_extension": ".py",
   "mimetype": "text/x-python",
   "name": "python",
   "nbconvert_exporter": "python",
   "pygments_lexer": "ipython3",
   "version": "3.9.12"
  }
 },
 "nbformat": 4,
 "nbformat_minor": 5
}
