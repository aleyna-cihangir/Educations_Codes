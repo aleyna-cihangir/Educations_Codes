{
  "nbformat": 4,
  "nbformat_minor": 0,
  "metadata": {
    "colab": {
      "provenance": [],
      "collapsed_sections": [
        "V-fifP8x9Nd_"
      ]
    },
    "kernelspec": {
      "name": "python3",
      "display_name": "Python 3"
    },
    "language_info": {
      "name": "python"
    }
  },
  "cells": [
    {
      "cell_type": "markdown",
      "source": [
        "##### **PYTHON LIBRARIES**"
      ],
      "metadata": {
        "id": "V-fifP8x9Nd_"
      }
    },
    {
      "cell_type": "code",
      "source": [
        "from termcolor import colored\n",
        "from functools import reduce\n",
        "from datetime import datetime\n",
        "import numpy as np \n",
        "import keyword"
      ],
      "metadata": {
        "id": "-p9_5bla9T7n"
      },
      "execution_count": 31,
      "outputs": []
    },
    {
      "cell_type": "markdown",
      "source": [
        "##### **ONE-LIER-FOR**"
      ],
      "metadata": {
        "id": "kp6QZlQX8onq"
      }
    },
    {
      "cell_type": "code",
      "source": [
        "word = 'Python'\n",
        "let_list = []\n",
        "for i in word:\n",
        "  let_list.append(i)\n",
        "print(colored(\"\\033[1m\" + \"We wrote with for loop: \", \"blue\"), let_list) \n",
        "l_list = [i for i in 'Python']\n",
        "print(colored(\"\\033[1m\" + \"We wrote just one-line: \", \"blue\"), l_list) \n",
        "\n",
        "state = 3\n",
        "if state > 5:\n",
        "  word = 'Apple'\n",
        "else:\n",
        "  word = 'Banana'\n",
        "print(colored(\"\\033[1m\" + \"We wrote  with if loop: \", \"blue\"), word) \n",
        "word = 'Apple' if state else 'Banane' if state > 5 else 'Strawberry'\n",
        "print(colored(\"\\033[1m\" + \"We rote just one-line: \", \"blue\"), word) \n",
        "square = lambda x: x**2\n",
        "print(colored(\"\\033[1m\" + \"take square using Lambda Function: \", \"blue\"), square(5)) \n",
        "numbers = [1, 2, 3, 4, 5, 6, 7]\n",
        "num_of_squ = []\n",
        "for num in numbers:\n",
        "  num_of_squ.append(square(num))\n",
        "print(colored(\"\\033[1m\" + \"Num of Square: \", \"blue\"), num_of_squ) \n",
        "numbers = [1, 6, 3, 7, 10, 0]\n",
        "print(colored(\"\\033[1m\" + \"Numbers: \", \"blue\"), reduce(lambda x,y: x if x >y else y, numbers ))  # find max value\n",
        "age = int(input('Your Age: '))\n",
        "assert int(age) >=0, 'Your Age is not to be negative' # we can write an error"
      ],
      "metadata": {
        "colab": {
          "base_uri": "https://localhost:8080/"
        },
        "id": "CmoEAA3s8ylB",
        "outputId": "e5856628-dc80-40ea-cf90-45a79eb46a39"
      },
      "execution_count": 22,
      "outputs": [
        {
          "name": "stdout",
          "output_type": "stream",
          "text": [
            "\u001b[34m\u001b[1mWe wrote with for loop: \u001b[0m ['P', 'y', 't', 'h', 'o', 'n']\n",
            "\u001b[34m\u001b[1mWe wrote just one-line: \u001b[0m ['P', 'y', 't', 'h', 'o', 'n']\n",
            "\u001b[34m\u001b[1mWe wrote  with if loop: \u001b[0m Banana\n",
            "\u001b[34m\u001b[1mWe rote just one-line: \u001b[0m Apple\n",
            "\u001b[34m\u001b[1mtake square using Lambda Function: \u001b[0m 25\n",
            "\u001b[34m\u001b[1mNum of Square: \u001b[0m [1, 4, 9, 16, 25, 36, 49]\n",
            "\u001b[34m\u001b[1mNumbers: \u001b[0m 10\n",
            "Your Age: 6\n"
          ]
        }
      ]
    },
    {
      "cell_type": "markdown",
      "source": [
        "##### **GENERATORS and DECORATORS:**"
      ],
      "metadata": {
        "id": "5slo4Qi9DIP4"
      }
    },
    {
      "cell_type": "code",
      "source": [
        "def generator():\n",
        "  i = 1\n",
        "  print('First this code was working.')\n",
        "  yield i\n",
        "\n",
        "  i += 1\n",
        "  print('After this code worked.')\n",
        "  yield i\n",
        "for val in generator():\n",
        "  print(colored(\"\\033[1m\" + \"Value in for loop: \", \"blue\"),val) "
      ],
      "metadata": {
        "colab": {
          "base_uri": "https://localhost:8080/"
        },
        "id": "VXp7W-JA9J13",
        "outputId": "0fb24b61-f634-4626-a9ec-9d829974596c"
      },
      "execution_count": 25,
      "outputs": [
        {
          "output_type": "stream",
          "name": "stdout",
          "text": [
            "First this code was working.\n",
            "\u001b[34m\u001b[1mValue in for loop: \u001b[0m 1\n",
            "After this code worked.\n",
            "\u001b[34m\u001b[1mValue in for loop: \u001b[0m 2\n"
          ]
        }
      ]
    },
    {
      "cell_type": "code",
      "source": [
        "def show_time(func):\n",
        "  def wrapper():\n",
        "    print(colored(\"\\033[1m\" + \"Time is: \", \"blue\"), datetime.now().time()) \n",
        "    func()\n",
        "  return wrapper\n",
        "@show_time\n",
        "def say_h():\n",
        "  print(colored(\"\\033[1m\" + \"Hi \", \"blue\"))\n",
        "@show_time\n",
        "def say_b():\n",
        "  print(colored(\"\\033[1m\" + \"Bye! \", \"blue\"))\n",
        "say_h()\n",
        "say_b()"
      ],
      "metadata": {
        "colab": {
          "base_uri": "https://localhost:8080/"
        },
        "id": "IOvnHSyYD7X-",
        "outputId": "c8bb1b58-5b07-46f2-8632-b53604878abd"
      },
      "execution_count": 30,
      "outputs": [
        {
          "output_type": "stream",
          "name": "stdout",
          "text": [
            "\u001b[34m\u001b[1mTime is: \u001b[0m 13:56:36.817721\n",
            "\u001b[34m\u001b[1mHi \u001b[0m\n",
            "\u001b[34m\u001b[1mTime is: \u001b[0m 13:56:36.817992\n",
            "\u001b[34m\u001b[1mBye! \u001b[0m\n"
          ]
        }
      ]
    },
    {
      "cell_type": "markdown",
      "source": [
        "##### **NUMPY:**"
      ],
      "metadata": {
        "id": "rlF1RRXHHWgq"
      }
    },
    {
      "cell_type": "code",
      "source": [
        "a = np.array([10, 20, 30, 40, 50, 60])\n",
        "print(colored(\"\\033[1m\" + \"Name of A Array is: \", \"blue\"), a) \n",
        "print(colored(\"\\033[1m\" + \"Shape of A Array is: \", \"blue\"), a.shape) \n",
        "print(colored(\"\\033[1m\" + \"Sin of A Array is: \", \"blue\"), np.sin(a)) \n",
        "print(colored(\"\\033[1m\" + \"Cos of A Array is: \", \"blue\"), np.cos(a)) \n",
        "print(colored(\"\\033[1m\" + \"Log of A Array is: \", \"blue\"), np.log(a)) \n",
        "print(colored(\"\\033[1m\" + \"Exponenciel of A Array is: \", \"blue\"), np.exp(a)) \n",
        "print(colored(\"\\033[1m\" + \"Max Value in A Array is: \", \"blue\"), np.max(a)) \n",
        "print(colored(\"\\033[1m\" + \"Mean in A Array is: \", \"blue\"), np.mean(a))\n",
        "print(colored(\"\\033[1m\" + \"Median in A Array is: \", \"blue\"), np.median(a)) \n",
        "print(colored(\"\\033[1m\" + \"Standar dev. in A Array is: \", \"blue\"), np.std(a)) \n",
        "print(colored(\"\\033[1m\" + \"Type of A Array is: \", \"blue\"), type(a)) \n",
        "print(colored(\"\\033[1m\" + \"TName of A Array is: \", \"blue\"), a) "
      ],
      "metadata": {
        "colab": {
          "base_uri": "https://localhost:8080/"
        },
        "id": "nelPDyleEvlk",
        "outputId": "e4e50f0d-2669-404c-9fde-c05031bd5653"
      },
      "execution_count": 37,
      "outputs": [
        {
          "output_type": "stream",
          "name": "stdout",
          "text": [
            "\u001b[34m\u001b[1mName of A Array is: \u001b[0m [10 20 30 40 50 60]\n",
            "\u001b[34m\u001b[1mShape of A Array is: \u001b[0m (6,)\n",
            "\u001b[34m\u001b[1mSin of A Array is: \u001b[0m [-0.54402111  0.91294525 -0.98803162  0.74511316 -0.26237485 -0.30481062]\n",
            "\u001b[34m\u001b[1mCos of A Array is: \u001b[0m [-0.83907153  0.40808206  0.15425145 -0.66693806  0.96496603 -0.95241298]\n",
            "\u001b[34m\u001b[1mLog of A Array is: \u001b[0m [2.30258509 2.99573227 3.40119738 3.68887945 3.91202301 4.09434456]\n",
            "\u001b[34m\u001b[1mExponenciel of A Array is: \u001b[0m [2.20264658e+04 4.85165195e+08 1.06864746e+13 2.35385267e+17\n",
            " 5.18470553e+21 1.14200739e+26]\n",
            "\u001b[34m\u001b[1mMax Value in A Array is: \u001b[0m 60\n",
            "\u001b[34m\u001b[1mMean in A Array is: \u001b[0m 35.0\n",
            "\u001b[34m\u001b[1mMedian in A Array is: \u001b[0m 35.0\n",
            "\u001b[34m\u001b[1mStandar dev. in A Array is: \u001b[0m 17.07825127659933\n",
            "\u001b[34m\u001b[1mType of A Array is: \u001b[0m <class 'numpy.ndarray'>\n",
            "\u001b[34m\u001b[1mTName of A Array is: \u001b[0m [10 20 30 40 50 60]\n"
          ]
        }
      ]
    },
    {
      "cell_type": "code",
      "source": [
        "zeros = np.zeros((3,10))\n",
        "print(colored(\"\\033[1m\" + \"Zero Array is: \", \"blue\"), '\\n',  zeros) \n",
        "ones = np.ones((3,10))\n",
        "print(colored(\"\\033[1m\" + \"One Array is: \", \"blue\"), '\\n',  ones) \n",
        "full = np.full((3,3),5)\n",
        "print(colored(\"\\033[1m\" + \"Full Array is: \", \"blue\"), '\\n',  full) \n",
        "eye = np.eye(5)\n",
        "print(colored(\"\\033[1m\" + \"Eye Array is: \", \"blue\"), '\\n',  eye) \n",
        "print(colored(\"\\033[1m\" + \"Arange Array is: \", \"blue\"), '\\n',  np.arange(7)) \n",
        "print(colored(\"\\033[1m\" + \"Different Arange Array is: \", \"blue\"), '\\n',  np.arange(0, 10, 2))\n",
        "print(colored(\"\\033[1m\" + \"Random Array is: \", \"blue\"), '\\n',  np.random.random((3,3))) \n",
        "print(colored(\"\\033[1m\" + \"Random Integer Array is: \", \"blue\"), '\\n',  np.random.randint(20, size=(5,5))) \n",
        "arr1 = np.random.randint(20, size=(5,5))\n",
        "print(colored(\"\\033[1m\" + \"Select value from Random Integer Array: \", \"blue\"),  arr1[2,1]) \n",
        "print(colored(\"\\033[1m\" + \"Where is the value of 11: \", \"blue\"),  np.where(arr1==11)) "
      ],
      "metadata": {
        "colab": {
          "base_uri": "https://localhost:8080/"
        },
        "id": "8EwQC-LjGClI",
        "outputId": "bb4fb828-bff3-4317-d5e9-c41b164d1f69"
      },
      "execution_count": 55,
      "outputs": [
        {
          "output_type": "stream",
          "name": "stdout",
          "text": [
            "\u001b[34m\u001b[1mZero Array is: \u001b[0m \n",
            " [[0. 0. 0. 0. 0. 0. 0. 0. 0. 0.]\n",
            " [0. 0. 0. 0. 0. 0. 0. 0. 0. 0.]\n",
            " [0. 0. 0. 0. 0. 0. 0. 0. 0. 0.]]\n",
            "\u001b[34m\u001b[1mOne Array is: \u001b[0m \n",
            " [[1. 1. 1. 1. 1. 1. 1. 1. 1. 1.]\n",
            " [1. 1. 1. 1. 1. 1. 1. 1. 1. 1.]\n",
            " [1. 1. 1. 1. 1. 1. 1. 1. 1. 1.]]\n",
            "\u001b[34m\u001b[1mFull Array is: \u001b[0m \n",
            " [[5 5 5]\n",
            " [5 5 5]\n",
            " [5 5 5]]\n",
            "\u001b[34m\u001b[1mEye Array is: \u001b[0m \n",
            " [[1. 0. 0. 0. 0.]\n",
            " [0. 1. 0. 0. 0.]\n",
            " [0. 0. 1. 0. 0.]\n",
            " [0. 0. 0. 1. 0.]\n",
            " [0. 0. 0. 0. 1.]]\n",
            "\u001b[34m\u001b[1mArange Array is: \u001b[0m \n",
            " [0 1 2 3 4 5 6]\n",
            "\u001b[34m\u001b[1mDifferent Arange Array is: \u001b[0m \n",
            " [0 2 4 6 8]\n",
            "\u001b[34m\u001b[1mRandom Array is: \u001b[0m \n",
            " [[0.42459327 0.34556858 0.62239754]\n",
            " [0.64928538 0.74654414 0.69545877]\n",
            " [0.28926225 0.21537234 0.44515643]]\n",
            "\u001b[34m\u001b[1mRandom Integer Array is: \u001b[0m \n",
            " [[18  3 13  6  2]\n",
            " [15  7 15  0 13]\n",
            " [ 0  7 11  2 13]\n",
            " [ 8 19  2  6 15]\n",
            " [ 5 17 15  9 18]]\n",
            "\u001b[34m\u001b[1mSelect value from Random Integer Array: \u001b[0m 4\n",
            "\u001b[34m\u001b[1mWhere is the value of 11: \u001b[0m (array([2, 4, 4]), array([2, 0, 3]))\n"
          ]
        }
      ]
    },
    {
      "cell_type": "code",
      "source": [
        "a = np.array([[1,2,3],[4,5,6]])\n",
        "print(colored(\"\\033[1m\" + \"A Array is: \", \"blue\"), '\\n', a)\n",
        "print(colored(\"\\033[1m\" + \"A Array Shape is: \", \"blue\"), a.shape)\n",
        "b = np.array([[7,8,9],[10,11,12]])\n",
        "print(colored(\"\\033[1m\" + \"B Array is: \", \"blue\"), '\\n', b)\n",
        "print(colored(\"\\033[1m\" + \"B Array Shape is: \", \"blue\"), b.shape)\n",
        "axb = np.dot(a,(b.T))\n",
        "print(colored(\"\\033[1m\" + \"AxB give us new array 2x2: \", \"blue\"), '\\n', axb)\n",
        "print(colored(\"\\033[1m\" + \"AxB Array Shape is: \", \"blue\"), axb.shape)"
      ],
      "metadata": {
        "colab": {
          "base_uri": "https://localhost:8080/"
        },
        "id": "YFqcSJttH3cI",
        "outputId": "b79aa42d-e6ac-453b-9804-d89e2c531034"
      },
      "execution_count": 68,
      "outputs": [
        {
          "output_type": "stream",
          "name": "stdout",
          "text": [
            "\u001b[34m\u001b[1mA Array is: \u001b[0m \n",
            " [[1 2 3]\n",
            " [4 5 6]]\n",
            "\u001b[34m\u001b[1mA Array Shape is: \u001b[0m (2, 3)\n",
            "\u001b[34m\u001b[1mB Array is: \u001b[0m \n",
            " [[ 7  8  9]\n",
            " [10 11 12]]\n",
            "\u001b[34m\u001b[1mB Array Shape is: \u001b[0m (2, 3)\n",
            "\u001b[34m\u001b[1mAxB give us new array 2x2: \u001b[0m \n",
            " [[ 50  68]\n",
            " [122 167]]\n",
            "\u001b[34m\u001b[1mAxB Array Shape is: \u001b[0m (2, 2)\n"
          ]
        }
      ]
    },
    {
      "cell_type": "code",
      "source": [],
      "metadata": {
        "id": "YABi-VTkLDm5"
      },
      "execution_count": null,
      "outputs": []
    }
  ]
}