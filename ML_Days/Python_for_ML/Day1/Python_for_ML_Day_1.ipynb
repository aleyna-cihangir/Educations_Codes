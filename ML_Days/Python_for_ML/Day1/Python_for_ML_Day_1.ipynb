{
  "nbformat": 4,
  "nbformat_minor": 0,
  "metadata": {
    "colab": {
      "provenance": []
    },
    "kernelspec": {
      "name": "python3",
      "display_name": "Python 3"
    },
    "language_info": {
      "name": "python"
    }
  },
  "cells": [
    {
      "cell_type": "markdown",
      "source": [
        "#### **PYTHON LIBRARIES**"
      ],
      "metadata": {
        "id": "cGGJBs2t88zU"
      }
    },
    {
      "cell_type": "code",
      "source": [
        "from termcolor import colored\n",
        "import keyword"
      ],
      "metadata": {
        "id": "9DUuSWYt872p"
      },
      "execution_count": 2,
      "outputs": []
    },
    {
      "cell_type": "markdown",
      "source": [
        "#### **GENERAL INFORMATIONS:**"
      ],
      "metadata": {
        "id": "tAXCBYQj8uqE"
      }
    },
    {
      "cell_type": "code",
      "execution_count": 13,
      "metadata": {
        "colab": {
          "base_uri": "https://localhost:8080/"
        },
        "id": "VfjFmMVY74Lb",
        "outputId": "62d3b6c0-f188-4a5a-e0de-13f0066ddeb6"
      },
      "outputs": [
        {
          "output_type": "stream",
          "name": "stdout",
          "text": [
            "\u001b[34m\u001b[1mReturns: \u001b[0m <class 'str'>\n",
            "\u001b[34m\u001b[1mResult is: \u001b[0m HalloWelt\n",
            "\u001b[34m\u001b[1mResult is: \u001b[0m Hallo Welt\n",
            "\u001b[34m\u001b[1mResult is: \u001b[0m Hallo Welt \n",
            "\n",
            "\u001b[34m\u001b[1mReturns: \u001b[0m <class 'int'>\n",
            "\u001b[34m\u001b[1mReturns: \u001b[0m <class 'complex'>\n",
            "\u001b[34m\u001b[1mReturns: \u001b[0m <class 'float'>\n"
          ]
        }
      ],
      "source": [
        "'C'  # is a char \n",
        "print(colored(\"\\033[1m\" + \"Returns: \", \"blue\"), type('Hallo Welt')) \n",
        "print(colored(\"\\033[1m\" + \"Result is: \", \"blue\"), 'Hallo' + '' + 'Welt') \n",
        "print(colored(\"\\033[1m\" + \"Result is: \", \"blue\"), 'Hallo' + ' ' + 'Welt') \n",
        "print(colored(\"\\033[1m\" + \"Result is: \", \"blue\"), 'Hallo'  ' '  'Welt', '\\n')  # we dont need to + \n",
        "print(colored(\"\\033[1m\" + \"Returns: \", \"blue\"), type(123)) \n",
        "print(colored(\"\\033[1m\" + \"Returns: \", \"blue\"), type(7+2j)) \n",
        "print(colored(\"\\033[1m\" + \"Returns: \", \"blue\"), type(22.3)) \n"
      ]
    },
    {
      "cell_type": "markdown",
      "source": [
        "#### **ARITHMETIC OPERATORS:**"
      ],
      "metadata": {
        "id": "TkbQF6Ov-sgV"
      }
    },
    {
      "cell_type": "code",
      "source": [
        "print(colored(\"\\033[1m\" + \"Result is: \", \"blue\"), 10-5) \n",
        "print(colored(\"\\033[1m\" + \"Result is: \", \"blue\"), 4.7-3.2) \n",
        "print(colored(\"\\033[1m\" + \"Result is: \", \"blue\"), 4.87*3) \n",
        "print(colored(\"\\033[1m\" + \"Result is: \", \"blue\"), 10/2)\n",
        "print(colored(\"\\033[1m\" + \"Result is: \", \"blue\"), 5**2) \n",
        "print(colored(\"\\033[1m\" + \"Result is: \", \"blue\"), 10%3) \n",
        "print(colored(\"\\033[1m\" + \"Result is: \", \"blue\"), 10//5) \n",
        "print(colored(\"\\033[1m\" + \"Result is: \", \"blue\"), pow(5,3)) \n",
        "print(colored(\"\\033[1m\" + \"Result is: \", \"blue\"), 'Py'*2)  "
      ],
      "metadata": {
        "colab": {
          "base_uri": "https://localhost:8080/"
        },
        "id": "MuhqlYKY8atP",
        "outputId": "94d7a14c-f31f-46f8-cc48-55f71f6541ae"
      },
      "execution_count": 18,
      "outputs": [
        {
          "output_type": "stream",
          "name": "stdout",
          "text": [
            "\u001b[34m\u001b[1mResult is: \u001b[0m 5\n",
            "\u001b[34m\u001b[1mResult is: \u001b[0m 1.5\n",
            "\u001b[34m\u001b[1mResult is: \u001b[0m 14.61\n",
            "\u001b[34m\u001b[1mResult is: \u001b[0m 5.0\n",
            "\u001b[34m\u001b[1mResult is: \u001b[0m 25\n",
            "\u001b[34m\u001b[1mResult is: \u001b[0m 1\n",
            "\u001b[34m\u001b[1mResult is: \u001b[0m 2\n",
            "\u001b[34m\u001b[1mResult is: \u001b[0m 125\n",
            "\u001b[34m\u001b[1mResult is: \u001b[0m PyPy\n"
          ]
        }
      ]
    },
    {
      "cell_type": "markdown",
      "source": [
        "#### **VARIABLES:**"
      ],
      "metadata": {
        "id": "MZSomIDa_y2r"
      }
    },
    {
      "cell_type": "code",
      "source": [
        "v1 = 125\n",
        "v2 = 248\n",
        "print(colored(\"\\033[1m\" + \"V1 + V2: \", \"blue\"), v1 + v2) \n",
        "v1 , v2 = v2 , v1 # change values\n",
        "print(colored(\"\\033[1m\" + \"V1 is: \", \"blue\"), v1) \n",
        "\n",
        "price = 12 # euro\n",
        "hours_week = 40 \n",
        "print(colored(\"\\033[1m\" + \"Week Price is: \", \"blue\"), price*hours_week, '\\n') \n",
        "username = 'aleyna'\n",
        "password = 'cihangir'\n",
        "print(colored(\"\\033[1m\" + \"Username has how many letters: \", \"blue\"), len(username)) \n"
      ],
      "metadata": {
        "colab": {
          "base_uri": "https://localhost:8080/"
        },
        "id": "w9RzZU1z_JzN",
        "outputId": "eed7b73a-e22b-4ae6-e947-bfdae67984cd"
      },
      "execution_count": 49,
      "outputs": [
        {
          "output_type": "stream",
          "name": "stdout",
          "text": [
            "\u001b[34m\u001b[1mV1 + V2: \u001b[0m 373\n",
            "\u001b[34m\u001b[1mV1 is: \u001b[0m 248\n",
            "\u001b[34m\u001b[1mWeek Price is: \u001b[0m 480 \n",
            "\n",
            "\u001b[34m\u001b[1mUsername has how many letters: \u001b[0m 6\n"
          ]
        }
      ]
    },
    {
      "cell_type": "code",
      "source": [
        "print('Hallo Welt', sep=' ', end='\\n' )\n",
        "print('Hallo', 'Welt', sep='-', end='!!\\n' )\n",
        "print('Hallo', 'Welt', sep='-py-', end='\\n')\n",
        "print(*'Hallo Welt', sep='-', end='\\n') \n",
        "print('\\'World Mercure Venus\\'')\n",
        "print(r'\\World\\Mercure\\Venus\\m\\\\')"
      ],
      "metadata": {
        "colab": {
          "base_uri": "https://localhost:8080/"
        },
        "id": "cXOlCCaDAGRo",
        "outputId": "89f569cd-1fdd-4cb6-8310-ad76664927ed"
      },
      "execution_count": 50,
      "outputs": [
        {
          "output_type": "stream",
          "name": "stdout",
          "text": [
            "Hallo Welt\n",
            "Hallo-Welt!!\n",
            "Hallo-py-Welt\n",
            "H-a-l-l-o- -W-e-l-t\n",
            "'World Mercure Venus'\n",
            "\\World\\Mercure\\Venus\\m\\\\\n"
          ]
        }
      ]
    },
    {
      "cell_type": "code",
      "source": [
        "name = input('Enter your name: ')\n",
        "age = input('Your age is:')\n",
        "print(colored(\"\\033[1m\" + \"Your Name and Age are: \", \"blue\"), name, age)"
      ],
      "metadata": {
        "colab": {
          "base_uri": "https://localhost:8080/"
        },
        "id": "tqj-NCnKHHlQ",
        "outputId": "c8aa10ca-bc67-4463-c9f2-de2d465d0ab1"
      },
      "execution_count": 51,
      "outputs": [
        {
          "output_type": "stream",
          "name": "stdout",
          "text": [
            "Enter your name: x\n",
            "Your age is:20\n",
            "\u001b[34m\u001b[1mYour Name and Age are: \u001b[0m x 20\n"
          ]
        }
      ]
    },
    {
      "cell_type": "markdown",
      "source": [
        "#### **TYPE CASTING:**"
      ],
      "metadata": {
        "id": "LAn6xB_lHy0_"
      }
    },
    {
      "cell_type": "code",
      "source": [
        "age1 = int(age) + 10 \n",
        "print(colored(\"\\033[1m\" + \"New Age is: \", \"blue\"), age1)\n",
        "age2 = float(age) + 5.7\n",
        "print(colored(\"\\033[1m\" + \"New Age is: \", \"blue\"), age2)\n",
        "print(colored(\"\\033[1m\" + \"Hi, May name ist {0} and I'm {1} years old. \", \"blue\").format(name, age))"
      ],
      "metadata": {
        "colab": {
          "base_uri": "https://localhost:8080/"
        },
        "id": "kGEdR7N4H19w",
        "outputId": "5d18ecc4-7c91-4947-df4b-1bba0caa27a5"
      },
      "execution_count": 54,
      "outputs": [
        {
          "output_type": "stream",
          "name": "stdout",
          "text": [
            "\u001b[34m\u001b[1mNew Age is: \u001b[0m 40\n",
            "\u001b[34m\u001b[1mNew Age is: \u001b[0m 35.7\n",
            "\u001b[34m\u001b[1mHi, May name ist x and I'm 30 years old. \u001b[0m\n"
          ]
        }
      ]
    },
    {
      "cell_type": "code",
      "source": [
        "print(colored(\"\\033[1m\" + \"What is: \", \"blue\"), bool(1))\n",
        "print(colored(\"\\033[1m\" + \"What is: \", \"blue\"), bool('hallo'))\n",
        "print(colored(\"\\033[1m\" + \"What is: \", \"blue\"), bool(1234))\n",
        "print(colored(\"\\033[1m\" + \"50 > 30: \", \"blue\"), 50 > 30)\n",
        "print(colored(\"\\033[1m\" + \"50 < 30: \", \"blue\"), 50 < 30)\n",
        "print(colored(\"\\033[1m\" + \"50 > 30 or 20 >30: \", \"blue\"), (50 > 30) or (20 > 30))\n",
        "print(colored(\"\\033[1m\" + \"50 > 30 and 20 >30: \", \"blue\"), (50 > 30) and (20 > 30))"
      ],
      "metadata": {
        "colab": {
          "base_uri": "https://localhost:8080/"
        },
        "id": "8grEh4TsI86B",
        "outputId": "84754ac5-19d3-4674-df36-879ab9b61a14"
      },
      "execution_count": 63,
      "outputs": [
        {
          "output_type": "stream",
          "name": "stdout",
          "text": [
            "\u001b[34m\u001b[1mWhat is: \u001b[0m True\n",
            "\u001b[34m\u001b[1mWhat is: \u001b[0m True\n",
            "\u001b[34m\u001b[1mWhat is: \u001b[0m True\n",
            "\u001b[34m\u001b[1m50 > 30: \u001b[0m True\n",
            "\u001b[34m\u001b[1m50 < 30: \u001b[0m False\n",
            "\u001b[34m\u001b[1m50 > 30 or 20 >30: \u001b[0m True\n",
            "\u001b[34m\u001b[1m50 > 30 and 20 >30: \u001b[0m False\n"
          ]
        }
      ]
    },
    {
      "cell_type": "code",
      "source": [
        "a = int(input('Please a number: ')) # dont forget int()\n",
        "if a < 10 :\n",
        "  print('lower than 10')\n",
        "elif a > 10 :\n",
        "  print('higher than 15')\n",
        "else :\n",
        "  print('the number is higher than 15 ')"
      ],
      "metadata": {
        "colab": {
          "base_uri": "https://localhost:8080/"
        },
        "id": "lxe9ML13LtWg",
        "outputId": "2cf5f4dc-c612-4981-bf7a-e211968150df"
      },
      "execution_count": 66,
      "outputs": [
        {
          "output_type": "stream",
          "name": "stdout",
          "text": [
            "Please a number: 38\n",
            "higher than 15\n"
          ]
        }
      ]
    },
    {
      "cell_type": "code",
      "source": [
        "if  (age3 := int(input('Your : '))) >= 18:\n",
        "  print(f'You are {age3} years old.')\n",
        "else :\n",
        "  print(f'You are {age3} years old. You cannot come. ')"
      ],
      "metadata": {
        "id": "e6DVyQ4fNB4x"
      },
      "execution_count": null,
      "outputs": []
    },
    {
      "cell_type": "code",
      "source": [
        "f = open('test.txt', 'w')\n",
        "print('Try_1', file=f, flush=False)\n",
        "print('Try_2', file=f, flush=True)\n",
        "f.close()\n",
        "f = open('test.txt', 'r')\n",
        "print(f.read())\n",
        "\n",
        "with open('test.txt', 'r+') as f :\n",
        "  print(f.read())\n",
        "  f.write('try_2 with')"
      ],
      "metadata": {
        "colab": {
          "base_uri": "https://localhost:8080/"
        },
        "id": "3XE7PCTBRgRq",
        "outputId": "defb83db-74f6-4025-8d0f-17639c52f22a"
      },
      "execution_count": 79,
      "outputs": [
        {
          "output_type": "stream",
          "name": "stdout",
          "text": [
            "Try_1\n",
            "Try_2\n",
            "\n",
            "Try_1\n",
            "Try_2\n",
            "\n"
          ]
        }
      ]
    },
    {
      "cell_type": "markdown",
      "source": [
        "#### **LOOPS:**"
      ],
      "metadata": {
        "id": "HN-E0BVNSu4D"
      }
    },
    {
      "cell_type": "code",
      "source": [
        "for i in range(2, 10, 2):\n",
        "  print(i, end=' ') \n",
        "print('\\n')\n",
        "for i in range(10):\n",
        "  print(i, end=' ')\n",
        "  if i == 5:\n",
        "    break;\n",
        "print('\\n')\n",
        "for i in range(10):\n",
        "  if i == 5:\n",
        "    continue\n",
        "  print(i, end=' ')\n",
        "print('\\n')"
      ],
      "metadata": {
        "colab": {
          "base_uri": "https://localhost:8080/"
        },
        "id": "aSnwoJG-Sy0W",
        "outputId": "59f65620-feec-4ab5-ec5b-7c77dec22d73"
      },
      "execution_count": 93,
      "outputs": [
        {
          "output_type": "stream",
          "name": "stdout",
          "text": [
            "2 4 6 8 \n",
            "\n",
            "0 1 2 3 4 5 \n",
            "\n",
            "0 1 2 3 4 6 7 8 9 \n",
            "\n"
          ]
        }
      ]
    },
    {
      "cell_type": "markdown",
      "source": [
        "#### **EXCEPTIONS HANDLING:**"
      ],
      "metadata": {
        "id": "5UYQ3wxcT6xc"
      }
    },
    {
      "cell_type": "code",
      "source": [
        "a1 = int(input('Enter a number: ')) # 10\n",
        "a2 = int(input('Enter a number: ')) # 0 \n",
        "print( a1/a2 )  # ZeroDivisionError "
      ],
      "metadata": {
        "id": "3Gb7uc03VQtR"
      },
      "execution_count": null,
      "outputs": []
    },
    {
      "cell_type": "code",
      "source": [
        "try:\n",
        "  a1 = int(input('Enter a number: ')) # 10\n",
        "  a2 = int(input('Enter a number: ')) # 0 \n",
        "  print( a1/a2 )  # ZeroDivisionError \n",
        "except ZeroDivisionError:\n",
        "  print('You cannot write 0')"
      ],
      "metadata": {
        "id": "kkbcSKQtVuFD"
      },
      "execution_count": null,
      "outputs": []
    },
    {
      "cell_type": "markdown",
      "source": [
        "#### **LISTS and TUPLES:**"
      ],
      "metadata": {
        "id": "lD_JHM5DXjX4"
      }
    },
    {
      "cell_type": "code",
      "source": [
        "list1 = []\n",
        "list1 = list()\n",
        "print(list1, colored(\"\\033[1m\" + \"List lenght is: \", \"blue\"), len(list1))\n",
        "list1.append(10)\n",
        "print(list1, colored(\"\\033[1m\" + \"List lenght is: \", \"blue\"), len(list1))\n",
        "list1.append(20)\n",
        "list1.append(35)\n",
        "list1.append(48)\n",
        "print(list1, colored(\"\\033[1m\" + \"List lenght is: \", \"blue\"), len(list1))\n",
        "print(colored(\"\\033[1m\" + \"0. values is: \", \"blue\"), list1[0])\n",
        "print(colored(\"\\033[1m\" + \"List1 in reverse is: \", \"blue\"), list1[::-1])\n",
        "list1.insert(0,99)\n",
        "print(colored(\"\\033[1m\" + \"Add a number in 0. column \", \"blue\"), list1)\n",
        "print(colored(\"\\033[1m\" + \"Delete  and show last number \", \"blue\"), list1.pop())\n",
        "print(colored(\"\\033[1m\" + \"New List1 is: \", \"blue\"), list1)\n",
        "print(colored(\"\\033[1m\" + \"Delete a number: \", \"blue\"), list1.remove(35))\n",
        "print(colored(\"\\033[1m\" + \"New List1 is: \", \"blue\"), list1)\n",
        "list1 = [2,0,7,5]\n",
        "list2 = [4,5,2,1]\n",
        "list1.extend(list2)\n",
        "print(colored(\"\\033[1m\" + \"L1 + L2: \", \"blue\"), list1)\n",
        "list1.sort()\n",
        "print(colored(\"\\033[1m\" + \"L1 : \", \"blue\"), list1)\n",
        "list1 = ['Apple', 'Banana', 'Bird', 'Bird']\n",
        "counter = list1.count(input('Word is: ')) \n",
        "print(colored(\"\\033[1m\" + \"How many Bird word in List1: \", \"blue\"), counter)"
      ],
      "metadata": {
        "colab": {
          "base_uri": "https://localhost:8080/"
        },
        "id": "cu0qbJmdXoMs",
        "outputId": "2651b7b9-b9c8-4dc8-95d8-eb96c959cf0a"
      },
      "execution_count": 21,
      "outputs": [
        {
          "output_type": "stream",
          "name": "stdout",
          "text": [
            "[] \u001b[34m\u001b[1mList lenght is: \u001b[0m 0\n",
            "[10] \u001b[34m\u001b[1mList lenght is: \u001b[0m 1\n",
            "[10, 20, 35, 48] \u001b[34m\u001b[1mList lenght is: \u001b[0m 4\n",
            "\u001b[34m\u001b[1m0. values is: \u001b[0m 10\n",
            "\u001b[34m\u001b[1mList1 in reverse is: \u001b[0m [48, 35, 20, 10]\n",
            "\u001b[34m\u001b[1mAdd a number in 0. column \u001b[0m [99, 10, 20, 35, 48]\n",
            "\u001b[34m\u001b[1mDelete  and show last number \u001b[0m 48\n",
            "\u001b[34m\u001b[1mNew List1 is: \u001b[0m [99, 10, 20, 35]\n",
            "\u001b[34m\u001b[1mDelete a number: \u001b[0m None\n",
            "\u001b[34m\u001b[1mNew List1 is: \u001b[0m [99, 10, 20]\n",
            "\u001b[34m\u001b[1mL1 + L2: \u001b[0m [2, 0, 7, 5, 4, 5, 2, 1]\n",
            "\u001b[34m\u001b[1mL1 : \u001b[0m [0, 1, 2, 2, 4, 5, 5, 7]\n",
            "Word is: Bird\n",
            "\u001b[34m\u001b[1mHow many Bird word in List1: \u001b[0m 2\n"
          ]
        }
      ]
    },
    {
      "cell_type": "markdown",
      "source": [
        "#### **DICTIONARIES:**"
      ],
      "metadata": {
        "id": "6UWqZpdLtMOu"
      }
    },
    {
      "cell_type": "code",
      "source": [
        "diction = {}\n",
        "diction = dict()\n",
        "diction['Apple'] = 'Apfel'\n",
        "diction['Pencil'] = 'Stift'\n",
        "diction['Bird'] = 'Vogel'\n",
        "print(colored(\"\\033[1m\" + \"Sample Dictionary is: \", \"blue\"), diction)\n",
        "dict_keys = diction.keys()\n",
        "print(colored(\"\\033[1m\" + \"Keys of Dictionary are: \", \"blue\"), dict_keys)\n",
        "dict_val = diction.values()\n",
        "print(colored(\"\\033[1m\" + \"Values of  Dictionary are: \", \"blue\"), dict_val)"
      ],
      "metadata": {
        "colab": {
          "base_uri": "https://localhost:8080/"
        },
        "id": "PHA58fsVtFrZ",
        "outputId": "e1585829-ac4c-47dc-d8fb-8199bc9da538"
      },
      "execution_count": 24,
      "outputs": [
        {
          "output_type": "stream",
          "name": "stdout",
          "text": [
            "\u001b[34m\u001b[1mSample Dictionary is: \u001b[0m {'Apple': 'Apfel', 'Pencil': 'Stift', 'Bird': 'Vogel'}\n",
            "\u001b[34m\u001b[1mKeys of Dictionary are: \u001b[0m dict_keys(['Apple', 'Pencil', 'Bird'])\n",
            "\u001b[34m\u001b[1mValues of  Dictionary are: \u001b[0m dict_values(['Apfel', 'Stift', 'Vogel'])\n"
          ]
        }
      ]
    },
    {
      "cell_type": "markdown",
      "source": [
        "#### **SETS and FROZENSETS:**"
      ],
      "metadata": {
        "id": "GzA0gL7VuX1j"
      }
    },
    {
      "cell_type": "code",
      "source": [
        "sets = set()\n",
        "sets.add(1)\n",
        "sets.add(2)\n",
        "sets.add(3)\n",
        "sets.add(4)\n",
        "sets.add(5)\n",
        "print(colored(\"\\033[1m\" + \"Set is: \", \"blue\"), sets)\n",
        "list1 = [10, 12, 3, 45, 2, 34, 3, 8, 9, 0]\n",
        "sets = set(list1)\n",
        "print(colored(\"\\033[1m\" + \"A new Set is: \", \"blue\"), sets)\n",
        "print(colored(\"\\033[1m\" + \"Remove value of 10 and shorting: \", \"blue\"), sets.remove(10))\n",
        "print(colored(\"\\033[1m\" + \"A new Set is: \", \"blue\"), sets)\n"
      ],
      "metadata": {
        "colab": {
          "base_uri": "https://localhost:8080/"
        },
        "id": "09fFJXqRuc9A",
        "outputId": "4289e40f-f414-44b1-cf20-11fe79ccbce5"
      },
      "execution_count": 31,
      "outputs": [
        {
          "output_type": "stream",
          "name": "stdout",
          "text": [
            "\u001b[34m\u001b[1mSet is: \u001b[0m {1, 2, 3, 4, 5}\n",
            "\u001b[34m\u001b[1mA new Set is: \u001b[0m {0, 2, 3, 34, 8, 9, 10, 12, 45}\n",
            "\u001b[34m\u001b[1mRemove value of 10: \u001b[0m None\n",
            "\u001b[34m\u001b[1mA new Set is: \u001b[0m {0, 2, 3, 34, 8, 9, 12, 45}\n"
          ]
        }
      ]
    },
    {
      "cell_type": "markdown",
      "source": [
        "#### **FUNCTIONS:**"
      ],
      "metadata": {
        "id": "tDWezIWEwDID"
      }
    },
    {
      "cell_type": "code",
      "source": [
        "def Calculate_Note(name, scores):\n",
        "  means = 0 \n",
        "  for score in scores:\n",
        "    means += score\n",
        "  means /= len(scores)\n",
        "  if means > 90:\n",
        "    let = 'A'\n",
        "  elif means > 80:\n",
        "    let = 'B'\n",
        "  elif means > 60:\n",
        "    let = 'C'\n",
        "  elif means > 50:\n",
        "    let = 'D'\n",
        "  else:\n",
        "    let = 'F'\n",
        "  print(f'\\nName: {name}\\nMean: {means:.2f}\\nLetter: {let}\\n', end='-'*20)\n",
        "\n",
        "  "
      ],
      "metadata": {
        "id": "vPn0d11hwbwj"
      },
      "execution_count": 38,
      "outputs": []
    },
    {
      "cell_type": "markdown",
      "source": [
        "#### **IMPORTANT KNOWLEDGE !**"
      ],
      "metadata": {
        "id": "GPYla00sBUww"
      }
    },
    {
      "cell_type": "code",
      "source": [
        "keyword.kwlist # You cannot those variables name.. "
      ],
      "metadata": {
        "colab": {
          "base_uri": "https://localhost:8080/"
        },
        "id": "zdkSJaNHBZnB",
        "outputId": "930b96b7-0ae0-4841-d8e7-b56a2b0ee379"
      },
      "execution_count": 32,
      "outputs": [
        {
          "output_type": "execute_result",
          "data": {
            "text/plain": [
              "['False',\n",
              " 'None',\n",
              " 'True',\n",
              " 'and',\n",
              " 'as',\n",
              " 'assert',\n",
              " 'async',\n",
              " 'await',\n",
              " 'break',\n",
              " 'class',\n",
              " 'continue',\n",
              " 'def',\n",
              " 'del',\n",
              " 'elif',\n",
              " 'else',\n",
              " 'except',\n",
              " 'finally',\n",
              " 'for',\n",
              " 'from',\n",
              " 'global',\n",
              " 'if',\n",
              " 'import',\n",
              " 'in',\n",
              " 'is',\n",
              " 'lambda',\n",
              " 'nonlocal',\n",
              " 'not',\n",
              " 'or',\n",
              " 'pass',\n",
              " 'raise',\n",
              " 'return',\n",
              " 'try',\n",
              " 'while',\n",
              " 'with',\n",
              " 'yield']"
            ]
          },
          "metadata": {},
          "execution_count": 32
        }
      ]
    },
    {
      "cell_type": "code",
      "source": [
        "help(list) # returns features of list "
      ],
      "metadata": {
        "colab": {
          "base_uri": "https://localhost:8080/"
        },
        "id": "yJRB9SDYvuZ_",
        "outputId": "96f6cf7a-ac68-4202-bd36-193bf92a877e"
      },
      "execution_count": 35,
      "outputs": [
        {
          "output_type": "stream",
          "name": "stdout",
          "text": [
            "Help on class list in module builtins:\n",
            "\n",
            "class list(object)\n",
            " |  list(iterable=(), /)\n",
            " |  \n",
            " |  Built-in mutable sequence.\n",
            " |  \n",
            " |  If no argument is given, the constructor creates a new empty list.\n",
            " |  The argument must be an iterable if specified.\n",
            " |  \n",
            " |  Methods defined here:\n",
            " |  \n",
            " |  __add__(self, value, /)\n",
            " |      Return self+value.\n",
            " |  \n",
            " |  __contains__(self, key, /)\n",
            " |      Return key in self.\n",
            " |  \n",
            " |  __delitem__(self, key, /)\n",
            " |      Delete self[key].\n",
            " |  \n",
            " |  __eq__(self, value, /)\n",
            " |      Return self==value.\n",
            " |  \n",
            " |  __ge__(self, value, /)\n",
            " |      Return self>=value.\n",
            " |  \n",
            " |  __getattribute__(self, name, /)\n",
            " |      Return getattr(self, name).\n",
            " |  \n",
            " |  __getitem__(...)\n",
            " |      x.__getitem__(y) <==> x[y]\n",
            " |  \n",
            " |  __gt__(self, value, /)\n",
            " |      Return self>value.\n",
            " |  \n",
            " |  __iadd__(self, value, /)\n",
            " |      Implement self+=value.\n",
            " |  \n",
            " |  __imul__(self, value, /)\n",
            " |      Implement self*=value.\n",
            " |  \n",
            " |  __init__(self, /, *args, **kwargs)\n",
            " |      Initialize self.  See help(type(self)) for accurate signature.\n",
            " |  \n",
            " |  __iter__(self, /)\n",
            " |      Implement iter(self).\n",
            " |  \n",
            " |  __le__(self, value, /)\n",
            " |      Return self<=value.\n",
            " |  \n",
            " |  __len__(self, /)\n",
            " |      Return len(self).\n",
            " |  \n",
            " |  __lt__(self, value, /)\n",
            " |      Return self<value.\n",
            " |  \n",
            " |  __mul__(self, value, /)\n",
            " |      Return self*value.\n",
            " |  \n",
            " |  __ne__(self, value, /)\n",
            " |      Return self!=value.\n",
            " |  \n",
            " |  __repr__(self, /)\n",
            " |      Return repr(self).\n",
            " |  \n",
            " |  __reversed__(self, /)\n",
            " |      Return a reverse iterator over the list.\n",
            " |  \n",
            " |  __rmul__(self, value, /)\n",
            " |      Return value*self.\n",
            " |  \n",
            " |  __setitem__(self, key, value, /)\n",
            " |      Set self[key] to value.\n",
            " |  \n",
            " |  __sizeof__(self, /)\n",
            " |      Return the size of the list in memory, in bytes.\n",
            " |  \n",
            " |  append(self, object, /)\n",
            " |      Append object to the end of the list.\n",
            " |  \n",
            " |  clear(self, /)\n",
            " |      Remove all items from list.\n",
            " |  \n",
            " |  copy(self, /)\n",
            " |      Return a shallow copy of the list.\n",
            " |  \n",
            " |  count(self, value, /)\n",
            " |      Return number of occurrences of value.\n",
            " |  \n",
            " |  extend(self, iterable, /)\n",
            " |      Extend list by appending elements from the iterable.\n",
            " |  \n",
            " |  index(self, value, start=0, stop=9223372036854775807, /)\n",
            " |      Return first index of value.\n",
            " |      \n",
            " |      Raises ValueError if the value is not present.\n",
            " |  \n",
            " |  insert(self, index, object, /)\n",
            " |      Insert object before index.\n",
            " |  \n",
            " |  pop(self, index=-1, /)\n",
            " |      Remove and return item at index (default last).\n",
            " |      \n",
            " |      Raises IndexError if list is empty or index is out of range.\n",
            " |  \n",
            " |  remove(self, value, /)\n",
            " |      Remove first occurrence of value.\n",
            " |      \n",
            " |      Raises ValueError if the value is not present.\n",
            " |  \n",
            " |  reverse(self, /)\n",
            " |      Reverse *IN PLACE*.\n",
            " |  \n",
            " |  sort(self, /, *, key=None, reverse=False)\n",
            " |      Stable sort *IN PLACE*.\n",
            " |  \n",
            " |  ----------------------------------------------------------------------\n",
            " |  Static methods defined here:\n",
            " |  \n",
            " |  __new__(*args, **kwargs) from builtins.type\n",
            " |      Create and return a new object.  See help(type) for accurate signature.\n",
            " |  \n",
            " |  ----------------------------------------------------------------------\n",
            " |  Data and other attributes defined here:\n",
            " |  \n",
            " |  __hash__ = None\n",
            "\n"
          ]
        }
      ]
    },
    {
      "cell_type": "code",
      "source": [],
      "metadata": {
        "id": "_50If_h4vvUZ"
      },
      "execution_count": null,
      "outputs": []
    }
  ]
}