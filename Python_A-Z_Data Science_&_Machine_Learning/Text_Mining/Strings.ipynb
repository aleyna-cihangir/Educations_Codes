{
 "cells": [
  {
   "cell_type": "markdown",
   "id": "2e251c0d-c8b4-4e7a-9c8a-9aa68a96953e",
   "metadata": {
    "tags": []
   },
   "source": [
    "## **BASIC STRING OPERATIONS**"
   ]
  },
  {
   "cell_type": "markdown",
   "id": "5983fc3e-e4df-4dd9-822b-7073af8c7b2a",
   "metadata": {
    "tags": []
   },
   "source": [
    "#### **Python Libraries**"
   ]
  },
  {
   "cell_type": "code",
   "execution_count": 50,
   "id": "8c39b26a-f983-48ae-bc1e-7b8e4992efe7",
   "metadata": {},
   "outputs": [],
   "source": [
    "#!pip install nltk"
   ]
  },
  {
   "cell_type": "code",
   "execution_count": 51,
   "id": "8c6e6c52-db66-4d85-9d27-43f7c56fca0d",
   "metadata": {},
   "outputs": [],
   "source": [
    "#!pip install textblob"
   ]
  },
  {
   "cell_type": "code",
   "execution_count": 52,
   "id": "9293593d-185b-442e-904e-3b1f5bdec22d",
   "metadata": {},
   "outputs": [],
   "source": [
    "import numpy as np\n",
    "import pandas as pd \n",
    "import nltk\n",
    "import textblob\n",
    "import seaborn as sns\n",
    "from textblob import TextBlob\n",
    "from textblob import Word\n",
    "from nltk.stem import PorterStemmer\n",
    "from nltk.corpus import stopwords\n",
    "from termcolor import colored\n",
    "import matplotlib.pyplot as plt\n",
    "\n",
    "import warnings\n",
    "warnings.filterwarnings(\"ignore\", category=DeprecationWarning) \n",
    "warnings.filterwarnings(\"ignore\", category=FutureWarning)"
   ]
  },
  {
   "cell_type": "markdown",
   "id": "f58a82a4-d395-4bcc-9ad7-1925e409b6c4",
   "metadata": {},
   "source": [
    "#### **General**"
   ]
  },
  {
   "cell_type": "code",
   "execution_count": 53,
   "id": "ea20be01-f2d7-4965-ba70-aa0f952fb925",
   "metadata": {},
   "outputs": [
    {
     "name": "stdout",
     "output_type": "stream",
     "text": [
      "\u001b[34m\u001b[1mName: \u001b[0m XYZ\n",
      "\u001b[34m\u001b[1mName: \u001b[0m XYZXYZXYZ\n",
      "\u001b[34m\u001b[1mName: \u001b[0m KYZ\n"
     ]
    }
   ],
   "source": [
    "name_ = 'XYZ'\n",
    "print(colored(\"\\033[1m\" + \"Name: \", \"blue\"), name_) \n",
    "print(colored(\"\\033[1m\" + \"Name: \", \"blue\"), name_*3)\n",
    "print(colored(\"\\033[1m\" + \"Name: \", \"blue\"), 'K'+ name_[1:]) "
   ]
  },
  {
   "cell_type": "code",
   "execution_count": 54,
   "id": "48230b6d-acfe-4f32-99ff-28c9fc278821",
   "metadata": {},
   "outputs": [
    {
     "name": "stdout",
     "output_type": "stream",
     "text": [
      "\u001b[34m\u001b[1mName: \u001b[0mjohn\n",
      "\u001b[34m\u001b[1mName: \u001b[0madriana\n",
      "\u001b[34m\u001b[1mName: \u001b[0melena\n",
      "\u001b[34m\u001b[1m_ \u001b[0mjohn\n",
      "\u001b[34m\u001b[1m_ \u001b[0madriana\n",
      "\u001b[34m\u001b[1m_ \u001b[0melena\n",
      "\u001b[34m\u001b[1mNames: \u001b[0m (0, 'john') (1, 'adriana') (2, 'elena')\n"
     ]
    }
   ],
   "source": [
    "names_ = ['john','adriana','elena']\n",
    "for i in names_:\n",
    "    print(colored(\"\\033[1m\" + \"Name: \", \"blue\"),i,sep='') \n",
    "\n",
    "for i in names_:\n",
    "    print(colored(\"\\033[1m\" + \"_ \", \"blue\"),i[0:],sep='') \n",
    "print(colored(\"\\033[1m\" + \"Names: \", \"blue\"), *enumerate(names_))"
   ]
  },
  {
   "cell_type": "code",
   "execution_count": 55,
   "id": "19dd61ca-0297-474c-977a-ff36f40a64ff",
   "metadata": {},
   "outputs": [
    {
     "data": {
      "text/plain": [
       "True"
      ]
     },
     "execution_count": 55,
     "metadata": {},
     "output_type": "execute_result"
    }
   ],
   "source": [
    "\"mvk\".isalpha()"
   ]
  },
  {
   "cell_type": "code",
   "execution_count": 56,
   "id": "63b8f3aa-434a-447b-8ac6-0fffed20b20c",
   "metadata": {},
   "outputs": [
    {
     "data": {
      "text/plain": [
       "False"
      ]
     },
     "execution_count": 56,
     "metadata": {},
     "output_type": "execute_result"
    }
   ],
   "source": [
    "\"mvk30\".isalpha()"
   ]
  },
  {
   "cell_type": "code",
   "execution_count": 57,
   "id": "bbf1102a-391e-4968-a893-73acbba14e51",
   "metadata": {},
   "outputs": [
    {
     "name": "stdout",
     "output_type": "stream",
     "text": [
      "\u001b[34m\u001b[1mStart with a: \u001b[0m False\n",
      "\u001b[34m\u001b[1mStart with A: \u001b[0m True\n",
      "\u001b[34m\u001b[1mStart with r: \u001b[0m True\n",
      "\u001b[34m\u001b[1mHow many a in Name: \u001b[0m 2\n",
      "\u001b[34m\u001b[1mSplitting: \u001b[0m ['Aleyna', 'Cihangir']\n",
      "\u001b[34m\u001b[1mSplitting comma: \u001b[0m ['Aleyna Cihangir']\n",
      "\u001b[34m\u001b[1mSplitting line: \u001b[0m ['Aleyna Cihangir']\n",
      "\u001b[34m\u001b[1mUpper: \u001b[0m ALEYNA CIHANGIR\n",
      "\u001b[34m\u001b[1mLower: \u001b[0m aleyna cihangir\n",
      "\u001b[34m\u001b[1mCapitalize: \u001b[0m Aleyna cihangir\n",
      "\u001b[34m\u001b[1mTitle: \u001b[0m Aleyna Cihangir\n",
      "\u001b[34m\u001b[1mSwapcase: \u001b[0m aLEYNA cIHANGIR\n",
      "\u001b[34m\u001b[1mStrip: \u001b[0m Aleyna Cihangir\n",
      "\u001b[34m\u001b[1mStrip with 'r': \u001b[0m Aleyna Cihangi\n",
      "\u001b[34m\u001b[1mAdd space for each letters: \u001b[0m A l e y n a   C i h a n g i r\n",
      "\u001b[34m\u001b[1mChange it: \u001b[0m AleynO CihOngir\n"
     ]
    }
   ],
   "source": [
    "name_ = \"Aleyna Cihangir\"\n",
    "print(colored(\"\\033[1m\" + \"Start with a: \", \"blue\"), name_.startswith(\"a\"))\n",
    "print(colored(\"\\033[1m\" + \"Start with A: \", \"blue\"), name_.startswith(\"A\"))\n",
    "print(colored(\"\\033[1m\" + \"Start with r: \", \"blue\"), name_.endswith(\"r\"))\n",
    "print(colored(\"\\033[1m\" + \"How many a in Name: \", \"blue\"), name_.count(\"a\"))\n",
    "print(colored(\"\\033[1m\" + \"Splitting: \", \"blue\"), name_.split())\n",
    "print(colored(\"\\033[1m\" + \"Splitting comma: \", \"blue\"), name_.split(','))\n",
    "print(colored(\"\\033[1m\" + \"Splitting line: \", \"blue\"), name_.split('_'))\n",
    "print(colored(\"\\033[1m\" + \"Upper: \", \"blue\"), name_.upper())\n",
    "print(colored(\"\\033[1m\" + \"Lower: \", \"blue\"), name_.lower())\n",
    "print(colored(\"\\033[1m\" + \"Capitalize: \", \"blue\"), name_.capitalize())\n",
    "print(colored(\"\\033[1m\" + \"Title: \", \"blue\"), name_.title())\n",
    "print(colored(\"\\033[1m\" + \"Swapcase: \", \"blue\"), name_.swapcase())\n",
    "print(colored(\"\\033[1m\" + \"Strip: \", \"blue\"), name_.strip())\n",
    "print(colored(\"\\033[1m\" + \"Strip with 'r': \", \"blue\"), name_.strip('r'))\n",
    "joiner = ' '\n",
    "print(colored(\"\\033[1m\" + \"Add space for each letters: \", \"blue\"), joiner.join(name_))\n",
    "print(colored(\"\\033[1m\" + \"Change it: \", \"blue\"), name_.replace('a','O'))"
   ]
  },
  {
   "cell_type": "markdown",
   "id": "1ca5285d-749a-4ac1-b9e4-83b05fc50ee6",
   "metadata": {},
   "source": [
    "#### **Text Preprocessing**"
   ]
  },
  {
   "cell_type": "code",
   "execution_count": 58,
   "id": "c01d6cce-5709-4164-9d7b-084df6cfdac9",
   "metadata": {},
   "outputs": [
    {
     "data": {
      "text/plain": [
       "\"\\nA Scandal in Bohemia! 01\\nThe Red-headed League,2\\nA Case, of Identity 33\\nThe Boscombe Valley Mystery4\\nThe Five Orange Pips1\\nThe Man with? the Twisted Lip\\nThe Adventure of the Blue Carbuncle\\nThe Adventure of the Speckled Band\\nThe Adventure of the Engineer's Thumb\\nThe Adventure of the Noble Bachelor\\nThe Adventure of the Beryl Coronet\\nThe Adventure of the Copper Beeches\""
      ]
     },
     "execution_count": 58,
     "metadata": {},
     "output_type": "execute_result"
    }
   ],
   "source": [
    "text_ = \"\"\"\n",
    "A Scandal in Bohemia! 01\n",
    "The Red-headed League,2\n",
    "A Case, of Identity 33\n",
    "The Boscombe Valley Mystery4\n",
    "The Five Orange Pips1\n",
    "The Man with? the Twisted Lip\n",
    "The Adventure of the Blue Carbuncle\n",
    "The Adventure of the Speckled Band\n",
    "The Adventure of the Engineer's Thumb\n",
    "The Adventure of the Noble Bachelor\n",
    "The Adventure of the Beryl Coronet\n",
    "The Adventure of the Copper Beeches\"\"\"\n",
    "text_"
   ]
  },
  {
   "cell_type": "code",
   "execution_count": 59,
   "id": "3f65706d-ae8d-4999-a2db-1a48ebed4ca1",
   "metadata": {},
   "outputs": [
    {
     "data": {
      "text/plain": [
       "['',\n",
       " 'A Scandal in Bohemia! 01',\n",
       " 'The Red-headed League,2',\n",
       " 'A Case, of Identity 33',\n",
       " 'The Boscombe Valley Mystery4',\n",
       " 'The Five Orange Pips1',\n",
       " 'The Man with? the Twisted Lip',\n",
       " 'The Adventure of the Blue Carbuncle',\n",
       " 'The Adventure of the Speckled Band',\n",
       " \"The Adventure of the Engineer's Thumb\",\n",
       " 'The Adventure of the Noble Bachelor',\n",
       " 'The Adventure of the Beryl Coronet',\n",
       " 'The Adventure of the Copper Beeches']"
      ]
     },
     "execution_count": 59,
     "metadata": {},
     "output_type": "execute_result"
    }
   ],
   "source": [
    "text_.split(\"\\n\")"
   ]
  },
  {
   "cell_type": "code",
   "execution_count": 60,
   "id": "291bd6c6-aad7-42a1-b56e-ac73b39850c9",
   "metadata": {},
   "outputs": [
    {
     "data": {
      "text/plain": [
       "0                                          \n",
       "1                  A Scandal in Bohemia! 01\n",
       "2                   The Red-headed League,2\n",
       "3                    A Case, of Identity 33\n",
       "4              The Boscombe Valley Mystery4\n",
       "5                     The Five Orange Pips1\n",
       "6             The Man with? the Twisted Lip\n",
       "7       The Adventure of the Blue Carbuncle\n",
       "8        The Adventure of the Speckled Band\n",
       "9     The Adventure of the Engineer's Thumb\n",
       "10      The Adventure of the Noble Bachelor\n",
       "11       The Adventure of the Beryl Coronet\n",
       "12      The Adventure of the Copper Beeches\n",
       "dtype: object"
      ]
     },
     "execution_count": 60,
     "metadata": {},
     "output_type": "execute_result"
    }
   ],
   "source": [
    "v = pd.Series(text_.split(\"\\n\"))\n",
    "v"
   ]
  },
  {
   "cell_type": "code",
   "execution_count": 61,
   "id": "442f327f-b975-4a92-bc48-b55d3e276925",
   "metadata": {},
   "outputs": [
    {
     "data": {
      "text/plain": [
       "1                  A Scandal in Bohemia! 01\n",
       "2                   The Red-headed League,2\n",
       "3                    A Case, of Identity 33\n",
       "4              The Boscombe Valley Mystery4\n",
       "5                     The Five Orange Pips1\n",
       "6             The Man with? the Twisted Lip\n",
       "7       The Adventure of the Blue Carbuncle\n",
       "8        The Adventure of the Speckled Band\n",
       "9     The Adventure of the Engineer's Thumb\n",
       "10      The Adventure of the Noble Bachelor\n",
       "11       The Adventure of the Beryl Coronet\n",
       "12      The Adventure of the Copper Beeches\n",
       "dtype: object"
      ]
     },
     "execution_count": 61,
     "metadata": {},
     "output_type": "execute_result"
    }
   ],
   "source": [
    "text_vector = v[1:len(v)]\n",
    "text_vector"
   ]
  },
  {
   "cell_type": "code",
   "execution_count": 84,
   "id": "3bb790ab-b993-441a-8b59-0bda99754115",
   "metadata": {},
   "outputs": [
    {
     "data": {
      "text/html": [
       "<div>\n",
       "<style scoped>\n",
       "    .dataframe tbody tr th:only-of-type {\n",
       "        vertical-align: middle;\n",
       "    }\n",
       "\n",
       "    .dataframe tbody tr th {\n",
       "        vertical-align: top;\n",
       "    }\n",
       "\n",
       "    .dataframe thead th {\n",
       "        text-align: right;\n",
       "    }\n",
       "</style>\n",
       "<table border=\"1\" class=\"dataframe\">\n",
       "  <thead>\n",
       "    <tr style=\"text-align: right;\">\n",
       "      <th></th>\n",
       "      <th>Stories</th>\n",
       "    </tr>\n",
       "  </thead>\n",
       "  <tbody>\n",
       "    <tr>\n",
       "      <th>1</th>\n",
       "      <td>A Scandal in Bohemia! 01</td>\n",
       "    </tr>\n",
       "    <tr>\n",
       "      <th>2</th>\n",
       "      <td>The Red-headed League,2</td>\n",
       "    </tr>\n",
       "    <tr>\n",
       "      <th>3</th>\n",
       "      <td>A Case, of Identity 33</td>\n",
       "    </tr>\n",
       "    <tr>\n",
       "      <th>4</th>\n",
       "      <td>The Boscombe Valley Mystery4</td>\n",
       "    </tr>\n",
       "    <tr>\n",
       "      <th>5</th>\n",
       "      <td>The Five Orange Pips1</td>\n",
       "    </tr>\n",
       "    <tr>\n",
       "      <th>6</th>\n",
       "      <td>The Man with? the Twisted Lip</td>\n",
       "    </tr>\n",
       "    <tr>\n",
       "      <th>7</th>\n",
       "      <td>The Adventure of the Blue Carbuncle</td>\n",
       "    </tr>\n",
       "    <tr>\n",
       "      <th>8</th>\n",
       "      <td>The Adventure of the Speckled Band</td>\n",
       "    </tr>\n",
       "    <tr>\n",
       "      <th>9</th>\n",
       "      <td>The Adventure of the Engineer's Thumb</td>\n",
       "    </tr>\n",
       "    <tr>\n",
       "      <th>10</th>\n",
       "      <td>The Adventure of the Noble Bachelor</td>\n",
       "    </tr>\n",
       "    <tr>\n",
       "      <th>11</th>\n",
       "      <td>The Adventure of the Beryl Coronet</td>\n",
       "    </tr>\n",
       "    <tr>\n",
       "      <th>12</th>\n",
       "      <td>The Adventure of the Copper Beeches</td>\n",
       "    </tr>\n",
       "  </tbody>\n",
       "</table>\n",
       "</div>"
      ],
      "text/plain": [
       "                                  Stories\n",
       "1                A Scandal in Bohemia! 01\n",
       "2                 The Red-headed League,2\n",
       "3                  A Case, of Identity 33\n",
       "4            The Boscombe Valley Mystery4\n",
       "5                   The Five Orange Pips1\n",
       "6           The Man with? the Twisted Lip\n",
       "7     The Adventure of the Blue Carbuncle\n",
       "8      The Adventure of the Speckled Band\n",
       "9   The Adventure of the Engineer's Thumb\n",
       "10    The Adventure of the Noble Bachelor\n",
       "11     The Adventure of the Beryl Coronet\n",
       "12    The Adventure of the Copper Beeches"
      ]
     },
     "execution_count": 84,
     "metadata": {},
     "output_type": "execute_result"
    }
   ],
   "source": [
    "mdf = pd.DataFrame(text_vector, columns = [\"Stories\"])\n",
    "mdf"
   ]
  },
  {
   "cell_type": "code",
   "execution_count": 63,
   "id": "cf4697bc-914c-4259-9c3e-6a11716f9e9f",
   "metadata": {},
   "outputs": [
    {
     "data": {
      "text/plain": [
       "'123'"
      ]
     },
     "execution_count": 63,
     "metadata": {},
     "output_type": "execute_result"
    }
   ],
   "source": [
    "list1= [1,2,3]\n",
    "str1 = \"\".join(str(i) for i in list1)\n",
    "str1"
   ]
  },
  {
   "cell_type": "code",
   "execution_count": 64,
   "id": "b7ec0d2d-d38a-41f8-8ca6-80b17309b60b",
   "metadata": {},
   "outputs": [
    {
     "data": {
      "text/plain": [
       "1                  a scandal in bohemia! 01\n",
       "2                   the red-headed league,2\n",
       "3                    a case, of identity 33\n",
       "4              the boscombe valley mystery4\n",
       "5                     the five orange pips1\n",
       "6             the man with? the twisted lip\n",
       "7       the adventure of the blue carbuncle\n",
       "8        the adventure of the speckled band\n",
       "9     the adventure of the engineer's thumb\n",
       "10      the adventure of the noble bachelor\n",
       "11       the adventure of the beryl coronet\n",
       "12      the adventure of the copper beeches\n",
       "Name: Stories, dtype: object"
      ]
     },
     "execution_count": 64,
     "metadata": {},
     "output_type": "execute_result"
    }
   ],
   "source": [
    "mdf[\"Stories\"].apply(lambda x: \" \".join(x.lower() for x in x.split()))"
   ]
  },
  {
   "cell_type": "code",
   "execution_count": 65,
   "id": "4267f29a-ae04-45b4-90ff-4a5d335d44a0",
   "metadata": {},
   "outputs": [
    {
     "data": {
      "text/plain": [
       "1                  a scandal in bohemia! 01\n",
       "2                   the red-headed league,2\n",
       "3                    a case, of identity 33\n",
       "4              the boscombe valley mystery4\n",
       "5                     the five orange pips1\n",
       "6             the man with? the twisted lip\n",
       "7       the adventure of the blue carbuncle\n",
       "8        the adventure of the speckled band\n",
       "9     the adventure of the engineer's thumb\n",
       "10      the adventure of the noble bachelor\n",
       "11       the adventure of the beryl coronet\n",
       "12      the adventure of the copper beeches\n",
       "Name: Stories, dtype: object"
      ]
     },
     "execution_count": 65,
     "metadata": {},
     "output_type": "execute_result"
    }
   ],
   "source": [
    "mdf = mdf[\"Stories\"].apply(lambda x: \" \".join(x.lower() for x in x.split()))\n",
    "mdf"
   ]
  },
  {
   "cell_type": "code",
   "execution_count": 66,
   "id": "1c6c7ec3-5067-45c8-82b4-dcf4b6c2f6dc",
   "metadata": {},
   "outputs": [
    {
     "data": {
      "text/plain": [
       "1                  a scandal in bohemia 01\n",
       "2                    the redheaded league2\n",
       "3                    a case of identity 33\n",
       "4             the boscombe valley mystery4\n",
       "5                    the five orange pips1\n",
       "6             the man with the twisted lip\n",
       "7      the adventure of the blue carbuncle\n",
       "8       the adventure of the speckled band\n",
       "9     the adventure of the engineers thumb\n",
       "10     the adventure of the noble bachelor\n",
       "11      the adventure of the beryl coronet\n",
       "12     the adventure of the copper beeches\n",
       "Name: Stories, dtype: object"
      ]
     },
     "execution_count": 66,
     "metadata": {},
     "output_type": "execute_result"
    }
   ],
   "source": [
    "# Droping punctuation marks\n",
    "mdf = mdf.str.replace(\"[^\\w\\s]\",\"\")\n",
    "mdf "
   ]
  },
  {
   "cell_type": "code",
   "execution_count": 67,
   "id": "6ae63c93-522f-4370-a09d-ed40f180d8af",
   "metadata": {},
   "outputs": [
    {
     "data": {
      "text/plain": [
       "1                    a scandal in bohemia \n",
       "2                     the redheaded league\n",
       "3                      a case of identity \n",
       "4              the boscombe valley mystery\n",
       "5                     the five orange pips\n",
       "6             the man with the twisted lip\n",
       "7      the adventure of the blue carbuncle\n",
       "8       the adventure of the speckled band\n",
       "9     the adventure of the engineers thumb\n",
       "10     the adventure of the noble bachelor\n",
       "11      the adventure of the beryl coronet\n",
       "12     the adventure of the copper beeches\n",
       "Name: Stories, dtype: object"
      ]
     },
     "execution_count": 67,
     "metadata": {},
     "output_type": "execute_result"
    }
   ],
   "source": [
    "# Droping Numbers\n",
    "mdf = mdf.str.replace(\"\\d\",\"\")\n",
    "mdf"
   ]
  },
  {
   "cell_type": "code",
   "execution_count": 68,
   "id": "0768d13c-9488-4c74-a6ca-98aa4fd156c9",
   "metadata": {},
   "outputs": [
    {
     "name": "stderr",
     "output_type": "stream",
     "text": [
      "[nltk_data] Downloading package stopwords to\n",
      "[nltk_data]     C:\\Users\\AleynaCihangir\\AppData\\Roaming\\nltk_data...\n",
      "[nltk_data]   Package stopwords is already up-to-date!\n"
     ]
    }
   ],
   "source": [
    "nltk.download(\"stopwords\")\n",
    "sw = stopwords.words(\"english\")"
   ]
  },
  {
   "cell_type": "code",
   "execution_count": 69,
   "id": "445ab486-4f42-4a09-9c5c-0d922f8ac934",
   "metadata": {},
   "outputs": [
    {
     "name": "stderr",
     "output_type": "stream",
     "text": [
      "[nltk_data] Downloading package punkt to\n",
      "[nltk_data]     C:\\Users\\AleynaCihangir\\AppData\\Roaming\\nltk_data...\n",
      "[nltk_data]   Package punkt is already up-to-date!\n"
     ]
    },
    {
     "data": {
      "text/plain": [
       "True"
      ]
     },
     "execution_count": 69,
     "metadata": {},
     "output_type": "execute_result"
    }
   ],
   "source": [
    "nltk.download(\"punkt\")"
   ]
  },
  {
   "cell_type": "code",
   "execution_count": 70,
   "id": "94846898-6c12-4e4a-aa92-f232392a1c06",
   "metadata": {},
   "outputs": [
    {
     "data": {
      "text/plain": [
       "Series([], Name: stories, dtype: object)"
      ]
     },
     "execution_count": 70,
     "metadata": {},
     "output_type": "execute_result"
    }
   ],
   "source": [
    "mdf = pd.DataFrame(mdf, columns = [\"stories\"])\n",
    "pd.Series(\" \".join(mdf[\"stories\"]).split()).value_counts()\n",
    "deleted = pd.Series(\" \".join(mdf[\"stories\"]).split()).value_counts()[-3:]\n",
    "mdf[\"stories\"].apply(lambda x: \" \".join(i for i in x.split() if i not in deleted))"
   ]
  },
  {
   "cell_type": "code",
   "execution_count": 72,
   "id": "0b4d84b8-1e77-4b09-b7bf-46275640f7e8",
   "metadata": {},
   "outputs": [
    {
     "data": {
      "text/plain": [
       "Series([], Name: stories, dtype: object)"
      ]
     },
     "execution_count": 72,
     "metadata": {},
     "output_type": "execute_result"
    }
   ],
   "source": [
    "mdf[\"stories\"].apply(lambda x: \" \".join([st.stem(word) for word in x.split()]))"
   ]
  },
  {
   "cell_type": "code",
   "execution_count": 71,
   "id": "f7ae5d5d-f678-4586-b915-82e5cf328db2",
   "metadata": {},
   "outputs": [
    {
     "name": "stderr",
     "output_type": "stream",
     "text": [
      "[nltk_data] Downloading package wordnet to\n",
      "[nltk_data]     C:\\Users\\AleynaCihangir\\AppData\\Roaming\\nltk_data...\n",
      "[nltk_data]   Package wordnet is already up-to-date!\n"
     ]
    },
    {
     "data": {
      "text/plain": [
       "True"
      ]
     },
     "execution_count": 71,
     "metadata": {},
     "output_type": "execute_result"
    }
   ],
   "source": [
    "# Stemming \n",
    "st = PorterStemmer()\n",
    "### mdf['stories'].apply(lambda x: ' '.join([st.stem(word) for word in x.split()]))\n",
    "# Lemmatization\n",
    "nltk.download(\"wordnet\")\n",
    "# d_mdf[\"stories\"].apply(lambda x: \" \".join([Word(word).lemmatize() for word in x.split()]))"
   ]
  },
  {
   "cell_type": "markdown",
   "id": "2a7d8f41-39fc-4ace-8226-65a8da0286f7",
   "metadata": {},
   "source": [
    "#### **N-Gram**"
   ]
  },
  {
   "cell_type": "code",
   "execution_count": 75,
   "id": "246a9a16-8300-4214-ba64-daaa838478e0",
   "metadata": {},
   "outputs": [],
   "source": [
    "# is a Turkish sentence\n",
    "a = \"\"\"Bu örneği anlaşılabilmesi için daha uzun bir metin üzerinden göstereceğim.N-gram'lar birlikte kullanılan kelimelerin kombinasyolarını gösterir\"\"\""
   ]
  },
  {
   "cell_type": "code",
   "execution_count": 76,
   "id": "b4d447f0-7e6c-4ae1-bb94-c04e307b7eac",
   "metadata": {},
   "outputs": [
    {
     "data": {
      "text/plain": [
       "[WordList(['Bu', 'örneği', 'anlaşılabilmesi']),\n",
       " WordList(['örneği', 'anlaşılabilmesi', 'için']),\n",
       " WordList(['anlaşılabilmesi', 'için', 'daha']),\n",
       " WordList(['için', 'daha', 'uzun']),\n",
       " WordList(['daha', 'uzun', 'bir']),\n",
       " WordList(['uzun', 'bir', 'metin']),\n",
       " WordList(['bir', 'metin', 'üzerinden']),\n",
       " WordList(['metin', 'üzerinden', \"göstereceğim.N-gram'lar\"]),\n",
       " WordList(['üzerinden', \"göstereceğim.N-gram'lar\", 'birlikte']),\n",
       " WordList([\"göstereceğim.N-gram'lar\", 'birlikte', 'kullanılan']),\n",
       " WordList(['birlikte', 'kullanılan', 'kelimelerin']),\n",
       " WordList(['kullanılan', 'kelimelerin', 'kombinasyolarını']),\n",
       " WordList(['kelimelerin', 'kombinasyolarını', 'gösterir'])]"
      ]
     },
     "execution_count": 76,
     "metadata": {},
     "output_type": "execute_result"
    }
   ],
   "source": [
    "TextBlob(a).ngrams(3)"
   ]
  },
  {
   "cell_type": "markdown",
   "id": "439b4c6c-e69a-4deb-bbc4-79c6530402ae",
   "metadata": {},
   "source": [
    "#### **POS(Part of Speech Tagging)**"
   ]
  },
  {
   "cell_type": "code",
   "execution_count": 77,
   "id": "e101b772-4515-46cd-90c4-5eadfa8ada19",
   "metadata": {},
   "outputs": [
    {
     "name": "stderr",
     "output_type": "stream",
     "text": [
      "[nltk_data] Downloading package averaged_perceptron_tagger to\n",
      "[nltk_data]     C:\\Users\\AleynaCihangir\\AppData\\Roaming\\nltk_data...\n",
      "[nltk_data]   Unzipping taggers\\averaged_perceptron_tagger.zip.\n"
     ]
    },
    {
     "data": {
      "text/plain": [
       "True"
      ]
     },
     "execution_count": 77,
     "metadata": {},
     "output_type": "execute_result"
    }
   ],
   "source": [
    "nltk.download(\"averaged_perceptron_tagger\")"
   ]
  },
  {
   "cell_type": "code",
   "execution_count": 87,
   "id": "7271c7bf-b156-4cbb-910f-315343d4e960",
   "metadata": {},
   "outputs": [
    {
     "data": {
      "text/plain": [
       "[('The', 'DT'), ('Red-headed', 'JJ'), ('League,2', 'NNP')]"
      ]
     },
     "execution_count": 87,
     "metadata": {},
     "output_type": "execute_result"
    }
   ],
   "source": [
    "TextBlob(mdf[\"Stories\"][2]).tags"
   ]
  },
  {
   "cell_type": "code",
   "execution_count": 88,
   "id": "f8c91528-2f14-4578-9027-490d2af51317",
   "metadata": {},
   "outputs": [
    {
     "data": {
      "text/plain": [
       "1     [(A, DT), (Scandal, NNP), (in, IN), (Bohemia, ...\n",
       "2        [(The, DT), (Red-headed, JJ), (League,2, NNP)]\n",
       "3     [(A, DT), (Case, NNP), (of, IN), (Identity, NN...\n",
       "4     [(The, DT), (Boscombe, NNP), (Valley, NNP), (M...\n",
       "5     [(The, DT), (Five, NNP), (Orange, NNP), (Pips1...\n",
       "6     [(The, DT), (Man, NN), (with, IN), (the, DT), ...\n",
       "7     [(The, DT), (Adventure, NN), (of, IN), (the, D...\n",
       "8     [(The, DT), (Adventure, NN), (of, IN), (the, D...\n",
       "9     [(The, DT), (Adventure, NN), (of, IN), (the, D...\n",
       "10    [(The, DT), (Adventure, NN), (of, IN), (the, D...\n",
       "11    [(The, DT), (Adventure, NN), (of, IN), (the, D...\n",
       "12    [(The, DT), (Adventure, NN), (of, IN), (the, D...\n",
       "Name: Stories, dtype: object"
      ]
     },
     "execution_count": 88,
     "metadata": {},
     "output_type": "execute_result"
    }
   ],
   "source": [
    "mdf[\"Stories\"].apply(lambda x: TextBlob(x).tags)"
   ]
  },
  {
   "cell_type": "code",
   "execution_count": 100,
   "id": "ca43b607-cbf2-4b7b-b7ee-9fa13f5efb0c",
   "metadata": {},
   "outputs": [
    {
     "name": "stdout",
     "output_type": "stream",
     "text": [
      "(S\n",
      "  R/NNP\n",
      "  and/CC\n",
      "  Python/NNP\n",
      "  are/VBP\n",
      "  useful/JJ\n",
      "  data/NNS\n",
      "  (NP science/NN)\n",
      "  tools/NNS\n",
      "  for/IN\n",
      "  the/DT\n",
      "  new/JJ\n",
      "  or/CC\n",
      "  old/JJ\n",
      "  data/NNS\n",
      "  scientists/NNS\n",
      "  who/WP\n",
      "  eager/VBP\n",
      "  to/TO\n",
      "  do/VB\n",
      "  efficent/JJ\n",
      "  data/NNS\n",
      "  (NP science/NN)\n",
      "  (NP task/NN))\n"
     ]
    }
   ],
   "source": [
    "pos = mdf[\"Stories\"].apply(lambda x: TextBlob(x).tags)\n",
    "# is a Turkish sentence\n",
    "sentenc_e = \"R and Python are useful data science tools for the new or old data scientists who eager to do efficent data science task\"\n",
    "pos = TextBlob(sentenc_e).tags\n",
    "reg_exp = \"NP: {<DT>?<JJ>*<NN>}\"\n",
    "rp = nltk.RegexpParser(reg_exp)\n",
    "results = rp.parse(pos)\n",
    "print(results)\n",
    "results.draw()"
   ]
  },
  {
   "cell_type": "code",
   "execution_count": 103,
   "id": "0d0c5485-8673-4316-8570-ed84af3a3055",
   "metadata": {},
   "outputs": [
    {
     "data": {
      "text/plain": [
       "1     24\n",
       "2     23\n",
       "3     22\n",
       "4     28\n",
       "5     21\n",
       "6     29\n",
       "7     35\n",
       "8     34\n",
       "9     37\n",
       "10    35\n",
       "11    34\n",
       "12    35\n",
       "Name: Stories, dtype: int64"
      ]
     },
     "execution_count": 103,
     "metadata": {},
     "output_type": "execute_result"
    }
   ],
   "source": [
    "o_df = mdf.copy()\n",
    "o_df[\"Stories\"].str.len()"
   ]
  },
  {
   "cell_type": "code",
   "execution_count": 105,
   "id": "f4c0b74e-86aa-42a7-bfb6-027cb1c423d0",
   "metadata": {},
   "outputs": [
    {
     "data": {
      "text/html": [
       "<div>\n",
       "<style scoped>\n",
       "    .dataframe tbody tr th:only-of-type {\n",
       "        vertical-align: middle;\n",
       "    }\n",
       "\n",
       "    .dataframe tbody tr th {\n",
       "        vertical-align: top;\n",
       "    }\n",
       "\n",
       "    .dataframe thead th {\n",
       "        text-align: right;\n",
       "    }\n",
       "</style>\n",
       "<table border=\"1\" class=\"dataframe\">\n",
       "  <thead>\n",
       "    <tr style=\"text-align: right;\">\n",
       "      <th></th>\n",
       "      <th>Stories</th>\n",
       "      <th>Leng_Num</th>\n",
       "    </tr>\n",
       "  </thead>\n",
       "  <tbody>\n",
       "    <tr>\n",
       "      <th>1</th>\n",
       "      <td>A Scandal in Bohemia! 01</td>\n",
       "      <td>24</td>\n",
       "    </tr>\n",
       "    <tr>\n",
       "      <th>2</th>\n",
       "      <td>The Red-headed League,2</td>\n",
       "      <td>23</td>\n",
       "    </tr>\n",
       "    <tr>\n",
       "      <th>3</th>\n",
       "      <td>A Case, of Identity 33</td>\n",
       "      <td>22</td>\n",
       "    </tr>\n",
       "    <tr>\n",
       "      <th>4</th>\n",
       "      <td>The Boscombe Valley Mystery4</td>\n",
       "      <td>28</td>\n",
       "    </tr>\n",
       "    <tr>\n",
       "      <th>5</th>\n",
       "      <td>The Five Orange Pips1</td>\n",
       "      <td>21</td>\n",
       "    </tr>\n",
       "    <tr>\n",
       "      <th>6</th>\n",
       "      <td>The Man with? the Twisted Lip</td>\n",
       "      <td>29</td>\n",
       "    </tr>\n",
       "    <tr>\n",
       "      <th>7</th>\n",
       "      <td>The Adventure of the Blue Carbuncle</td>\n",
       "      <td>35</td>\n",
       "    </tr>\n",
       "    <tr>\n",
       "      <th>8</th>\n",
       "      <td>The Adventure of the Speckled Band</td>\n",
       "      <td>34</td>\n",
       "    </tr>\n",
       "    <tr>\n",
       "      <th>9</th>\n",
       "      <td>The Adventure of the Engineer's Thumb</td>\n",
       "      <td>37</td>\n",
       "    </tr>\n",
       "    <tr>\n",
       "      <th>10</th>\n",
       "      <td>The Adventure of the Noble Bachelor</td>\n",
       "      <td>35</td>\n",
       "    </tr>\n",
       "    <tr>\n",
       "      <th>11</th>\n",
       "      <td>The Adventure of the Beryl Coronet</td>\n",
       "      <td>34</td>\n",
       "    </tr>\n",
       "    <tr>\n",
       "      <th>12</th>\n",
       "      <td>The Adventure of the Copper Beeches</td>\n",
       "      <td>35</td>\n",
       "    </tr>\n",
       "  </tbody>\n",
       "</table>\n",
       "</div>"
      ],
      "text/plain": [
       "                                  Stories  Leng_Num\n",
       "1                A Scandal in Bohemia! 01        24\n",
       "2                 The Red-headed League,2        23\n",
       "3                  A Case, of Identity 33        22\n",
       "4            The Boscombe Valley Mystery4        28\n",
       "5                   The Five Orange Pips1        21\n",
       "6           The Man with? the Twisted Lip        29\n",
       "7     The Adventure of the Blue Carbuncle        35\n",
       "8      The Adventure of the Speckled Band        34\n",
       "9   The Adventure of the Engineer's Thumb        37\n",
       "10    The Adventure of the Noble Bachelor        35\n",
       "11     The Adventure of the Beryl Coronet        34\n",
       "12    The Adventure of the Copper Beeches        35"
      ]
     },
     "execution_count": 105,
     "metadata": {},
     "output_type": "execute_result"
    }
   ],
   "source": [
    "o_df[\"Leng_Num\"] = o_df[\"Stories\"].str.len()\n",
    "o_df"
   ]
  },
  {
   "cell_type": "code",
   "execution_count": 107,
   "id": "2999a5ba-8b33-4eb0-b260-90a14235cd7b",
   "metadata": {},
   "outputs": [
    {
     "data": {
      "text/html": [
       "<div>\n",
       "<style scoped>\n",
       "    .dataframe tbody tr th:only-of-type {\n",
       "        vertical-align: middle;\n",
       "    }\n",
       "\n",
       "    .dataframe tbody tr th {\n",
       "        vertical-align: top;\n",
       "    }\n",
       "\n",
       "    .dataframe thead th {\n",
       "        text-align: right;\n",
       "    }\n",
       "</style>\n",
       "<table border=\"1\" class=\"dataframe\">\n",
       "  <thead>\n",
       "    <tr style=\"text-align: right;\">\n",
       "      <th></th>\n",
       "      <th>Stories</th>\n",
       "      <th>Leng_Num</th>\n",
       "    </tr>\n",
       "  </thead>\n",
       "  <tbody>\n",
       "    <tr>\n",
       "      <th>1</th>\n",
       "      <td>A Scandal in Bohemia! 01</td>\n",
       "      <td>5</td>\n",
       "    </tr>\n",
       "    <tr>\n",
       "      <th>2</th>\n",
       "      <td>The Red-headed League,2</td>\n",
       "      <td>3</td>\n",
       "    </tr>\n",
       "    <tr>\n",
       "      <th>3</th>\n",
       "      <td>A Case, of Identity 33</td>\n",
       "      <td>5</td>\n",
       "    </tr>\n",
       "    <tr>\n",
       "      <th>4</th>\n",
       "      <td>The Boscombe Valley Mystery4</td>\n",
       "      <td>4</td>\n",
       "    </tr>\n",
       "    <tr>\n",
       "      <th>5</th>\n",
       "      <td>The Five Orange Pips1</td>\n",
       "      <td>4</td>\n",
       "    </tr>\n",
       "    <tr>\n",
       "      <th>6</th>\n",
       "      <td>The Man with? the Twisted Lip</td>\n",
       "      <td>6</td>\n",
       "    </tr>\n",
       "    <tr>\n",
       "      <th>7</th>\n",
       "      <td>The Adventure of the Blue Carbuncle</td>\n",
       "      <td>6</td>\n",
       "    </tr>\n",
       "    <tr>\n",
       "      <th>8</th>\n",
       "      <td>The Adventure of the Speckled Band</td>\n",
       "      <td>6</td>\n",
       "    </tr>\n",
       "    <tr>\n",
       "      <th>9</th>\n",
       "      <td>The Adventure of the Engineer's Thumb</td>\n",
       "      <td>6</td>\n",
       "    </tr>\n",
       "    <tr>\n",
       "      <th>10</th>\n",
       "      <td>The Adventure of the Noble Bachelor</td>\n",
       "      <td>6</td>\n",
       "    </tr>\n",
       "    <tr>\n",
       "      <th>11</th>\n",
       "      <td>The Adventure of the Beryl Coronet</td>\n",
       "      <td>6</td>\n",
       "    </tr>\n",
       "    <tr>\n",
       "      <th>12</th>\n",
       "      <td>The Adventure of the Copper Beeches</td>\n",
       "      <td>6</td>\n",
       "    </tr>\n",
       "  </tbody>\n",
       "</table>\n",
       "</div>"
      ],
      "text/plain": [
       "                                  Stories  Leng_Num\n",
       "1                A Scandal in Bohemia! 01         5\n",
       "2                 The Red-headed League,2         3\n",
       "3                  A Case, of Identity 33         5\n",
       "4            The Boscombe Valley Mystery4         4\n",
       "5                   The Five Orange Pips1         4\n",
       "6           The Man with? the Twisted Lip         6\n",
       "7     The Adventure of the Blue Carbuncle         6\n",
       "8      The Adventure of the Speckled Band         6\n",
       "9   The Adventure of the Engineer's Thumb         6\n",
       "10    The Adventure of the Noble Bachelor         6\n",
       "11     The Adventure of the Beryl Coronet         6\n",
       "12    The Adventure of the Copper Beeches         6"
      ]
     },
     "execution_count": 107,
     "metadata": {},
     "output_type": "execute_result"
    }
   ],
   "source": [
    "o_df[\"Leng_Num\"] = o_df[\"Stories\"].apply(lambda x:len(str(x).split(\" \")))\n",
    "o_df"
   ]
  },
  {
   "cell_type": "markdown",
   "id": "7e240baa-d968-4378-b949-04e621c19c90",
   "metadata": {},
   "source": [
    "#### **Find Special Char**"
   ]
  },
  {
   "cell_type": "code",
   "execution_count": 109,
   "id": "d2047a1d-6d4d-41de-8742-f64500f051fe",
   "metadata": {},
   "outputs": [
    {
     "data": {
      "text/plain": [
       "1     0\n",
       "2     0\n",
       "3     0\n",
       "4     0\n",
       "5     0\n",
       "6     0\n",
       "7     0\n",
       "8     0\n",
       "9     0\n",
       "10    0\n",
       "11    0\n",
       "12    0\n",
       "Name: Stories, dtype: int64"
      ]
     },
     "execution_count": 109,
     "metadata": {},
     "output_type": "execute_result"
    }
   ],
   "source": [
    "o_df[\"Stories\"].apply(lambda x: len([x for x in x.split() if x.startswith(\"adventure\")]))"
   ]
  },
  {
   "cell_type": "code",
   "execution_count": 111,
   "id": "5d777493-a888-41d6-8a51-21c54c659062",
   "metadata": {},
   "outputs": [
    {
     "data": {
      "text/html": [
       "<div>\n",
       "<style scoped>\n",
       "    .dataframe tbody tr th:only-of-type {\n",
       "        vertical-align: middle;\n",
       "    }\n",
       "\n",
       "    .dataframe tbody tr th {\n",
       "        vertical-align: top;\n",
       "    }\n",
       "\n",
       "    .dataframe thead th {\n",
       "        text-align: right;\n",
       "    }\n",
       "</style>\n",
       "<table border=\"1\" class=\"dataframe\">\n",
       "  <thead>\n",
       "    <tr style=\"text-align: right;\">\n",
       "      <th></th>\n",
       "      <th>Stories</th>\n",
       "      <th>Leng_Num</th>\n",
       "      <th>Speclak Char Num</th>\n",
       "    </tr>\n",
       "  </thead>\n",
       "  <tbody>\n",
       "    <tr>\n",
       "      <th>1</th>\n",
       "      <td>A Scandal in Bohemia! 01</td>\n",
       "      <td>5</td>\n",
       "      <td>0</td>\n",
       "    </tr>\n",
       "    <tr>\n",
       "      <th>2</th>\n",
       "      <td>The Red-headed League,2</td>\n",
       "      <td>3</td>\n",
       "      <td>0</td>\n",
       "    </tr>\n",
       "    <tr>\n",
       "      <th>3</th>\n",
       "      <td>A Case, of Identity 33</td>\n",
       "      <td>5</td>\n",
       "      <td>0</td>\n",
       "    </tr>\n",
       "    <tr>\n",
       "      <th>4</th>\n",
       "      <td>The Boscombe Valley Mystery4</td>\n",
       "      <td>4</td>\n",
       "      <td>0</td>\n",
       "    </tr>\n",
       "    <tr>\n",
       "      <th>5</th>\n",
       "      <td>The Five Orange Pips1</td>\n",
       "      <td>4</td>\n",
       "      <td>0</td>\n",
       "    </tr>\n",
       "    <tr>\n",
       "      <th>6</th>\n",
       "      <td>The Man with? the Twisted Lip</td>\n",
       "      <td>6</td>\n",
       "      <td>0</td>\n",
       "    </tr>\n",
       "    <tr>\n",
       "      <th>7</th>\n",
       "      <td>The Adventure of the Blue Carbuncle</td>\n",
       "      <td>6</td>\n",
       "      <td>0</td>\n",
       "    </tr>\n",
       "    <tr>\n",
       "      <th>8</th>\n",
       "      <td>The Adventure of the Speckled Band</td>\n",
       "      <td>6</td>\n",
       "      <td>0</td>\n",
       "    </tr>\n",
       "    <tr>\n",
       "      <th>9</th>\n",
       "      <td>The Adventure of the Engineer's Thumb</td>\n",
       "      <td>6</td>\n",
       "      <td>0</td>\n",
       "    </tr>\n",
       "    <tr>\n",
       "      <th>10</th>\n",
       "      <td>The Adventure of the Noble Bachelor</td>\n",
       "      <td>6</td>\n",
       "      <td>0</td>\n",
       "    </tr>\n",
       "    <tr>\n",
       "      <th>11</th>\n",
       "      <td>The Adventure of the Beryl Coronet</td>\n",
       "      <td>6</td>\n",
       "      <td>0</td>\n",
       "    </tr>\n",
       "    <tr>\n",
       "      <th>12</th>\n",
       "      <td>The Adventure of the Copper Beeches</td>\n",
       "      <td>6</td>\n",
       "      <td>0</td>\n",
       "    </tr>\n",
       "  </tbody>\n",
       "</table>\n",
       "</div>"
      ],
      "text/plain": [
       "                                  Stories  Leng_Num  Speclak Char Num\n",
       "1                A Scandal in Bohemia! 01         5                 0\n",
       "2                 The Red-headed League,2         3                 0\n",
       "3                  A Case, of Identity 33         5                 0\n",
       "4            The Boscombe Valley Mystery4         4                 0\n",
       "5                   The Five Orange Pips1         4                 0\n",
       "6           The Man with? the Twisted Lip         6                 0\n",
       "7     The Adventure of the Blue Carbuncle         6                 0\n",
       "8      The Adventure of the Speckled Band         6                 0\n",
       "9   The Adventure of the Engineer's Thumb         6                 0\n",
       "10    The Adventure of the Noble Bachelor         6                 0\n",
       "11     The Adventure of the Beryl Coronet         6                 0\n",
       "12    The Adventure of the Copper Beeches         6                 0"
      ]
     },
     "execution_count": 111,
     "metadata": {},
     "output_type": "execute_result"
    }
   ],
   "source": [
    "o_df[\"Speclak Char Num\"] = o_df[\"Stories\"].apply(lambda x: len([x for x in x.split()  if x.startswith(\"adventure\")]))\n",
    "o_df"
   ]
  },
  {
   "cell_type": "code",
   "execution_count": 112,
   "id": "c66ac9df-1575-46d8-b9e9-a7d5b15f0e5c",
   "metadata": {},
   "outputs": [
    {
     "data": {
      "text/plain": [
       "1     1\n",
       "2     0\n",
       "3     1\n",
       "4     0\n",
       "5     0\n",
       "6     0\n",
       "7     0\n",
       "8     0\n",
       "9     0\n",
       "10    0\n",
       "11    0\n",
       "12    0\n",
       "Name: Stories, dtype: int64"
      ]
     },
     "execution_count": 112,
     "metadata": {},
     "output_type": "execute_result"
    }
   ],
   "source": [
    "mdf[\"Stories\"].apply(lambda x: len([x for x in x.split() if x.isdigit()]))"
   ]
  },
  {
   "cell_type": "code",
   "execution_count": 114,
   "id": "86778a71-ac22-4163-bbf3-4d29943a92dc",
   "metadata": {},
   "outputs": [
    {
     "data": {
      "text/html": [
       "<div>\n",
       "<style scoped>\n",
       "    .dataframe tbody tr th:only-of-type {\n",
       "        vertical-align: middle;\n",
       "    }\n",
       "\n",
       "    .dataframe tbody tr th {\n",
       "        vertical-align: top;\n",
       "    }\n",
       "\n",
       "    .dataframe thead th {\n",
       "        text-align: right;\n",
       "    }\n",
       "</style>\n",
       "<table border=\"1\" class=\"dataframe\">\n",
       "  <thead>\n",
       "    <tr style=\"text-align: right;\">\n",
       "      <th></th>\n",
       "      <th>Stories</th>\n",
       "      <th>Leng_Num</th>\n",
       "      <th>Speclak Char Num</th>\n",
       "      <th>Num Number</th>\n",
       "    </tr>\n",
       "  </thead>\n",
       "  <tbody>\n",
       "    <tr>\n",
       "      <th>1</th>\n",
       "      <td>A Scandal in Bohemia! 01</td>\n",
       "      <td>5</td>\n",
       "      <td>0</td>\n",
       "      <td>1</td>\n",
       "    </tr>\n",
       "    <tr>\n",
       "      <th>2</th>\n",
       "      <td>The Red-headed League,2</td>\n",
       "      <td>3</td>\n",
       "      <td>0</td>\n",
       "      <td>0</td>\n",
       "    </tr>\n",
       "    <tr>\n",
       "      <th>3</th>\n",
       "      <td>A Case, of Identity 33</td>\n",
       "      <td>5</td>\n",
       "      <td>0</td>\n",
       "      <td>1</td>\n",
       "    </tr>\n",
       "    <tr>\n",
       "      <th>4</th>\n",
       "      <td>The Boscombe Valley Mystery4</td>\n",
       "      <td>4</td>\n",
       "      <td>0</td>\n",
       "      <td>0</td>\n",
       "    </tr>\n",
       "    <tr>\n",
       "      <th>5</th>\n",
       "      <td>The Five Orange Pips1</td>\n",
       "      <td>4</td>\n",
       "      <td>0</td>\n",
       "      <td>0</td>\n",
       "    </tr>\n",
       "    <tr>\n",
       "      <th>6</th>\n",
       "      <td>The Man with? the Twisted Lip</td>\n",
       "      <td>6</td>\n",
       "      <td>0</td>\n",
       "      <td>0</td>\n",
       "    </tr>\n",
       "    <tr>\n",
       "      <th>7</th>\n",
       "      <td>The Adventure of the Blue Carbuncle</td>\n",
       "      <td>6</td>\n",
       "      <td>0</td>\n",
       "      <td>0</td>\n",
       "    </tr>\n",
       "    <tr>\n",
       "      <th>8</th>\n",
       "      <td>The Adventure of the Speckled Band</td>\n",
       "      <td>6</td>\n",
       "      <td>0</td>\n",
       "      <td>0</td>\n",
       "    </tr>\n",
       "    <tr>\n",
       "      <th>9</th>\n",
       "      <td>The Adventure of the Engineer's Thumb</td>\n",
       "      <td>6</td>\n",
       "      <td>0</td>\n",
       "      <td>0</td>\n",
       "    </tr>\n",
       "    <tr>\n",
       "      <th>10</th>\n",
       "      <td>The Adventure of the Noble Bachelor</td>\n",
       "      <td>6</td>\n",
       "      <td>0</td>\n",
       "      <td>0</td>\n",
       "    </tr>\n",
       "    <tr>\n",
       "      <th>11</th>\n",
       "      <td>The Adventure of the Beryl Coronet</td>\n",
       "      <td>6</td>\n",
       "      <td>0</td>\n",
       "      <td>0</td>\n",
       "    </tr>\n",
       "    <tr>\n",
       "      <th>12</th>\n",
       "      <td>The Adventure of the Copper Beeches</td>\n",
       "      <td>6</td>\n",
       "      <td>0</td>\n",
       "      <td>0</td>\n",
       "    </tr>\n",
       "  </tbody>\n",
       "</table>\n",
       "</div>"
      ],
      "text/plain": [
       "                                  Stories  Leng_Num  Speclak Char Num  \\\n",
       "1                A Scandal in Bohemia! 01         5                 0   \n",
       "2                 The Red-headed League,2         3                 0   \n",
       "3                  A Case, of Identity 33         5                 0   \n",
       "4            The Boscombe Valley Mystery4         4                 0   \n",
       "5                   The Five Orange Pips1         4                 0   \n",
       "6           The Man with? the Twisted Lip         6                 0   \n",
       "7     The Adventure of the Blue Carbuncle         6                 0   \n",
       "8      The Adventure of the Speckled Band         6                 0   \n",
       "9   The Adventure of the Engineer's Thumb         6                 0   \n",
       "10    The Adventure of the Noble Bachelor         6                 0   \n",
       "11     The Adventure of the Beryl Coronet         6                 0   \n",
       "12    The Adventure of the Copper Beeches         6                 0   \n",
       "\n",
       "    Num Number  \n",
       "1            1  \n",
       "2            0  \n",
       "3            1  \n",
       "4            0  \n",
       "5            0  \n",
       "6            0  \n",
       "7            0  \n",
       "8            0  \n",
       "9            0  \n",
       "10           0  \n",
       "11           0  \n",
       "12           0  "
      ]
     },
     "execution_count": 114,
     "metadata": {},
     "output_type": "execute_result"
    }
   ],
   "source": [
    "o_df[\"Num Number\"] = mdf[\"Stories\"].apply(lambda x: len([x for x in x.split() if x.isdigit()]))\n",
    "o_df"
   ]
  },
  {
   "cell_type": "code",
   "execution_count": null,
   "id": "6adc45b7-3c86-497c-90a7-fbd15abbcc5f",
   "metadata": {},
   "outputs": [],
   "source": []
  }
 ],
 "metadata": {
  "kernelspec": {
   "display_name": "Python 3 (ipykernel)",
   "language": "python",
   "name": "python3"
  },
  "language_info": {
   "codemirror_mode": {
    "name": "ipython",
    "version": 3
   },
   "file_extension": ".py",
   "mimetype": "text/x-python",
   "name": "python",
   "nbconvert_exporter": "python",
   "pygments_lexer": "ipython3",
   "version": "3.9.12"
  }
 },
 "nbformat": 4,
 "nbformat_minor": 5
}
