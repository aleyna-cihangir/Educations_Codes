{
 "cells": [
  {
   "cell_type": "markdown",
   "id": "2e251c0d-c8b4-4e7a-9c8a-9aa68a96953e",
   "metadata": {
    "tags": []
   },
   "source": [
    "## **HIERARCHICAL CLUSTERING**"
   ]
  },
  {
   "cell_type": "markdown",
   "id": "5983fc3e-e4df-4dd9-822b-7073af8c7b2a",
   "metadata": {
    "tags": []
   },
   "source": [
    "#### **Python Libraries**"
   ]
  },
  {
   "cell_type": "code",
   "execution_count": 129,
   "id": "9293593d-185b-442e-904e-3b1f5bdec22d",
   "metadata": {},
   "outputs": [],
   "source": [
    "import numpy as np\n",
    "import pandas as pd \n",
    "import seaborn as sns\n",
    "from termcolor import colored\n",
    "import matplotlib.pyplot as plt\n",
    "from sklearn.cluster import KMeans\n",
    "from scipy.cluster.hierarchy import linkage\n",
    "from scipy.cluster.hierarchy import dendrogram\n",
    "from yellowbrick.cluster import KElbowVisualizer\n",
    "from sklearn.preprocessing import StandardScaler\n",
    "from mpl_toolkits.mplot3d import Axes3D\n",
    "from sklearn.decomposition import PCA\n",
    "\n",
    "import warnings\n",
    "warnings.filterwarnings(\"ignore\", category=DeprecationWarning) \n",
    "warnings.filterwarnings(\"ignore\", category=FutureWarning)"
   ]
  },
  {
   "cell_type": "markdown",
   "id": "f58a82a4-d395-4bcc-9ad7-1925e409b6c4",
   "metadata": {},
   "source": [
    "#### **Dataset**"
   ]
  },
  {
   "cell_type": "code",
   "execution_count": 126,
   "id": "ea20be01-f2d7-4965-ba70-aa0f952fb925",
   "metadata": {},
   "outputs": [
    {
     "data": {
      "text/html": [
       "<div>\n",
       "<style scoped>\n",
       "    .dataframe tbody tr th:only-of-type {\n",
       "        vertical-align: middle;\n",
       "    }\n",
       "\n",
       "    .dataframe tbody tr th {\n",
       "        vertical-align: top;\n",
       "    }\n",
       "\n",
       "    .dataframe thead th {\n",
       "        text-align: right;\n",
       "    }\n",
       "</style>\n",
       "<table border=\"1\" class=\"dataframe\">\n",
       "  <thead>\n",
       "    <tr style=\"text-align: right;\">\n",
       "      <th></th>\n",
       "      <th>AtBat</th>\n",
       "      <th>Hits</th>\n",
       "      <th>HmRun</th>\n",
       "      <th>Runs</th>\n",
       "      <th>RBI</th>\n",
       "      <th>Walks</th>\n",
       "      <th>Years</th>\n",
       "      <th>CAtBat</th>\n",
       "      <th>CHits</th>\n",
       "      <th>CHmRun</th>\n",
       "      <th>CRuns</th>\n",
       "      <th>CRBI</th>\n",
       "      <th>CWalks</th>\n",
       "      <th>PutOuts</th>\n",
       "      <th>Assists</th>\n",
       "      <th>Errors</th>\n",
       "      <th>Salary</th>\n",
       "    </tr>\n",
       "  </thead>\n",
       "  <tbody>\n",
       "    <tr>\n",
       "      <th>0</th>\n",
       "      <td>315</td>\n",
       "      <td>81</td>\n",
       "      <td>7</td>\n",
       "      <td>24</td>\n",
       "      <td>38</td>\n",
       "      <td>39</td>\n",
       "      <td>14</td>\n",
       "      <td>3449</td>\n",
       "      <td>835</td>\n",
       "      <td>69</td>\n",
       "      <td>321</td>\n",
       "      <td>414</td>\n",
       "      <td>375</td>\n",
       "      <td>632</td>\n",
       "      <td>43</td>\n",
       "      <td>10</td>\n",
       "      <td>475.0</td>\n",
       "    </tr>\n",
       "    <tr>\n",
       "      <th>1</th>\n",
       "      <td>479</td>\n",
       "      <td>130</td>\n",
       "      <td>18</td>\n",
       "      <td>66</td>\n",
       "      <td>72</td>\n",
       "      <td>76</td>\n",
       "      <td>3</td>\n",
       "      <td>1624</td>\n",
       "      <td>457</td>\n",
       "      <td>63</td>\n",
       "      <td>224</td>\n",
       "      <td>266</td>\n",
       "      <td>263</td>\n",
       "      <td>880</td>\n",
       "      <td>82</td>\n",
       "      <td>14</td>\n",
       "      <td>480.0</td>\n",
       "    </tr>\n",
       "    <tr>\n",
       "      <th>2</th>\n",
       "      <td>496</td>\n",
       "      <td>141</td>\n",
       "      <td>20</td>\n",
       "      <td>65</td>\n",
       "      <td>78</td>\n",
       "      <td>37</td>\n",
       "      <td>11</td>\n",
       "      <td>5628</td>\n",
       "      <td>1575</td>\n",
       "      <td>225</td>\n",
       "      <td>828</td>\n",
       "      <td>838</td>\n",
       "      <td>354</td>\n",
       "      <td>200</td>\n",
       "      <td>11</td>\n",
       "      <td>3</td>\n",
       "      <td>500.0</td>\n",
       "    </tr>\n",
       "    <tr>\n",
       "      <th>3</th>\n",
       "      <td>321</td>\n",
       "      <td>87</td>\n",
       "      <td>10</td>\n",
       "      <td>39</td>\n",
       "      <td>42</td>\n",
       "      <td>30</td>\n",
       "      <td>2</td>\n",
       "      <td>396</td>\n",
       "      <td>101</td>\n",
       "      <td>12</td>\n",
       "      <td>48</td>\n",
       "      <td>46</td>\n",
       "      <td>33</td>\n",
       "      <td>805</td>\n",
       "      <td>40</td>\n",
       "      <td>4</td>\n",
       "      <td>91.5</td>\n",
       "    </tr>\n",
       "    <tr>\n",
       "      <th>4</th>\n",
       "      <td>594</td>\n",
       "      <td>169</td>\n",
       "      <td>4</td>\n",
       "      <td>74</td>\n",
       "      <td>51</td>\n",
       "      <td>35</td>\n",
       "      <td>11</td>\n",
       "      <td>4408</td>\n",
       "      <td>1133</td>\n",
       "      <td>19</td>\n",
       "      <td>501</td>\n",
       "      <td>336</td>\n",
       "      <td>194</td>\n",
       "      <td>282</td>\n",
       "      <td>421</td>\n",
       "      <td>25</td>\n",
       "      <td>750.0</td>\n",
       "    </tr>\n",
       "  </tbody>\n",
       "</table>\n",
       "</div>"
      ],
      "text/plain": [
       "   AtBat  Hits  HmRun  Runs  RBI  Walks  Years  CAtBat  CHits  CHmRun  CRuns  \\\n",
       "0    315    81      7    24   38     39     14    3449    835      69    321   \n",
       "1    479   130     18    66   72     76      3    1624    457      63    224   \n",
       "2    496   141     20    65   78     37     11    5628   1575     225    828   \n",
       "3    321    87     10    39   42     30      2     396    101      12     48   \n",
       "4    594   169      4    74   51     35     11    4408   1133      19    501   \n",
       "\n",
       "   CRBI  CWalks  PutOuts  Assists  Errors  Salary  \n",
       "0   414     375      632       43      10   475.0  \n",
       "1   266     263      880       82      14   480.0  \n",
       "2   838     354      200       11       3   500.0  \n",
       "3    46      33      805       40       4    91.5  \n",
       "4   336     194      282      421      25   750.0  "
      ]
     },
     "execution_count": 126,
     "metadata": {},
     "output_type": "execute_result"
    }
   ],
   "source": [
    "hitters = pd.read_csv(r'C:\\Users\\AleynaCihangir\\Desktop\\MarketPlace PowerBrands Projects\\Hitters.csv')\n",
    "df = hitters.copy()\n",
    "df = df.dropna()\n",
    "df.reset_index(drop=True, inplace=True)\n",
    "df = df._get_numeric_data()\n",
    "df.head()"
   ]
  },
  {
   "cell_type": "code",
   "execution_count": 134,
   "id": "9ec5356f-0132-4e86-8c19-a2a75cf93bcd",
   "metadata": {},
   "outputs": [
    {
     "name": "stdout",
     "output_type": "stream",
     "text": [
      "\u001b[34m\u001b[1mVariance Ratio: \u001b[0m [0.45245466 0.24246801]\n"
     ]
    }
   ],
   "source": [
    "df = StandardScaler().fit_transform(df)\n",
    "pca = PCA(n_components = 2)\n",
    "pca_fit = pca.fit_transform(df)\n",
    "components_df = pd.DataFrame(data = pca_fit, columns = [\"first_component\",\"seconf_component\"])\n",
    "print(colored(\"\\033[1m\" + \"Variance Ratio: \", \"blue\"),pca.explained_variance_ratio_ ) "
   ]
  },
  {
   "cell_type": "code",
   "execution_count": 139,
   "id": "10bcafa5-4911-42d7-8a4f-c8f08f06befa",
   "metadata": {},
   "outputs": [
    {
     "data": {
      "image/png": "[encoded data removed]",
      "text/plain": [
       "<Figure size 1296x360 with 1 Axes>"
      ]
     },
     "metadata": {},
     "output_type": "display_data"
    }
   ],
   "source": [
    "pca = PCA().fit(df)\n",
    "plt.figure(figsize=(18,5))\n",
    "plt.plot(np.cumsum(pca.explained_variance_ratio_))\n",
    "plt.xlabel(\"Number of Components\" , fontsize=12, color=\"blue\")\n",
    "plt.ylabel(\"Cumulative Rate of Variance\", fontsize=12, color=\"blue\");"
   ]
  },
  {
   "cell_type": "code",
   "execution_count": 140,
   "id": "7f7e6a92-16a8-406d-a09a-7d9051e392a7",
   "metadata": {},
   "outputs": [
    {
     "data": {
      "text/plain": [
       "array([4.52454661e-01, 2.42468012e-01, 1.01696801e-01, 5.39343967e-02,\n",
       "       4.16143455e-02, 3.08119274e-02, 2.86933912e-02, 1.47589096e-02,\n",
       "       1.06379741e-02, 7.78968542e-03, 5.72654636e-03, 3.49183444e-03,\n",
       "       3.16734133e-03, 1.57268674e-03, 8.27965421e-04, 2.82821576e-04,\n",
       "       7.06999352e-05])"
      ]
     },
     "execution_count": 140,
     "metadata": {},
     "output_type": "execute_result"
    }
   ],
   "source": [
    "pca.explained_variance_ratio_"
   ]
  },
  {
   "cell_type": "code",
   "execution_count": 142,
   "id": "391ab335-f99e-49b1-afe1-8ed46386ce05",
   "metadata": {},
   "outputs": [
    {
     "data": {
      "text/plain": [
       "array([0.45245466, 0.24246801, 0.1016968 ])"
      ]
     },
     "execution_count": 142,
     "metadata": {},
     "output_type": "execute_result"
    }
   ],
   "source": [
    "pca = PCA(n_components = 3)\n",
    "pca_fit = pca.fit_transform(df)\n",
    "pca.explained_variance_ratio_"
   ]
  }
 ],
 "metadata": {
  "kernelspec": {
   "display_name": "Python 3 (ipykernel)",
   "language": "python",
   "name": "python3"
  },
  "language_info": {
   "codemirror_mode": {
    "name": "ipython",
    "version": 3
   },
   "file_extension": ".py",
   "mimetype": "text/x-python",
   "name": "python",
   "nbconvert_exporter": "python",
   "pygments_lexer": "ipython3",
   "version": "3.9.12"
  }
 },
 "nbformat": 4,
 "nbformat_minor": 5
}
