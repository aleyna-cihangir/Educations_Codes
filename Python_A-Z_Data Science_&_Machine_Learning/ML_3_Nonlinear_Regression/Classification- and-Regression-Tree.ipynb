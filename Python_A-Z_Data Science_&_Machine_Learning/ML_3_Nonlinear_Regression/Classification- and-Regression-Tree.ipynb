{
 "cells": [
  {
   "cell_type": "markdown",
   "id": "2e251c0d-c8b4-4e7a-9c8a-9aa68a96953e",
   "metadata": {
    "tags": []
   },
   "source": [
    "## **CART**"
   ]
  },
  {
   "cell_type": "markdown",
   "id": "5983fc3e-e4df-4dd9-822b-7073af8c7b2a",
   "metadata": {
    "tags": []
   },
   "source": [
    "#### **Python Libraries**"
   ]
  },
  {
   "cell_type": "code",
   "execution_count": 105,
   "id": "2257f5dc-291b-4f66-8350-4d572816b078",
   "metadata": {
    "collapsed": true,
    "jupyter": {
     "outputs_hidden": true
    },
    "tags": []
   },
   "outputs": [
    {
     "name": "stdout",
     "output_type": "stream",
     "text": [
      "Collecting skompilerNote: you may need to restart the kernel to use updated packages.\n"
     ]
    },
    {
     "name": "stderr",
     "output_type": "stream",
     "text": [
      "WARNING: Ignoring invalid distribution -ycopg2-binary (c:\\users\\aleynacihangir\\anaconda3\\lib\\site-packages)\n",
      "WARNING: Ignoring invalid distribution -ycopg2-binary (c:\\users\\aleynacihangir\\anaconda3\\lib\\site-packages)\n",
      "WARNING: Ignoring invalid distribution -0ycopg2-binary (c:\\users\\aleynacihangir\\anaconda3\\lib\\site-packages)\n",
      "WARNING: Ignoring invalid distribution -sycopg2-binary (c:\\users\\aleynacihangir\\anaconda3\\lib\\site-packages)\n",
      "WARNING: Ignoring invalid distribution - (c:\\users\\aleynacihangir\\anaconda3\\lib\\site-packages)\n",
      "WARNING: Ignoring invalid distribution -ycopg2-binary (c:\\users\\aleynacihangir\\anaconda3\\lib\\site-packages)\n",
      "WARNING: Ignoring invalid distribution -ycopg2-binary (c:\\users\\aleynacihangir\\anaconda3\\lib\\site-packages)\n",
      "WARNING: Ignoring invalid distribution -0ycopg2-binary (c:\\users\\aleynacihangir\\anaconda3\\lib\\site-packages)\n",
      "WARNING: Ignoring invalid distribution -sycopg2-binary (c:\\users\\aleynacihangir\\anaconda3\\lib\\site-packages)\n",
      "WARNING: Ignoring invalid distribution - (c:\\users\\aleynacihangir\\anaconda3\\lib\\site-packages)\n",
      "WARNING: Ignoring invalid distribution -ycopg2-binary (c:\\users\\aleynacihangir\\anaconda3\\lib\\site-packages)\n",
      "WARNING: Ignoring invalid distribution -ycopg2-binary (c:\\users\\aleynacihangir\\anaconda3\\lib\\site-packages)\n",
      "WARNING: Ignoring invalid distribution -0ycopg2-binary (c:\\users\\aleynacihangir\\anaconda3\\lib\\site-packages)\n",
      "WARNING: Ignoring invalid distribution -sycopg2-binary (c:\\users\\aleynacihangir\\anaconda3\\lib\\site-packages)\n",
      "WARNING: Ignoring invalid distribution - (c:\\users\\aleynacihangir\\anaconda3\\lib\\site-packages)\n"
     ]
    },
    {
     "name": "stdout",
     "output_type": "stream",
     "text": [
      "\n",
      "  Downloading SKompiler-0.6.tar.gz (45 kB)\n",
      "Requirement already satisfied: scikit-learn>=0.22 in c:\\users\\aleynacihangir\\anaconda3\\lib\\site-packages (from skompiler) (1.0.2)\n",
      "Requirement already satisfied: joblib>=0.11 in c:\\users\\aleynacihangir\\anaconda3\\lib\\site-packages (from scikit-learn>=0.22->skompiler) (1.1.0)\n",
      "Requirement already satisfied: numpy>=1.14.6 in c:\\users\\aleynacihangir\\anaconda3\\lib\\site-packages (from scikit-learn>=0.22->skompiler) (1.21.5)\n",
      "Requirement already satisfied: scipy>=1.1.0 in c:\\users\\aleynacihangir\\anaconda3\\lib\\site-packages (from scikit-learn>=0.22->skompiler) (1.7.3)\n",
      "Requirement already satisfied: threadpoolctl>=2.0.0 in c:\\users\\aleynacihangir\\anaconda3\\lib\\site-packages (from scikit-learn>=0.22->skompiler) (2.2.0)\n",
      "Building wheels for collected packages: skompiler\n",
      "  Building wheel for skompiler (setup.py): started\n",
      "  Building wheel for skompiler (setup.py): finished with status 'done'\n",
      "  Created wheel for skompiler: filename=SKompiler-0.6-py3-none-any.whl size=54286 sha256=12f9571206a23f8bd4cd1472f80d861051943ef2c31f0c02fc12f97f0facd6fe\n",
      "  Stored in directory: c:\\users\\aleynacihangir\\appdata\\local\\pip\\cache\\wheels\\fd\\94\\33\\2a75ac13109534426a0ace0cde02f41aef30a846f1facd4110\n",
      "Successfully built skompiler\n",
      "Installing collected packages: skompiler\n",
      "Successfully installed skompiler-0.6\n"
     ]
    },
    {
     "name": "stderr",
     "output_type": "stream",
     "text": [
      "WARNING: Ignoring invalid distribution -ycopg2-binary (c:\\users\\aleynacihangir\\anaconda3\\lib\\site-packages)\n",
      "WARNING: Ignoring invalid distribution -ycopg2-binary (c:\\users\\aleynacihangir\\anaconda3\\lib\\site-packages)\n",
      "WARNING: Ignoring invalid distribution -0ycopg2-binary (c:\\users\\aleynacihangir\\anaconda3\\lib\\site-packages)\n",
      "WARNING: Ignoring invalid distribution -sycopg2-binary (c:\\users\\aleynacihangir\\anaconda3\\lib\\site-packages)\n",
      "WARNING: Ignoring invalid distribution - (c:\\users\\aleynacihangir\\anaconda3\\lib\\site-packages)\n",
      "WARNING: Ignoring invalid distribution -ycopg2-binary (c:\\users\\aleynacihangir\\anaconda3\\lib\\site-packages)\n",
      "WARNING: Ignoring invalid distribution -ycopg2-binary (c:\\users\\aleynacihangir\\anaconda3\\lib\\site-packages)\n",
      "WARNING: Ignoring invalid distribution -0ycopg2-binary (c:\\users\\aleynacihangir\\anaconda3\\lib\\site-packages)\n",
      "WARNING: Ignoring invalid distribution -sycopg2-binary (c:\\users\\aleynacihangir\\anaconda3\\lib\\site-packages)\n",
      "WARNING: Ignoring invalid distribution - (c:\\users\\aleynacihangir\\anaconda3\\lib\\site-packages)\n",
      "WARNING: Ignoring invalid distribution -ycopg2-binary (c:\\users\\aleynacihangir\\anaconda3\\lib\\site-packages)\n",
      "WARNING: Ignoring invalid distribution -ycopg2-binary (c:\\users\\aleynacihangir\\anaconda3\\lib\\site-packages)\n",
      "WARNING: Ignoring invalid distribution -0ycopg2-binary (c:\\users\\aleynacihangir\\anaconda3\\lib\\site-packages)\n",
      "WARNING: Ignoring invalid distribution -sycopg2-binary (c:\\users\\aleynacihangir\\anaconda3\\lib\\site-packages)\n",
      "WARNING: Ignoring invalid distribution - (c:\\users\\aleynacihangir\\anaconda3\\lib\\site-packages)\n",
      "WARNING: Ignoring invalid distribution -ycopg2-binary (c:\\users\\aleynacihangir\\anaconda3\\lib\\site-packages)\n",
      "WARNING: Ignoring invalid distribution -ycopg2-binary (c:\\users\\aleynacihangir\\anaconda3\\lib\\site-packages)\n",
      "WARNING: Ignoring invalid distribution -0ycopg2-binary (c:\\users\\aleynacihangir\\anaconda3\\lib\\site-packages)\n",
      "WARNING: Ignoring invalid distribution -sycopg2-binary (c:\\users\\aleynacihangir\\anaconda3\\lib\\site-packages)\n",
      "WARNING: Ignoring invalid distribution - (c:\\users\\aleynacihangir\\anaconda3\\lib\\site-packages)\n"
     ]
    }
   ],
   "source": [
    "pip install skompiler"
   ]
  },
  {
   "cell_type": "code",
   "execution_count": 106,
   "id": "9293593d-185b-442e-904e-3b1f5bdec22d",
   "metadata": {},
   "outputs": [],
   "source": [
    "import numpy as np\n",
    "import pandas as pd \n",
    "from termcolor import colored\n",
    "from sklearn.model_selection import train_test_split, GridSearchCV,cross_val_score\n",
    "from sklearn.metrics import mean_squared_error, r2_score\n",
    "import matplotlib.pyplot as plt\n",
    "from sklearn.preprocessing import scale, StandardScaler \n",
    "from sklearn import model_selection\n",
    "from sklearn.svm import SVR\n",
    "from skompiler import skompile\n",
    "from sklearn.neural_network import MLPRegressor\n",
    "from sklearn.linear_model import LinearRegression\n",
    "from sklearn.tree import DecisionTreeRegressor, DecisionTreeClassifier\n",
    "from sklearn.neighbors import KNeighborsRegressor, KNeighborsClassifier\n",
    "from sklearn.ensemble import BaggingRegressor\n",
    "from sklearn.model_selection import GridSearchCV\n",
    "\n",
    "from warnings import filterwarnings\n",
    "filterwarnings('ignore')"
   ]
  },
  {
   "cell_type": "markdown",
   "id": "f58a82a4-d395-4bcc-9ad7-1925e409b6c4",
   "metadata": {},
   "source": [
    "#### **Dataset**"
   ]
  },
  {
   "cell_type": "code",
   "execution_count": 89,
   "id": "ea20be01-f2d7-4965-ba70-aa0f952fb925",
   "metadata": {},
   "outputs": [
    {
     "data": {
      "text/html": [
       "<div>\n",
       "<style scoped>\n",
       "    .dataframe tbody tr th:only-of-type {\n",
       "        vertical-align: middle;\n",
       "    }\n",
       "\n",
       "    .dataframe tbody tr th {\n",
       "        vertical-align: top;\n",
       "    }\n",
       "\n",
       "    .dataframe thead th {\n",
       "        text-align: right;\n",
       "    }\n",
       "</style>\n",
       "<table border=\"1\" class=\"dataframe\">\n",
       "  <thead>\n",
       "    <tr style=\"text-align: right;\">\n",
       "      <th></th>\n",
       "      <th>AtBat</th>\n",
       "      <th>Hits</th>\n",
       "      <th>HmRun</th>\n",
       "      <th>Runs</th>\n",
       "      <th>RBI</th>\n",
       "      <th>Walks</th>\n",
       "      <th>Years</th>\n",
       "      <th>CAtBat</th>\n",
       "      <th>CHits</th>\n",
       "      <th>CHmRun</th>\n",
       "      <th>CRuns</th>\n",
       "      <th>CRBI</th>\n",
       "      <th>CWalks</th>\n",
       "      <th>League</th>\n",
       "      <th>Division</th>\n",
       "      <th>PutOuts</th>\n",
       "      <th>Assists</th>\n",
       "      <th>Errors</th>\n",
       "      <th>Salary</th>\n",
       "      <th>NewLeague</th>\n",
       "    </tr>\n",
       "  </thead>\n",
       "  <tbody>\n",
       "    <tr>\n",
       "      <th>0</th>\n",
       "      <td>315</td>\n",
       "      <td>81</td>\n",
       "      <td>7</td>\n",
       "      <td>24</td>\n",
       "      <td>38</td>\n",
       "      <td>39</td>\n",
       "      <td>14</td>\n",
       "      <td>3449</td>\n",
       "      <td>835</td>\n",
       "      <td>69</td>\n",
       "      <td>321</td>\n",
       "      <td>414</td>\n",
       "      <td>375</td>\n",
       "      <td>N</td>\n",
       "      <td>W</td>\n",
       "      <td>632</td>\n",
       "      <td>43</td>\n",
       "      <td>10</td>\n",
       "      <td>475.0</td>\n",
       "      <td>N</td>\n",
       "    </tr>\n",
       "    <tr>\n",
       "      <th>1</th>\n",
       "      <td>479</td>\n",
       "      <td>130</td>\n",
       "      <td>18</td>\n",
       "      <td>66</td>\n",
       "      <td>72</td>\n",
       "      <td>76</td>\n",
       "      <td>3</td>\n",
       "      <td>1624</td>\n",
       "      <td>457</td>\n",
       "      <td>63</td>\n",
       "      <td>224</td>\n",
       "      <td>266</td>\n",
       "      <td>263</td>\n",
       "      <td>A</td>\n",
       "      <td>W</td>\n",
       "      <td>880</td>\n",
       "      <td>82</td>\n",
       "      <td>14</td>\n",
       "      <td>480.0</td>\n",
       "      <td>A</td>\n",
       "    </tr>\n",
       "    <tr>\n",
       "      <th>2</th>\n",
       "      <td>496</td>\n",
       "      <td>141</td>\n",
       "      <td>20</td>\n",
       "      <td>65</td>\n",
       "      <td>78</td>\n",
       "      <td>37</td>\n",
       "      <td>11</td>\n",
       "      <td>5628</td>\n",
       "      <td>1575</td>\n",
       "      <td>225</td>\n",
       "      <td>828</td>\n",
       "      <td>838</td>\n",
       "      <td>354</td>\n",
       "      <td>N</td>\n",
       "      <td>E</td>\n",
       "      <td>200</td>\n",
       "      <td>11</td>\n",
       "      <td>3</td>\n",
       "      <td>500.0</td>\n",
       "      <td>N</td>\n",
       "    </tr>\n",
       "    <tr>\n",
       "      <th>3</th>\n",
       "      <td>321</td>\n",
       "      <td>87</td>\n",
       "      <td>10</td>\n",
       "      <td>39</td>\n",
       "      <td>42</td>\n",
       "      <td>30</td>\n",
       "      <td>2</td>\n",
       "      <td>396</td>\n",
       "      <td>101</td>\n",
       "      <td>12</td>\n",
       "      <td>48</td>\n",
       "      <td>46</td>\n",
       "      <td>33</td>\n",
       "      <td>N</td>\n",
       "      <td>E</td>\n",
       "      <td>805</td>\n",
       "      <td>40</td>\n",
       "      <td>4</td>\n",
       "      <td>91.5</td>\n",
       "      <td>N</td>\n",
       "    </tr>\n",
       "    <tr>\n",
       "      <th>4</th>\n",
       "      <td>594</td>\n",
       "      <td>169</td>\n",
       "      <td>4</td>\n",
       "      <td>74</td>\n",
       "      <td>51</td>\n",
       "      <td>35</td>\n",
       "      <td>11</td>\n",
       "      <td>4408</td>\n",
       "      <td>1133</td>\n",
       "      <td>19</td>\n",
       "      <td>501</td>\n",
       "      <td>336</td>\n",
       "      <td>194</td>\n",
       "      <td>A</td>\n",
       "      <td>W</td>\n",
       "      <td>282</td>\n",
       "      <td>421</td>\n",
       "      <td>25</td>\n",
       "      <td>750.0</td>\n",
       "      <td>A</td>\n",
       "    </tr>\n",
       "    <tr>\n",
       "      <th>...</th>\n",
       "      <td>...</td>\n",
       "      <td>...</td>\n",
       "      <td>...</td>\n",
       "      <td>...</td>\n",
       "      <td>...</td>\n",
       "      <td>...</td>\n",
       "      <td>...</td>\n",
       "      <td>...</td>\n",
       "      <td>...</td>\n",
       "      <td>...</td>\n",
       "      <td>...</td>\n",
       "      <td>...</td>\n",
       "      <td>...</td>\n",
       "      <td>...</td>\n",
       "      <td>...</td>\n",
       "      <td>...</td>\n",
       "      <td>...</td>\n",
       "      <td>...</td>\n",
       "      <td>...</td>\n",
       "      <td>...</td>\n",
       "    </tr>\n",
       "    <tr>\n",
       "      <th>258</th>\n",
       "      <td>497</td>\n",
       "      <td>127</td>\n",
       "      <td>7</td>\n",
       "      <td>65</td>\n",
       "      <td>48</td>\n",
       "      <td>37</td>\n",
       "      <td>5</td>\n",
       "      <td>2703</td>\n",
       "      <td>806</td>\n",
       "      <td>32</td>\n",
       "      <td>379</td>\n",
       "      <td>311</td>\n",
       "      <td>138</td>\n",
       "      <td>N</td>\n",
       "      <td>E</td>\n",
       "      <td>325</td>\n",
       "      <td>9</td>\n",
       "      <td>3</td>\n",
       "      <td>700.0</td>\n",
       "      <td>N</td>\n",
       "    </tr>\n",
       "    <tr>\n",
       "      <th>259</th>\n",
       "      <td>492</td>\n",
       "      <td>136</td>\n",
       "      <td>5</td>\n",
       "      <td>76</td>\n",
       "      <td>50</td>\n",
       "      <td>94</td>\n",
       "      <td>12</td>\n",
       "      <td>5511</td>\n",
       "      <td>1511</td>\n",
       "      <td>39</td>\n",
       "      <td>897</td>\n",
       "      <td>451</td>\n",
       "      <td>875</td>\n",
       "      <td>A</td>\n",
       "      <td>E</td>\n",
       "      <td>313</td>\n",
       "      <td>381</td>\n",
       "      <td>20</td>\n",
       "      <td>875.0</td>\n",
       "      <td>A</td>\n",
       "    </tr>\n",
       "    <tr>\n",
       "      <th>260</th>\n",
       "      <td>475</td>\n",
       "      <td>126</td>\n",
       "      <td>3</td>\n",
       "      <td>61</td>\n",
       "      <td>43</td>\n",
       "      <td>52</td>\n",
       "      <td>6</td>\n",
       "      <td>1700</td>\n",
       "      <td>433</td>\n",
       "      <td>7</td>\n",
       "      <td>217</td>\n",
       "      <td>93</td>\n",
       "      <td>146</td>\n",
       "      <td>A</td>\n",
       "      <td>W</td>\n",
       "      <td>37</td>\n",
       "      <td>113</td>\n",
       "      <td>7</td>\n",
       "      <td>385.0</td>\n",
       "      <td>A</td>\n",
       "    </tr>\n",
       "    <tr>\n",
       "      <th>261</th>\n",
       "      <td>573</td>\n",
       "      <td>144</td>\n",
       "      <td>9</td>\n",
       "      <td>85</td>\n",
       "      <td>60</td>\n",
       "      <td>78</td>\n",
       "      <td>8</td>\n",
       "      <td>3198</td>\n",
       "      <td>857</td>\n",
       "      <td>97</td>\n",
       "      <td>470</td>\n",
       "      <td>420</td>\n",
       "      <td>332</td>\n",
       "      <td>A</td>\n",
       "      <td>E</td>\n",
       "      <td>1314</td>\n",
       "      <td>131</td>\n",
       "      <td>12</td>\n",
       "      <td>960.0</td>\n",
       "      <td>A</td>\n",
       "    </tr>\n",
       "    <tr>\n",
       "      <th>262</th>\n",
       "      <td>631</td>\n",
       "      <td>170</td>\n",
       "      <td>9</td>\n",
       "      <td>77</td>\n",
       "      <td>44</td>\n",
       "      <td>31</td>\n",
       "      <td>11</td>\n",
       "      <td>4908</td>\n",
       "      <td>1457</td>\n",
       "      <td>30</td>\n",
       "      <td>775</td>\n",
       "      <td>357</td>\n",
       "      <td>249</td>\n",
       "      <td>A</td>\n",
       "      <td>W</td>\n",
       "      <td>408</td>\n",
       "      <td>4</td>\n",
       "      <td>3</td>\n",
       "      <td>1000.0</td>\n",
       "      <td>A</td>\n",
       "    </tr>\n",
       "  </tbody>\n",
       "</table>\n",
       "<p>263 rows × 20 columns</p>\n",
       "</div>"
      ],
      "text/plain": [
       "     AtBat  Hits  HmRun  Runs  RBI  Walks  Years  CAtBat  CHits  CHmRun  \\\n",
       "0      315    81      7    24   38     39     14    3449    835      69   \n",
       "1      479   130     18    66   72     76      3    1624    457      63   \n",
       "2      496   141     20    65   78     37     11    5628   1575     225   \n",
       "3      321    87     10    39   42     30      2     396    101      12   \n",
       "4      594   169      4    74   51     35     11    4408   1133      19   \n",
       "..     ...   ...    ...   ...  ...    ...    ...     ...    ...     ...   \n",
       "258    497   127      7    65   48     37      5    2703    806      32   \n",
       "259    492   136      5    76   50     94     12    5511   1511      39   \n",
       "260    475   126      3    61   43     52      6    1700    433       7   \n",
       "261    573   144      9    85   60     78      8    3198    857      97   \n",
       "262    631   170      9    77   44     31     11    4908   1457      30   \n",
       "\n",
       "     CRuns  CRBI  CWalks League Division  PutOuts  Assists  Errors  Salary  \\\n",
       "0      321   414     375      N        W      632       43      10   475.0   \n",
       "1      224   266     263      A        W      880       82      14   480.0   \n",
       "2      828   838     354      N        E      200       11       3   500.0   \n",
       "3       48    46      33      N        E      805       40       4    91.5   \n",
       "4      501   336     194      A        W      282      421      25   750.0   \n",
       "..     ...   ...     ...    ...      ...      ...      ...     ...     ...   \n",
       "258    379   311     138      N        E      325        9       3   700.0   \n",
       "259    897   451     875      A        E      313      381      20   875.0   \n",
       "260    217    93     146      A        W       37      113       7   385.0   \n",
       "261    470   420     332      A        E     1314      131      12   960.0   \n",
       "262    775   357     249      A        W      408        4       3  1000.0   \n",
       "\n",
       "    NewLeague  \n",
       "0           N  \n",
       "1           A  \n",
       "2           N  \n",
       "3           N  \n",
       "4           A  \n",
       "..        ...  \n",
       "258         N  \n",
       "259         A  \n",
       "260         A  \n",
       "261         A  \n",
       "262         A  \n",
       "\n",
       "[263 rows x 20 columns]"
      ]
     },
     "execution_count": 89,
     "metadata": {},
     "output_type": "execute_result"
    }
   ],
   "source": [
    "hitters = pd.read_csv(r'C:\\Users\\AleynaCihangir\\Desktop\\MarketPlace PowerBrands Projects\\Hitters.csv')\n",
    "df = hitters.copy()\n",
    "df = df.dropna()\n",
    "df.reset_index(drop=True, inplace=True)\n",
    "df"
   ]
  },
  {
   "cell_type": "markdown",
   "id": "d89e87b2-10a0-436d-86fb-8211710bd9e5",
   "metadata": {},
   "source": [
    "#### **Model**"
   ]
  },
  {
   "cell_type": "code",
   "execution_count": 92,
   "id": "1ed341ce-cb7a-409d-ba9d-8f342a652ab6",
   "metadata": {},
   "outputs": [
    {
     "data": {
      "text/plain": [
       "DecisionTreeRegressor()"
      ]
     },
     "execution_count": 92,
     "metadata": {},
     "output_type": "execute_result"
    }
   ],
   "source": [
    "X_train = pd.DataFrame(X_train[\"Hits\"])\n",
    "X_test = pd.DataFrame(X_test[\"Hits\"])\n",
    "cart_model = DecisionTreeRegressor(min_samples_split = 2)\n",
    "cart_model.fit(X_train, y_train)"
   ]
  },
  {
   "cell_type": "code",
   "execution_count": 103,
   "id": "f4af1666-aaf6-4e30-a04b-bd7d7146ca11",
   "metadata": {},
   "outputs": [
    {
     "data": {
      "image/png": "[encoded data removed]",
      "text/plain": [
       "<Figure size 1296x432 with 1 Axes>"
      ]
     },
     "metadata": {
      "needs_background": "light"
     },
     "output_type": "display_data"
    }
   ],
   "source": [
    "X_grid = np.arange(min(np.array(X_train)),max(np.array(X_train)), 0.01) \n",
    "X_grid = X_grid.reshape((len(X_grid), 1))  \n",
    "plt.figure(figsize=(18,6))\n",
    "plt.scatter(X_train, y_train, color = 'red') \n",
    "plt.plot(X_grid, cart_model.predict(X_grid), color = 'blue')  \n",
    "plt.title('CART REGRESSION TREE', fontsize=15, color=\"blue\")  \n",
    "plt.xlabel('Hits', fontsize=12, color=\"blue\") \n",
    "plt.ylabel('Salary', fontsize=12, color=\"blue\");"
   ]
  },
  {
   "cell_type": "markdown",
   "id": "d97a7f77-c6e4-47c9-b77e-58e31c86c9d3",
   "metadata": {},
   "source": [
    "#### **Predict**"
   ]
  },
  {
   "cell_type": "code",
   "execution_count": 113,
   "id": "21e27022-9797-41bc-999a-0a24c5481df9",
   "metadata": {},
   "outputs": [
    {
     "name": "stdout",
     "output_type": "stream",
     "text": [
      "\u001b[34m\u001b[1mRMSE: \u001b[0m 468.49579052913884\n"
     ]
    }
   ],
   "source": [
    "cart_model.predict(X_test)[0:5]\n",
    "y_pred =cart_model.predict(X_test)\n",
    "print(colored(\"\\033[1m\" + \"RMSE: \", \"blue\"), np.sqrt(mean_squared_error(y_test, y_pred))) "
   ]
  },
  {
   "cell_type": "markdown",
   "id": "ae164dd8-7cfb-4d05-9603-c18622a2524d",
   "metadata": {},
   "source": [
    "#### **Model Tuning**"
   ]
  },
  {
   "cell_type": "code",
   "execution_count": 118,
   "id": "01965d7f-e6b9-4fee-a95a-98f728528729",
   "metadata": {},
   "outputs": [
    {
     "name": "stdout",
     "output_type": "stream",
     "text": [
      "\u001b[34m\u001b[1mRMSE: \u001b[0m 468.49579052913884\n"
     ]
    },
    {
     "data": {
      "text/plain": [
       "GridSearchCV(cv=10, estimator=DecisionTreeRegressor(),\n",
       "             param_grid={'max_leaf_nodes': range(2, 10),\n",
       "                         'min_samples_split': range(2, 100)})"
      ]
     },
     "execution_count": 118,
     "metadata": {},
     "output_type": "execute_result"
    }
   ],
   "source": [
    "cart_model = DecisionTreeRegressor()\n",
    "cart_model.fit(X_train, y_train)\n",
    "y_pred = cart_model.predict(X_test)\n",
    "print(colored(\"\\033[1m\" + \"RMSE: \", \"blue\"), np.sqrt(mean_squared_error(y_test, y_pred))) \n",
    "cart_params = {\"min_samples_split\": range(2,100),\n",
    "               \"max_leaf_nodes\": range(2,10)}\n",
    "cart_cv_model = GridSearchCV(cart_model, cart_params, cv = 10)\n",
    "cart_cv_model.fit(X_train, y_train)"
   ]
  },
  {
   "cell_type": "code",
   "execution_count": 119,
   "id": "61c4d7bc-a84e-48b5-a6ad-7af05a75a17a",
   "metadata": {},
   "outputs": [
    {
     "name": "stdout",
     "output_type": "stream",
     "text": [
      "\u001b[34m\u001b[1mBest Parameters: \u001b[0m {'max_leaf_nodes': 9, 'min_samples_split': 76}\n"
     ]
    }
   ],
   "source": [
    "print(colored(\"\\033[1m\" + \"Best Parameters: \", \"blue\"), cart_cv_model.best_params_) "
   ]
  },
  {
   "cell_type": "code",
   "execution_count": null,
   "id": "51d9d142-b573-49a7-a030-af4de68d4b07",
   "metadata": {},
   "outputs": [],
   "source": []
  }
 ],
 "metadata": {
  "kernelspec": {
   "display_name": "Python 3 (ipykernel)",
   "language": "python",
   "name": "python3"
  },
  "language_info": {
   "codemirror_mode": {
    "name": "ipython",
    "version": 3
   },
   "file_extension": ".py",
   "mimetype": "text/x-python",
   "name": "python",
   "nbconvert_exporter": "python",
   "pygments_lexer": "ipython3",
   "version": "3.9.12"
  }
 },
 "nbformat": 4,
 "nbformat_minor": 5
}
