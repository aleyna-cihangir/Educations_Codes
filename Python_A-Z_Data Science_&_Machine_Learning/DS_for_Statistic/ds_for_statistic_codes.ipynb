{
 "cells": [
  {
   "cell_type": "code",
   "execution_count": 1,
   "id": "a0856b1b-9ad5-4580-bd82-7714a724d2c1",
   "metadata": {},
   "outputs": [
    {
     "name": "stdout",
     "output_type": "stream",
     "text": [
      "Requirement already satisfied: researchpy in c:\\users\\aleynacihangir\\anaconda3\\lib\\site-packages (0.3.2)\n",
      "Requirement already satisfied: numpy in c:\\users\\aleynacihangir\\anaconda3\\lib\\site-packages (from researchpy) (1.21.5)\n",
      "Requirement already satisfied: scipy in c:\\users\\aleynacihangir\\anaconda3\\lib\\site-packages (from researchpy) (1.7.3)\n",
      "Requirement already satisfied: statsmodels in c:\\users\\aleynacihangir\\anaconda3\\lib\\site-packages (from researchpy) (0.13.2)\n",
      "Requirement already satisfied: pandas in c:\\users\\aleynacihangir\\anaconda3\\lib\\site-packages (from researchpy) (1.4.2)\n",
      "Requirement already satisfied: patsy in c:\\users\\aleynacihangir\\anaconda3\\lib\\site-packages (from researchpy) (0.5.2)\n",
      "Requirement already satisfied: pytz>=2020.1 in c:\\users\\aleynacihangir\\anaconda3\\lib\\site-packages (from pandas->researchpy) (2021.3)\n",
      "Requirement already satisfied: python-dateutil>=2.8.1 in c:\\users\\aleynacihangir\\anaconda3\\lib\\site-packages (from pandas->researchpy) (2.8.2)\n",
      "Requirement already satisfied: six>=1.5 in c:\\users\\aleynacihangir\\anaconda3\\lib\\site-packages (from python-dateutil>=2.8.1->pandas->researchpy) (1.16.0)\n",
      "Requirement already satisfied: packaging>=21.3 in c:\\users\\aleynacihangir\\anaconda3\\lib\\site-packages (from statsmodels->researchpy) (21.3)\n",
      "Requirement already satisfied: pyparsing!=3.0.5,>=2.0.2 in c:\\users\\aleynacihangir\\anaconda3\\lib\\site-packages (from packaging>=21.3->statsmodels->researchpy) (3.0.4)\n",
      "Note: you may need to restart the kernel to use updated packages.\n"
     ]
    }
   ],
   "source": [
    "pip install researchpy"
   ]
  },
  {
   "cell_type": "markdown",
   "id": "64f0ee80-8967-40cd-9c07-b0450c1ca6ae",
   "metadata": {},
   "source": [
    "norm = normal distribution"
   ]
  },
  {
   "cell_type": "code",
   "execution_count": 105,
   "id": "46955fba-fc4c-41ec-8b24-2ca223b64018",
   "metadata": {},
   "outputs": [],
   "source": [
    "import numpy as np \n",
    "import pandas as pd\n",
    "from termcolor import colored\n",
    "import pylab\n",
    "import seaborn as sns \n",
    "import researchpy as rp\n",
    "import statsmodels.stats.api as sms #for statistic\n",
    "from scipy.stats.stats import pearsonr # for correlation \n",
    "from scipy.stats import bernoulli, binom, poisson, norm, stats, shapiro\n",
    "from statsmodels.stats.descriptivestats import sign_test\n",
    "from statsmodels.stats.proportion import proportions_ztest"
   ]
  },
  {
   "cell_type": "code",
   "execution_count": 3,
   "id": "a5723193-c15a-4222-9f36-7bfab280c337",
   "metadata": {},
   "outputs": [
    {
     "data": {
      "text/plain": [
       "array([33, 12, 41, 27, 45, 75, 58, 75, 16, 40])"
      ]
     },
     "execution_count": 3,
     "metadata": {},
     "output_type": "execute_result"
    }
   ],
   "source": [
    "# people from ages 0-80 years old\n",
    "population = np.random.randint(0,80,10000) \n",
    "population[0:10]"
   ]
  },
  {
   "cell_type": "markdown",
   "id": "a1444b47-0b59-4752-8757-15cd6eaf375a",
   "metadata": {},
   "source": [
    "**seed() is a function for the first structure from np.random(). in to next steps after that, will be same structure...**"
   ]
  },
  {
   "cell_type": "code",
   "execution_count": 4,
   "id": "745bbb8e-e965-49da-8ea3-0ccb50515e44",
   "metadata": {},
   "outputs": [
    {
     "data": {
      "text/plain": [
       "array([70, 22, 17, 20, 76, 18,  0, 25, 45,  6])"
      ]
     },
     "execution_count": 4,
     "metadata": {},
     "output_type": "execute_result"
    }
   ],
   "source": [
    "np.random.seed(115) \n",
    "samples = np.random.choice(a = population, size = 100)  \n",
    "samples[0:10]"
   ]
  },
  {
   "cell_type": "code",
   "execution_count": 5,
   "id": "f2de5486-09bb-4fa3-a916-948e1d627bc0",
   "metadata": {},
   "outputs": [
    {
     "name": "stdout",
     "output_type": "stream",
     "text": [
      "\u001b[34m\u001b[1mSamples : \u001b[0m 39.83\n",
      "\u001b[34m\u001b[1mPopulation : \u001b[0m 39.1272\n"
     ]
    }
   ],
   "source": [
    "print(colored(\"\\033[1m\" +\"Samples : \", \"blue\"), samples.mean())\n",
    "print(colored(\"\\033[1m\" +\"Population : \", \"blue\"), population.mean()) "
   ]
  },
  {
   "cell_type": "code",
   "execution_count": 6,
   "id": "79a22a51-0f8e-4ba1-94be-5854aaa05f5b",
   "metadata": {},
   "outputs": [
    {
     "data": {
      "text/html": [
       "<div>\n",
       "<style scoped>\n",
       "    .dataframe tbody tr th:only-of-type {\n",
       "        vertical-align: middle;\n",
       "    }\n",
       "\n",
       "    .dataframe tbody tr th {\n",
       "        vertical-align: top;\n",
       "    }\n",
       "\n",
       "    .dataframe thead th {\n",
       "        text-align: right;\n",
       "    }\n",
       "</style>\n",
       "<table border=\"1\" class=\"dataframe\">\n",
       "  <thead>\n",
       "    <tr style=\"text-align: right;\">\n",
       "      <th></th>\n",
       "      <th>total_bill</th>\n",
       "      <th>tip</th>\n",
       "      <th>sex</th>\n",
       "      <th>smoker</th>\n",
       "      <th>day</th>\n",
       "      <th>time</th>\n",
       "      <th>size</th>\n",
       "    </tr>\n",
       "  </thead>\n",
       "  <tbody>\n",
       "    <tr>\n",
       "      <th>0</th>\n",
       "      <td>16.99</td>\n",
       "      <td>1.01</td>\n",
       "      <td>Female</td>\n",
       "      <td>No</td>\n",
       "      <td>Sun</td>\n",
       "      <td>Dinner</td>\n",
       "      <td>2</td>\n",
       "    </tr>\n",
       "    <tr>\n",
       "      <th>1</th>\n",
       "      <td>10.34</td>\n",
       "      <td>1.66</td>\n",
       "      <td>Male</td>\n",
       "      <td>No</td>\n",
       "      <td>Sun</td>\n",
       "      <td>Dinner</td>\n",
       "      <td>3</td>\n",
       "    </tr>\n",
       "    <tr>\n",
       "      <th>2</th>\n",
       "      <td>21.01</td>\n",
       "      <td>3.50</td>\n",
       "      <td>Male</td>\n",
       "      <td>No</td>\n",
       "      <td>Sun</td>\n",
       "      <td>Dinner</td>\n",
       "      <td>3</td>\n",
       "    </tr>\n",
       "    <tr>\n",
       "      <th>3</th>\n",
       "      <td>23.68</td>\n",
       "      <td>3.31</td>\n",
       "      <td>Male</td>\n",
       "      <td>No</td>\n",
       "      <td>Sun</td>\n",
       "      <td>Dinner</td>\n",
       "      <td>2</td>\n",
       "    </tr>\n",
       "    <tr>\n",
       "      <th>4</th>\n",
       "      <td>24.59</td>\n",
       "      <td>3.61</td>\n",
       "      <td>Female</td>\n",
       "      <td>No</td>\n",
       "      <td>Sun</td>\n",
       "      <td>Dinner</td>\n",
       "      <td>4</td>\n",
       "    </tr>\n",
       "  </tbody>\n",
       "</table>\n",
       "</div>"
      ],
      "text/plain": [
       "   total_bill   tip     sex smoker  day    time  size\n",
       "0       16.99  1.01  Female     No  Sun  Dinner     2\n",
       "1       10.34  1.66    Male     No  Sun  Dinner     3\n",
       "2       21.01  3.50    Male     No  Sun  Dinner     3\n",
       "3       23.68  3.31    Male     No  Sun  Dinner     2\n",
       "4       24.59  3.61  Female     No  Sun  Dinner     4"
      ]
     },
     "execution_count": 6,
     "metadata": {},
     "output_type": "execute_result"
    }
   ],
   "source": [
    "# a dataset from seaborn \n",
    "df = sns.load_dataset(\"tips\")\n",
    "df.head() "
   ]
  },
  {
   "cell_type": "code",
   "execution_count": 7,
   "id": "520a4e4c-3c71-4aaf-b607-de785c79d9a4",
   "metadata": {},
   "outputs": [
    {
     "data": {
      "text/html": [
       "<div>\n",
       "<style scoped>\n",
       "    .dataframe tbody tr th:only-of-type {\n",
       "        vertical-align: middle;\n",
       "    }\n",
       "\n",
       "    .dataframe tbody tr th {\n",
       "        vertical-align: top;\n",
       "    }\n",
       "\n",
       "    .dataframe thead th {\n",
       "        text-align: right;\n",
       "    }\n",
       "</style>\n",
       "<table border=\"1\" class=\"dataframe\">\n",
       "  <thead>\n",
       "    <tr style=\"text-align: right;\">\n",
       "      <th></th>\n",
       "      <th>count</th>\n",
       "      <th>mean</th>\n",
       "      <th>std</th>\n",
       "      <th>min</th>\n",
       "      <th>25%</th>\n",
       "      <th>50%</th>\n",
       "      <th>75%</th>\n",
       "      <th>max</th>\n",
       "    </tr>\n",
       "  </thead>\n",
       "  <tbody>\n",
       "    <tr>\n",
       "      <th>total_bill</th>\n",
       "      <td>244.0</td>\n",
       "      <td>19.785943</td>\n",
       "      <td>8.902412</td>\n",
       "      <td>3.07</td>\n",
       "      <td>13.3475</td>\n",
       "      <td>17.795</td>\n",
       "      <td>24.1275</td>\n",
       "      <td>50.81</td>\n",
       "    </tr>\n",
       "    <tr>\n",
       "      <th>tip</th>\n",
       "      <td>244.0</td>\n",
       "      <td>2.998279</td>\n",
       "      <td>1.383638</td>\n",
       "      <td>1.00</td>\n",
       "      <td>2.0000</td>\n",
       "      <td>2.900</td>\n",
       "      <td>3.5625</td>\n",
       "      <td>10.00</td>\n",
       "    </tr>\n",
       "    <tr>\n",
       "      <th>size</th>\n",
       "      <td>244.0</td>\n",
       "      <td>2.569672</td>\n",
       "      <td>0.951100</td>\n",
       "      <td>1.00</td>\n",
       "      <td>2.0000</td>\n",
       "      <td>2.000</td>\n",
       "      <td>3.0000</td>\n",
       "      <td>6.00</td>\n",
       "    </tr>\n",
       "  </tbody>\n",
       "</table>\n",
       "</div>"
      ],
      "text/plain": [
       "            count       mean       std   min      25%     50%      75%    max\n",
       "total_bill  244.0  19.785943  8.902412  3.07  13.3475  17.795  24.1275  50.81\n",
       "tip         244.0   2.998279  1.383638  1.00   2.0000   2.900   3.5625  10.00\n",
       "size        244.0   2.569672  0.951100  1.00   2.0000   2.000   3.0000   6.00"
      ]
     },
     "execution_count": 7,
     "metadata": {},
     "output_type": "execute_result"
    }
   ],
   "source": [
    "df.describe().T"
   ]
  },
  {
   "cell_type": "markdown",
   "id": "d15d8484-3526-45e4-b6d5-eca1a810de01",
   "metadata": {},
   "source": [
    "**\"researchpy\" gives us more meaningful result**"
   ]
  },
  {
   "cell_type": "code",
   "execution_count": 8,
   "id": "9014e37f-ca9f-44d0-a2e3-d8069d595528",
   "metadata": {},
   "outputs": [
    {
     "name": "stdout",
     "output_type": "stream",
     "text": [
      "\n",
      "\n"
     ]
    },
    {
     "data": {
      "text/html": [
       "<div>\n",
       "<style scoped>\n",
       "    .dataframe tbody tr th:only-of-type {\n",
       "        vertical-align: middle;\n",
       "    }\n",
       "\n",
       "    .dataframe tbody tr th {\n",
       "        vertical-align: top;\n",
       "    }\n",
       "\n",
       "    .dataframe thead th {\n",
       "        text-align: right;\n",
       "    }\n",
       "</style>\n",
       "<table border=\"1\" class=\"dataframe\">\n",
       "  <thead>\n",
       "    <tr style=\"text-align: right;\">\n",
       "      <th></th>\n",
       "      <th>Variable</th>\n",
       "      <th>N</th>\n",
       "      <th>Mean</th>\n",
       "      <th>SD</th>\n",
       "      <th>SE</th>\n",
       "      <th>95% Conf.</th>\n",
       "      <th>Interval</th>\n",
       "    </tr>\n",
       "  </thead>\n",
       "  <tbody>\n",
       "    <tr>\n",
       "      <th>0</th>\n",
       "      <td>total_bill</td>\n",
       "      <td>244.0</td>\n",
       "      <td>19.7859</td>\n",
       "      <td>8.9024</td>\n",
       "      <td>0.5699</td>\n",
       "      <td>18.6633</td>\n",
       "      <td>20.9086</td>\n",
       "    </tr>\n",
       "    <tr>\n",
       "      <th>1</th>\n",
       "      <td>tip</td>\n",
       "      <td>244.0</td>\n",
       "      <td>2.9983</td>\n",
       "      <td>1.3836</td>\n",
       "      <td>0.0886</td>\n",
       "      <td>2.8238</td>\n",
       "      <td>3.1728</td>\n",
       "    </tr>\n",
       "    <tr>\n",
       "      <th>2</th>\n",
       "      <td>size</td>\n",
       "      <td>244.0</td>\n",
       "      <td>2.5697</td>\n",
       "      <td>0.9511</td>\n",
       "      <td>0.0609</td>\n",
       "      <td>2.4497</td>\n",
       "      <td>2.6896</td>\n",
       "    </tr>\n",
       "  </tbody>\n",
       "</table>\n",
       "</div>"
      ],
      "text/plain": [
       "     Variable      N     Mean      SD      SE  95% Conf.  Interval\n",
       "0  total_bill  244.0  19.7859  8.9024  0.5699    18.6633   20.9086\n",
       "1         tip  244.0   2.9983  1.3836  0.0886     2.8238    3.1728\n",
       "2        size  244.0   2.5697  0.9511  0.0609     2.4497    2.6896"
      ]
     },
     "execution_count": 8,
     "metadata": {},
     "output_type": "execute_result"
    }
   ],
   "source": [
    "# for numerical values \n",
    "rp.summary_cont(df[[\"total_bill\", \"tip\", \"size\"]])"
   ]
  },
  {
   "cell_type": "code",
   "execution_count": 9,
   "id": "edefda50-e195-40b1-8ef2-bddacda57758",
   "metadata": {},
   "outputs": [
    {
     "data": {
      "text/html": [
       "<div>\n",
       "<style scoped>\n",
       "    .dataframe tbody tr th:only-of-type {\n",
       "        vertical-align: middle;\n",
       "    }\n",
       "\n",
       "    .dataframe tbody tr th {\n",
       "        vertical-align: top;\n",
       "    }\n",
       "\n",
       "    .dataframe thead th {\n",
       "        text-align: right;\n",
       "    }\n",
       "</style>\n",
       "<table border=\"1\" class=\"dataframe\">\n",
       "  <thead>\n",
       "    <tr style=\"text-align: right;\">\n",
       "      <th></th>\n",
       "      <th>Variable</th>\n",
       "      <th>Outcome</th>\n",
       "      <th>Count</th>\n",
       "      <th>Percent</th>\n",
       "    </tr>\n",
       "  </thead>\n",
       "  <tbody>\n",
       "    <tr>\n",
       "      <th>0</th>\n",
       "      <td>sex</td>\n",
       "      <td>Male</td>\n",
       "      <td>157</td>\n",
       "      <td>64.34</td>\n",
       "    </tr>\n",
       "    <tr>\n",
       "      <th>1</th>\n",
       "      <td></td>\n",
       "      <td>Female</td>\n",
       "      <td>87</td>\n",
       "      <td>35.66</td>\n",
       "    </tr>\n",
       "    <tr>\n",
       "      <th>2</th>\n",
       "      <td>smoker</td>\n",
       "      <td>No</td>\n",
       "      <td>151</td>\n",
       "      <td>61.89</td>\n",
       "    </tr>\n",
       "    <tr>\n",
       "      <th>3</th>\n",
       "      <td></td>\n",
       "      <td>Yes</td>\n",
       "      <td>93</td>\n",
       "      <td>38.11</td>\n",
       "    </tr>\n",
       "    <tr>\n",
       "      <th>4</th>\n",
       "      <td>day</td>\n",
       "      <td>Sat</td>\n",
       "      <td>87</td>\n",
       "      <td>35.66</td>\n",
       "    </tr>\n",
       "    <tr>\n",
       "      <th>5</th>\n",
       "      <td></td>\n",
       "      <td>Sun</td>\n",
       "      <td>76</td>\n",
       "      <td>31.15</td>\n",
       "    </tr>\n",
       "    <tr>\n",
       "      <th>6</th>\n",
       "      <td></td>\n",
       "      <td>Thur</td>\n",
       "      <td>62</td>\n",
       "      <td>25.41</td>\n",
       "    </tr>\n",
       "    <tr>\n",
       "      <th>7</th>\n",
       "      <td></td>\n",
       "      <td>Fri</td>\n",
       "      <td>19</td>\n",
       "      <td>7.79</td>\n",
       "    </tr>\n",
       "  </tbody>\n",
       "</table>\n",
       "</div>"
      ],
      "text/plain": [
       "  Variable Outcome  Count  Percent\n",
       "0      sex    Male    157    64.34\n",
       "1           Female     87    35.66\n",
       "2   smoker      No    151    61.89\n",
       "3              Yes     93    38.11\n",
       "4      day     Sat     87    35.66\n",
       "5              Sun     76    31.15\n",
       "6             Thur     62    25.41\n",
       "7              Fri     19     7.79"
      ]
     },
     "execution_count": 9,
     "metadata": {},
     "output_type": "execute_result"
    }
   ],
   "source": [
    "# for categorical values \n",
    "rp.summary_cat(df[[\"sex\", \"smoker\", \"day\"]])"
   ]
  },
  {
   "cell_type": "code",
   "execution_count": 10,
   "id": "4233602b-ef67-40ff-9172-8acb27949ba5",
   "metadata": {},
   "outputs": [
    {
     "name": "stdout",
     "output_type": "stream",
     "text": [
      "\u001b[34m\u001b[1mCovariance : \u001b[0m \n",
      "             total_bill       tip\n",
      "total_bill   79.252939  8.323502\n",
      "tip           8.323502  1.914455\n",
      "\u001b[34m\u001b[1mCorrelation : \u001b[0m \n",
      "             total_bill       tip\n",
      "total_bill    1.000000  0.675734\n",
      "tip           0.675734  1.000000\n"
     ]
    }
   ],
   "source": [
    "print(colored(\"\\033[1m\" +\"Covariance : \", \"blue\"),\"\\n\", df[[\"total_bill\", \"tip\"]].cov())\n",
    "print(colored(\"\\033[1m\" +\"Correlation : \", \"blue\"),\"\\n\", df[[\"total_bill\", \"tip\"]].corr())"
   ]
  },
  {
   "cell_type": "code",
   "execution_count": 11,
   "id": "bf48d760-2423-4dda-b027-589ea930e896",
   "metadata": {},
   "outputs": [
    {
     "data": {
      "text/plain": [
       "53.97"
      ]
     },
     "execution_count": 11,
     "metadata": {},
     "output_type": "execute_result"
    }
   ],
   "source": [
    "prices = np.random.randint(10,100,1000) \n",
    "prices.mean() "
   ]
  },
  {
   "cell_type": "markdown",
   "id": "1f3e28c2-4087-4632-9b85-acad8ea130fe",
   "metadata": {},
   "source": [
    " **this prices are the customers who paid those price for the product with 95% confidence interval.  The other 5% want to paid diff price this product.** "
   ]
  },
  {
   "cell_type": "code",
   "execution_count": 12,
   "id": "32d42e5b-981f-4496-a652-20175f0b50db",
   "metadata": {},
   "outputs": [
    {
     "data": {
      "text/plain": [
       "(52.32869794836233, 55.611302051637665)"
      ]
     },
     "execution_count": 12,
     "metadata": {},
     "output_type": "execute_result"
    }
   ],
   "source": [
    "sms.DescrStatsW(prices).tconfint_mean() "
   ]
  },
  {
   "cell_type": "code",
   "execution_count": 20,
   "id": "9885c9e6-bf0a-459e-aff6-5193cdbbe660",
   "metadata": {},
   "outputs": [
    {
     "name": "stdout",
     "output_type": "stream",
     "text": [
      "\u001b[34m\u001b[1mProbability for 1 : \u001b[0m 0.36972963764972666\n",
      "\u001b[34m\u001b[1mProbability for 5 : \u001b[0m 0.002897787123761478\n",
      "\u001b[34m\u001b[1mProbability for 10 : \u001b[0m 7.006035693977194e-08\n"
     ]
    }
   ],
   "source": [
    "# Using Binom : \n",
    "\n",
    "p = 0.01\n",
    "n = 100\n",
    "rv = binom(n,p)\n",
    "print(colored(\"\\033[1m\" +\"Probability for 1 : \", \"blue\"), rv.pmf(1))\n",
    "print(colored(\"\\033[1m\" +\"Probability for 5 : \", \"blue\"), rv.pmf(5))\n",
    "print(colored(\"\\033[1m\" +\"Probability for 10 : \", \"blue\"), rv.pmf(10)) #0.00000007....."
   ]
  },
  {
   "cell_type": "code",
   "execution_count": 25,
   "id": "856a9a4b-a95f-4d94-89b0-2c3ee3e42d82",
   "metadata": {},
   "outputs": [
    {
     "name": "stdout",
     "output_type": "stream",
     "text": [
      "\u001b[34m\u001b[1mPoisson : \u001b[0m 0.9048374180359595\n",
      "\u001b[34m\u001b[1mPoisson : \u001b[0m 0.00015080623633932676\n",
      "\u001b[34m\u001b[1mPoisson : \u001b[0m 7.54031181696634e-08\n"
     ]
    }
   ],
   "source": [
    "# Using Poisson : \n",
    "\n",
    "lambda_ = 0.1 #mean of error numbers\n",
    "rv = poisson(mu=lambda_) # mu for lambda and create a poisson \n",
    "print(colored(\"\\033[1m\" +\"Poisson : \", \"blue\"), rv.pmf(k=0))\n",
    "print(colored(\"\\033[1m\" +\"Poisson : \", \"blue\"), rv.pmf(k=3))\n",
    "print(colored(\"\\033[1m\" +\"Poisson : \", \"blue\"), rv.pmf(k=5))"
   ]
  },
  {
   "cell_type": "code",
   "execution_count": 31,
   "id": "4adccdba-b3f3-4a7e-9b4c-4dbbb07bf971",
   "metadata": {},
   "outputs": [
    {
     "name": "stdout",
     "output_type": "stream",
     "text": [
      "\u001b[34m\u001b[1mMore than 90:\u001b[0m 0.02275013194817921\n",
      "\u001b[34m\u001b[1mMore than 70:\u001b[0m 0.9772498680518208\n",
      "\u001b[34m\u001b[1mLower than 73:\u001b[0m 0.08075665923377107\n",
      "\u001b[34m\u001b[1mBetween 85-90:\u001b[0m 0.13590512198327787\n"
     ]
    }
   ],
   "source": [
    "# Using Normal Distribution : \n",
    "1-norm.cdf(90, 80, 5) # 90= desired value 80= mean 5= standart dev. \n",
    "print(colored(\"\\033[1m\" +\"More than 90:\",\"blue\"), 1-norm.cdf(90, 80, 5))\n",
    "print(colored(\"\\033[1m\" +\"More than 70:\",\"blue\"), 1-norm.cdf(70, 80, 5))\n",
    "print(colored(\"\\033[1m\" +\"Lower than 73:\", \"blue\"), norm.cdf(73, 80, 5))\n",
    "print(colored(\"\\033[1m\" +\"Between 85-90:\", \"blue\"), norm.cdf(90, 80,5) - norm.cdf(85, 80, 5))\n"
   ]
  },
  {
   "cell_type": "markdown",
   "id": "be79f594-5928-4008-9aa6-c757b04ae8da",
   "metadata": {},
   "source": [
    "´**Product Purchase :**"
   ]
  },
  {
   "cell_type": "code",
   "execution_count": 32,
   "id": "682a2048-2b04-4868-a5ca-56384c825bf0",
   "metadata": {},
   "outputs": [],
   "source": [
    "measured = np.array([17, 160, 234, 149, 145, 107, 197, 75, 201, 225, 211, 119, \n",
    "              157, 145, 127, 244, 163, 114, 145,  65, 112, 185, 202, 146,\n",
    "              203, 224, 203, 114, 188, 156, 187, 154, 177, 95, 165, 50, 110, \n",
    "              216, 138, 151, 166, 135, 155, 84, 251, 173, 131, 207, 121, 120])"
   ]
  },
  {
   "cell_type": "code",
   "execution_count": 35,
   "id": "717c6a5c-a35a-4eeb-b951-ccd9ecd30900",
   "metadata": {},
   "outputs": [
    {
     "data": {
      "text/plain": [
       "DescribeResult(nobs=50, minmax=(17, 251), mean=154.38, variance=2578.0363265306123, skewness=-0.32398897278694483, kurtosis=-0.05849823498415985)"
      ]
     },
     "execution_count": 35,
     "metadata": {},
     "output_type": "execute_result"
    }
   ],
   "source": [
    "stats.describe(measured)"
   ]
  },
  {
   "cell_type": "code",
   "execution_count": 39,
   "id": "9c6bef9c-76fd-45c6-a940-2d84b07d4fbc",
   "metadata": {},
   "outputs": [
    {
     "data": {
      "image/png": "[encoded data removed]",
      "text/plain": [
       "<Figure size 432x288 with 1 Axes>"
      ]
     },
     "metadata": {
      "needs_background": "light"
     },
     "output_type": "display_data"
    }
   ],
   "source": [
    "# Check One Sample T Test \n",
    "\n",
    "pd.DataFrame(measured).plot.hist();"
   ]
  },
  {
   "cell_type": "code",
   "execution_count": 95,
   "id": "a96dbca3-e4ce-40f5-8cf2-e70529b149fb",
   "metadata": {},
   "outputs": [],
   "source": [
    "from scipy import stats # I take an error like : scipy.stats.stats has no attribute modul Probplot. \n",
    "# it has a one stats on that codes. "
   ]
  },
  {
   "cell_type": "code",
   "execution_count": 52,
   "id": "fa19de4a-4f06-4909-98a1-f6429dd99449",
   "metadata": {},
   "outputs": [
    {
     "data": {
      "image/png": "[encoded data removed]",
      "text/plain": [
       "<Figure size 432x288 with 1 Axes>"
      ]
     },
     "metadata": {
      "needs_background": "light"
     },
     "output_type": "display_data"
    }
   ],
   "source": [
    "stats.probplot(measured, dist=\"norm\", plot=pylab); "
   ]
  },
  {
   "cell_type": "code",
   "execution_count": 55,
   "id": "4d00ac70-e034-48d8-af0f-ec0349318770",
   "metadata": {},
   "outputs": [
    {
     "name": "stdout",
     "output_type": "stream",
     "text": [
      "\u001b[34m\u001b[1mT Statistic : \u001b[0m 0.9853105545043945\n",
      "\u001b[34m\u001b[1mCalculated P-Value : \u001b[0m 0.7848747968673706\n"
     ]
    }
   ],
   "source": [
    "# Shapiro-Wilks Test \n",
    "\n",
    "shapiro(measured)\n",
    "print(colored(\"\\033[1m\" +\"T Statistic : \", \"blue\"), shapiro(measured)[0])\n",
    "print(colored(\"\\033[1m\" +\"Calculated P-Value : \", \"blue\"), shapiro(measured)[1])"
   ]
  },
  {
   "cell_type": "code",
   "execution_count": 60,
   "id": "0662f165-0542-4fe4-9774-1c5bbb3111eb",
   "metadata": {},
   "outputs": [
    {
     "data": {
      "text/plain": [
       "Ttest_1sampResult(statistic=-2.1753117985877966, pvalue=0.034460415195071446)"
      ]
     },
     "execution_count": 60,
     "metadata": {},
     "output_type": "execute_result"
    }
   ],
   "source": [
    "# Hypothesis :\n",
    "\n",
    "stats.ttest_1samp(measured, popmean=170) "
   ]
  },
  {
   "cell_type": "code",
   "execution_count": 65,
   "id": "d0f4c091-32b8-4987-82b3-670885472088",
   "metadata": {},
   "outputs": [
    {
     "data": {
      "text/plain": [
       "(-3.7090151628513017, 0.0002080669689845979)"
      ]
     },
     "execution_count": 65,
     "metadata": {},
     "output_type": "execute_result"
    }
   ],
   "source": [
    "# One Sample Ratio Test \n",
    "\n",
    "count = 40\n",
    "nobs = 500 # number of observation\n",
    "value = 0.125 # H0 and H1 hypothesis \n",
    "proportions_ztest(count, nobs, value ) # "
   ]
  },
  {
   "cell_type": "code",
   "execution_count": 86,
   "id": "6021a996-4470-40c0-8fe8-6939d5febeb2",
   "metadata": {},
   "outputs": [
    {
     "data": {
      "text/html": [
       "<div>\n",
       "<style scoped>\n",
       "    .dataframe tbody tr th:only-of-type {\n",
       "        vertical-align: middle;\n",
       "    }\n",
       "\n",
       "    .dataframe tbody tr th {\n",
       "        vertical-align: top;\n",
       "    }\n",
       "\n",
       "    .dataframe thead th {\n",
       "        text-align: right;\n",
       "    }\n",
       "</style>\n",
       "<table border=\"1\" class=\"dataframe\">\n",
       "  <thead>\n",
       "    <tr style=\"text-align: right;\">\n",
       "      <th></th>\n",
       "      <th>A</th>\n",
       "      <th>B</th>\n",
       "    </tr>\n",
       "  </thead>\n",
       "  <tbody>\n",
       "    <tr>\n",
       "      <th>0</th>\n",
       "      <td>30</td>\n",
       "      <td>37</td>\n",
       "    </tr>\n",
       "    <tr>\n",
       "      <th>1</th>\n",
       "      <td>27</td>\n",
       "      <td>39</td>\n",
       "    </tr>\n",
       "    <tr>\n",
       "      <th>2</th>\n",
       "      <td>21</td>\n",
       "      <td>31</td>\n",
       "    </tr>\n",
       "    <tr>\n",
       "      <th>3</th>\n",
       "      <td>27</td>\n",
       "      <td>31</td>\n",
       "    </tr>\n",
       "    <tr>\n",
       "      <th>4</th>\n",
       "      <td>29</td>\n",
       "      <td>34</td>\n",
       "    </tr>\n",
       "  </tbody>\n",
       "</table>\n",
       "</div>"
      ],
      "text/plain": [
       "    A   B\n",
       "0  30  37\n",
       "1  27  39\n",
       "2  21  31\n",
       "3  27  31\n",
       "4  29  34"
      ]
     },
     "execution_count": 86,
     "metadata": {},
     "output_type": "execute_result"
    }
   ],
   "source": [
    "A = pd.DataFrame([30,27,21,27,29,30,20,20,27,32,35,22,24,23,25,27,23,27,23,25,21,18,24,26,33,26,27,28,19,25])\n",
    "B = pd.DataFrame([37,39,31,31,34,38,30,36,29,28,38,28,37,37,30,32,31,31,27,32,33,33,33,31,32,33,26,32,33,29])\n",
    "A_B = pd.concat([A, B], axis = 1)\n",
    "A_B.columns = [\"A\",\"B\"]\n",
    "A_B.head()"
   ]
  },
  {
   "cell_type": "code",
   "execution_count": 87,
   "id": "7438fffc-d6a8-4898-b5c2-59e5f3de72a0",
   "metadata": {},
   "outputs": [
    {
     "name": "stdout",
     "output_type": "stream",
     "text": [
      "   Income Group\n",
      "0      30     A\n",
      "1      27     A\n",
      "2      21     A\n",
      "3      27     A\n",
      "4      29     A \n",
      "     Income Group\n",
      "25      33     B\n",
      "26      26     B\n",
      "27      32     B\n",
      "28      33     B\n",
      "29      29     B\n"
     ]
    },
    {
     "data": {
      "image/png": "[encoded data removed]",
      "text/plain": [
       "<Figure size 432x288 with 1 Axes>"
      ]
     },
     "metadata": {
      "needs_background": "light"
     },
     "output_type": "display_data"
    }
   ],
   "source": [
    "group_A = pd.DataFrame(np.arange(len(A)))\n",
    "group_B = pd.DataFrame(np.arange(len(B)))\n",
    "group_A[:] = \"A\"\n",
    "group_B[:] = \"B\"\n",
    "A = pd.concat([A, group_A], axis=1)\n",
    "B = pd.concat([B, group_B], axis=1)\n",
    "AB = pd.concat([A,B])\n",
    "AB.columns = [\"Income\", \"Group\"]\n",
    "print( AB.head(), \"\\n\", AB.tail())\n",
    "sns.boxplot(x=\"Group\", y =\"Income\", data = AB);"
   ]
  },
  {
   "cell_type": "code",
   "execution_count": 99,
   "id": "9e0a7719-03de-400d-a442-9f9ba6ed5a2d",
   "metadata": {},
   "outputs": [
    {
     "data": {
      "text/plain": [
       "Ttest_indResult(statistic=-7.028690967745927, pvalue=2.6233215605475075e-09)"
      ]
     },
     "execution_count": 99,
     "metadata": {},
     "output_type": "execute_result"
    }
   ],
   "source": [
    "# Independent 2 Samples T Test : \n",
    "shapiro(A_B.A)  # normalization for A \n",
    "\n",
    "# Varianca Homogeneous Assumption : \n",
    "stats.levene(A_B.A, A_B.B)\n",
    "\n",
    "stats.ttest_ind(A_B[\"A\"],A_B[\"B\"], equal_var= True ) # p-value > 0.05"
   ]
  },
  {
   "cell_type": "code",
   "execution_count": 102,
   "id": "4c0406a2-ee24-40c5-bbb1-3423b394d697",
   "metadata": {},
   "outputs": [],
   "source": [
    "# Effect Education Sample :\n",
    "\n",
    "before = pd.DataFrame([123,119,119,116,123,123,121,120,117,118,121,121,123,119,121,118,124,121,125,115,115,119,118,121,117,117,120,120,121,117,118,117,123,118,124,121,115,118,125,115])\n",
    "after = pd.DataFrame([118,127,122,132,129,123,129,132,128,130,128,138,140,130,134,134,124,140,134,129,129,138,134,124,122,126,133,127,130,130,130,132,117,130,125,129,133,120,127,123])"
   ]
  },
  {
   "cell_type": "code",
   "execution_count": 104,
   "id": "15552b3f-9117-48f2-8dcd-2cf9730c954a",
   "metadata": {},
   "outputs": [
    {
     "name": "stdout",
     "output_type": "stream",
     "text": [
      "     0\n",
      "0  123\n",
      "1  119\n",
      "2  119\n",
      "3  116\n",
      "4  123 \n",
      "      0\n",
      "0  118\n",
      "1  127\n",
      "2  122\n",
      "3  132\n",
      "4  129\n"
     ]
    }
   ],
   "source": [
    "print( before[0:5], \"\\n\", after[0:5])"
   ]
  },
  {
   "cell_type": "code",
   "execution_count": 108,
   "id": "f67df75f-d9e3-4ac2-aa89-86040b2a3dbc",
   "metadata": {},
   "outputs": [
    {
     "data": {
      "text/plain": [
       "(3.7857863233209255, 0.0001532232957772221)"
      ]
     },
     "execution_count": 108,
     "metadata": {},
     "output_type": "execute_result"
    }
   ],
   "source": [
    "# 2 Samples Ratio Test :\n",
    "\n",
    "num_succes = np.array([300, 250])\n",
    "num_observation = np.array([1000, 1100])\n",
    "proportions_ztest(count = num_succes, nobs= num_observation) # to reject hypothesis "
   ]
  },
  {
   "cell_type": "code",
   "execution_count": null,
   "id": "877e854a-c430-4d2d-a314-de0b671116b5",
   "metadata": {},
   "outputs": [],
   "source": []
  }
 ],
 "metadata": {
  "kernelspec": {
   "display_name": "Python 3 (ipykernel)",
   "language": "python",
   "name": "python3"
  },
  "language_info": {
   "codemirror_mode": {
    "name": "ipython",
    "version": 3
   },
   "file_extension": ".py",
   "mimetype": "text/x-python",
   "name": "python",
   "nbconvert_exporter": "python",
   "pygments_lexer": "ipython3",
   "version": "3.9.12"
  }
 },
 "nbformat": 4,
 "nbformat_minor": 5
}
